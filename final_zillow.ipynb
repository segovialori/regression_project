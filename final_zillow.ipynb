{
 "cells": [
  {
   "cell_type": "markdown",
   "metadata": {},
   "source": [
    "#### March 25, 2021\n",
    "#### Lori Segovia\n"
   ]
  },
  {
   "cell_type": "markdown",
   "metadata": {},
   "source": [
    "![Image of Zillow Logo](https://theme.zdassets.com/theme_assets/512712/5675f10a90572d0f4140b0b39e72e4905bce34ee.jpg)"
   ]
  },
  {
   "cell_type": "markdown",
   "metadata": {},
   "source": [
    "# <span style=\"color:black;\"> Estimating Home Value </span>\n"
   ]
  },
  {
   "cell_type": "markdown",
   "metadata": {},
   "source": [
    "## <span style=\"color:royalblue;\"> Goals </span>\n",
    "* Predict values of single unit properties that the tax distict assess using the property data from those whose last transaction was during May 2017 - August 2017\n",
    "* Obtain States and Counties of properties\n",
    "* Obtain tax rates for each country\n",
    "* Provide distribution of tax rates for each county"
   ]
  },
  {
   "cell_type": "markdown",
   "metadata": {},
   "source": [
    "## <span style=\"color:royalblue;\"> Executive Summary </span>"
   ]
  },
  {
   "cell_type": "markdown",
   "metadata": {},
   "source": [
    "## <span style=\"color:royalblue;\"> Hypotheses </span>\n",
    "**1.  There is not a linear correlation between square footage of home and tax value.**\n",
    "**2.  There**"
   ]
  },
  {
   "cell_type": "markdown",
   "metadata": {},
   "source": [
    "## <span style=\"color:royalblue;\"> Acquire </span>"
   ]
  },
  {
   "cell_type": "markdown",
   "metadata": {},
   "source": [
    "- Zillow data was queried from Codeup mysql database"
   ]
  },
  {
   "cell_type": "markdown",
   "metadata": {},
   "source": [
    "#### Imports"
   ]
  },
  {
   "cell_type": "code",
   "execution_count": 1,
   "metadata": {},
   "outputs": [],
   "source": [
    "## python files that contain the functions to aquire and prep the data\n",
    "import wrangle\n",
    "import pandas as pd\n",
    "import numpy as np\n",
    "\n",
    "# import python libraries\n",
    "import pandas as pd\n",
    "import numpy as np\n",
    "import matplotlib.pyplot as plt\n",
    "import seaborn as sns\n",
    "from scipy import stats\n",
    "\n",
    "# scikit learn\n",
    "from sklearn.metrics import mean_squared_error\n",
    "from sklearn.linear_model import LinearRegression, LassoLars\n",
    "from sklearn.preprocessing import PolynomialFeatures\n",
    "from sklearn.model_selection import train_test_split\n",
    "import sklearn.preprocessing\n",
    "\n",
    "#visulization settings\n",
    "import graphviz\n",
    "from sklearn.tree import export_graphviz\n",
    "import matplotlib.style as style \n",
    "style.available\n",
    "style.use('seaborn-talk') #sets the size of the charts\n",
    "style.use('seaborn-colorblind') #sets color of charts\n",
    "\n",
    "#warnings\n",
    "import warnings\n",
    "warnings.filterwarnings(\"ignore\")"
   ]
  },
  {
   "cell_type": "code",
   "execution_count": 32,
   "metadata": {},
   "outputs": [],
   "source": [
    "df = wrangle.clean_zillow(wrangle.acquire_zillow())"
   ]
  },
  {
   "cell_type": "code",
   "execution_count": 33,
   "metadata": {},
   "outputs": [
    {
     "data": {
      "text/html": [
       "<div>\n",
       "<style scoped>\n",
       "    .dataframe tbody tr th:only-of-type {\n",
       "        vertical-align: middle;\n",
       "    }\n",
       "\n",
       "    .dataframe tbody tr th {\n",
       "        vertical-align: top;\n",
       "    }\n",
       "\n",
       "    .dataframe thead th {\n",
       "        text-align: right;\n",
       "    }\n",
       "</style>\n",
       "<table border=\"1\" class=\"dataframe\">\n",
       "  <thead>\n",
       "    <tr style=\"text-align: right;\">\n",
       "      <th></th>\n",
       "      <th>parcelid</th>\n",
       "      <th>bedrooms</th>\n",
       "      <th>bathrooms</th>\n",
       "      <th>yearbuilt</th>\n",
       "      <th>county</th>\n",
       "      <th>zip_code</th>\n",
       "      <th>fips</th>\n",
       "      <th>latitude</th>\n",
       "      <th>longitude</th>\n",
       "      <th>square_feet</th>\n",
       "      <th>taxamount</th>\n",
       "      <th>tax_value</th>\n",
       "      <th>property_age</th>\n",
       "      <th>tax_rate</th>\n",
       "    </tr>\n",
       "  </thead>\n",
       "  <tbody>\n",
       "    <tr>\n",
       "      <th>0</th>\n",
       "      <td>14297519</td>\n",
       "      <td>4</td>\n",
       "      <td>3.5</td>\n",
       "      <td>1998</td>\n",
       "      <td>1286</td>\n",
       "      <td>96978</td>\n",
       "      <td>6059</td>\n",
       "      <td>33634931</td>\n",
       "      <td>-117869207</td>\n",
       "      <td>3100.0</td>\n",
       "      <td>11013.72</td>\n",
       "      <td>1023282.0</td>\n",
       "      <td>23</td>\n",
       "      <td>0.010763</td>\n",
       "    </tr>\n",
       "    <tr>\n",
       "      <th>1</th>\n",
       "      <td>17052889</td>\n",
       "      <td>2</td>\n",
       "      <td>1.0</td>\n",
       "      <td>1967</td>\n",
       "      <td>2061</td>\n",
       "      <td>97099</td>\n",
       "      <td>6111</td>\n",
       "      <td>34449266</td>\n",
       "      <td>-119281531</td>\n",
       "      <td>1465.0</td>\n",
       "      <td>5672.48</td>\n",
       "      <td>464000.0</td>\n",
       "      <td>54</td>\n",
       "      <td>0.012225</td>\n",
       "    </tr>\n",
       "    <tr>\n",
       "      <th>2</th>\n",
       "      <td>14186244</td>\n",
       "      <td>3</td>\n",
       "      <td>2.0</td>\n",
       "      <td>1962</td>\n",
       "      <td>1286</td>\n",
       "      <td>97078</td>\n",
       "      <td>6059</td>\n",
       "      <td>33886168</td>\n",
       "      <td>-117823170</td>\n",
       "      <td>1243.0</td>\n",
       "      <td>6488.30</td>\n",
       "      <td>564778.0</td>\n",
       "      <td>59</td>\n",
       "      <td>0.011488</td>\n",
       "    </tr>\n",
       "    <tr>\n",
       "      <th>3</th>\n",
       "      <td>12177905</td>\n",
       "      <td>4</td>\n",
       "      <td>3.0</td>\n",
       "      <td>1970</td>\n",
       "      <td>3101</td>\n",
       "      <td>96330</td>\n",
       "      <td>6037</td>\n",
       "      <td>34245180</td>\n",
       "      <td>-118240722</td>\n",
       "      <td>2376.0</td>\n",
       "      <td>1777.51</td>\n",
       "      <td>145143.0</td>\n",
       "      <td>51</td>\n",
       "      <td>0.012247</td>\n",
       "    </tr>\n",
       "    <tr>\n",
       "      <th>4</th>\n",
       "      <td>10887214</td>\n",
       "      <td>3</td>\n",
       "      <td>3.0</td>\n",
       "      <td>1964</td>\n",
       "      <td>3101</td>\n",
       "      <td>96451</td>\n",
       "      <td>6037</td>\n",
       "      <td>34185120</td>\n",
       "      <td>-118414640</td>\n",
       "      <td>1312.0</td>\n",
       "      <td>1533.89</td>\n",
       "      <td>119407.0</td>\n",
       "      <td>57</td>\n",
       "      <td>0.012846</td>\n",
       "    </tr>\n",
       "  </tbody>\n",
       "</table>\n",
       "</div>"
      ],
      "text/plain": [
       "   parcelid  bedrooms  bathrooms  yearbuilt  county  zip_code  fips  latitude  \\\n",
       "0  14297519         4        3.5       1998    1286     96978  6059  33634931   \n",
       "1  17052889         2        1.0       1967    2061     97099  6111  34449266   \n",
       "2  14186244         3        2.0       1962    1286     97078  6059  33886168   \n",
       "3  12177905         4        3.0       1970    3101     96330  6037  34245180   \n",
       "4  10887214         3        3.0       1964    3101     96451  6037  34185120   \n",
       "\n",
       "   longitude  square_feet  taxamount  tax_value  property_age  tax_rate  \n",
       "0 -117869207       3100.0   11013.72  1023282.0            23  0.010763  \n",
       "1 -119281531       1465.0    5672.48   464000.0            54  0.012225  \n",
       "2 -117823170       1243.0    6488.30   564778.0            59  0.011488  \n",
       "3 -118240722       2376.0    1777.51   145143.0            51  0.012247  \n",
       "4 -118414640       1312.0    1533.89   119407.0            57  0.012846  "
      ]
     },
     "execution_count": 33,
     "metadata": {},
     "output_type": "execute_result"
    }
   ],
   "source": [
    "df.head()"
   ]
  },
  {
   "cell_type": "code",
   "execution_count": 34,
   "metadata": {},
   "outputs": [
    {
     "data": {
      "text/html": [
       "<div>\n",
       "<style scoped>\n",
       "    .dataframe tbody tr th:only-of-type {\n",
       "        vertical-align: middle;\n",
       "    }\n",
       "\n",
       "    .dataframe tbody tr th {\n",
       "        vertical-align: top;\n",
       "    }\n",
       "\n",
       "    .dataframe thead th {\n",
       "        text-align: right;\n",
       "    }\n",
       "</style>\n",
       "<table border=\"1\" class=\"dataframe\">\n",
       "  <thead>\n",
       "    <tr style=\"text-align: right;\">\n",
       "      <th></th>\n",
       "      <th>parcelid</th>\n",
       "      <th>bedrooms</th>\n",
       "      <th>bathrooms</th>\n",
       "      <th>yearbuilt</th>\n",
       "      <th>county</th>\n",
       "      <th>zip_code</th>\n",
       "      <th>fips</th>\n",
       "      <th>latitude</th>\n",
       "      <th>longitude</th>\n",
       "      <th>square_feet</th>\n",
       "      <th>taxamount</th>\n",
       "      <th>tax_value</th>\n",
       "      <th>property_age</th>\n",
       "      <th>tax_rate</th>\n",
       "    </tr>\n",
       "  </thead>\n",
       "  <tbody>\n",
       "    <tr>\n",
       "      <th>count</th>\n",
       "      <td>7.725300e+04</td>\n",
       "      <td>77253.00000</td>\n",
       "      <td>77253.000000</td>\n",
       "      <td>77253.000000</td>\n",
       "      <td>77253.000000</td>\n",
       "      <td>77253.000000</td>\n",
       "      <td>77253.000000</td>\n",
       "      <td>7.725300e+04</td>\n",
       "      <td>7.725300e+04</td>\n",
       "      <td>77253.000000</td>\n",
       "      <td>77253.000000</td>\n",
       "      <td>7.725300e+04</td>\n",
       "      <td>77253.000000</td>\n",
       "      <td>77253.000000</td>\n",
       "    </tr>\n",
       "    <tr>\n",
       "      <th>mean</th>\n",
       "      <td>1.295362e+07</td>\n",
       "      <td>3.06115</td>\n",
       "      <td>2.304254</td>\n",
       "      <td>1968.598799</td>\n",
       "      <td>2535.858905</td>\n",
       "      <td>96586.484033</td>\n",
       "      <td>6048.770261</td>\n",
       "      <td>3.400856e+07</td>\n",
       "      <td>-1.182035e+08</td>\n",
       "      <td>1784.127568</td>\n",
       "      <td>5977.930106</td>\n",
       "      <td>4.886524e+05</td>\n",
       "      <td>52.401201</td>\n",
       "      <td>0.013167</td>\n",
       "    </tr>\n",
       "    <tr>\n",
       "      <th>std</th>\n",
       "      <td>2.149332e+06</td>\n",
       "      <td>1.12984</td>\n",
       "      <td>0.990168</td>\n",
       "      <td>23.786244</td>\n",
       "      <td>801.100915</td>\n",
       "      <td>3800.227667</td>\n",
       "      <td>20.707202</td>\n",
       "      <td>2.652595e+05</td>\n",
       "      <td>3.588717e+05</td>\n",
       "      <td>953.267975</td>\n",
       "      <td>7576.150343</td>\n",
       "      <td>6.499134e+05</td>\n",
       "      <td>23.786244</td>\n",
       "      <td>0.005758</td>\n",
       "    </tr>\n",
       "    <tr>\n",
       "      <th>min</th>\n",
       "      <td>1.071186e+07</td>\n",
       "      <td>0.00000</td>\n",
       "      <td>0.000000</td>\n",
       "      <td>1824.000000</td>\n",
       "      <td>1286.000000</td>\n",
       "      <td>95982.000000</td>\n",
       "      <td>6037.000000</td>\n",
       "      <td>3.333953e+07</td>\n",
       "      <td>-1.194753e+08</td>\n",
       "      <td>128.000000</td>\n",
       "      <td>19.920000</td>\n",
       "      <td>1.000000e+03</td>\n",
       "      <td>5.000000</td>\n",
       "      <td>0.000094</td>\n",
       "    </tr>\n",
       "    <tr>\n",
       "      <th>25%</th>\n",
       "      <td>1.153582e+07</td>\n",
       "      <td>2.00000</td>\n",
       "      <td>2.000000</td>\n",
       "      <td>1953.000000</td>\n",
       "      <td>1286.000000</td>\n",
       "      <td>96193.000000</td>\n",
       "      <td>6037.000000</td>\n",
       "      <td>3.381480e+07</td>\n",
       "      <td>-1.184150e+08</td>\n",
       "      <td>1182.000000</td>\n",
       "      <td>2714.890000</td>\n",
       "      <td>2.070000e+05</td>\n",
       "      <td>34.000000</td>\n",
       "      <td>0.011662</td>\n",
       "    </tr>\n",
       "    <tr>\n",
       "      <th>50%</th>\n",
       "      <td>1.252847e+07</td>\n",
       "      <td>3.00000</td>\n",
       "      <td>2.000000</td>\n",
       "      <td>1970.000000</td>\n",
       "      <td>3101.000000</td>\n",
       "      <td>96389.000000</td>\n",
       "      <td>6037.000000</td>\n",
       "      <td>3.402210e+07</td>\n",
       "      <td>-1.181809e+08</td>\n",
       "      <td>1541.000000</td>\n",
       "      <td>4447.620000</td>\n",
       "      <td>3.587690e+05</td>\n",
       "      <td>51.000000</td>\n",
       "      <td>0.012286</td>\n",
       "    </tr>\n",
       "    <tr>\n",
       "      <th>75%</th>\n",
       "      <td>1.420782e+07</td>\n",
       "      <td>4.00000</td>\n",
       "      <td>3.000000</td>\n",
       "      <td>1987.000000</td>\n",
       "      <td>3101.000000</td>\n",
       "      <td>96987.000000</td>\n",
       "      <td>6059.000000</td>\n",
       "      <td>3.417436e+07</td>\n",
       "      <td>-1.179290e+08</td>\n",
       "      <td>2110.000000</td>\n",
       "      <td>6920.740000</td>\n",
       "      <td>5.685390e+05</td>\n",
       "      <td>68.000000</td>\n",
       "      <td>0.013455</td>\n",
       "    </tr>\n",
       "    <tr>\n",
       "      <th>max</th>\n",
       "      <td>1.629608e+08</td>\n",
       "      <td>16.00000</td>\n",
       "      <td>18.000000</td>\n",
       "      <td>2016.000000</td>\n",
       "      <td>3101.000000</td>\n",
       "      <td>399675.000000</td>\n",
       "      <td>6111.000000</td>\n",
       "      <td>3.481877e+07</td>\n",
       "      <td>-1.175546e+08</td>\n",
       "      <td>35640.000000</td>\n",
       "      <td>586639.300000</td>\n",
       "      <td>4.906124e+07</td>\n",
       "      <td>197.000000</td>\n",
       "      <td>0.816490</td>\n",
       "    </tr>\n",
       "  </tbody>\n",
       "</table>\n",
       "</div>"
      ],
      "text/plain": [
       "           parcelid     bedrooms     bathrooms     yearbuilt        county  \\\n",
       "count  7.725300e+04  77253.00000  77253.000000  77253.000000  77253.000000   \n",
       "mean   1.295362e+07      3.06115      2.304254   1968.598799   2535.858905   \n",
       "std    2.149332e+06      1.12984      0.990168     23.786244    801.100915   \n",
       "min    1.071186e+07      0.00000      0.000000   1824.000000   1286.000000   \n",
       "25%    1.153582e+07      2.00000      2.000000   1953.000000   1286.000000   \n",
       "50%    1.252847e+07      3.00000      2.000000   1970.000000   3101.000000   \n",
       "75%    1.420782e+07      4.00000      3.000000   1987.000000   3101.000000   \n",
       "max    1.629608e+08     16.00000     18.000000   2016.000000   3101.000000   \n",
       "\n",
       "            zip_code          fips      latitude     longitude   square_feet  \\\n",
       "count   77253.000000  77253.000000  7.725300e+04  7.725300e+04  77253.000000   \n",
       "mean    96586.484033   6048.770261  3.400856e+07 -1.182035e+08   1784.127568   \n",
       "std      3800.227667     20.707202  2.652595e+05  3.588717e+05    953.267975   \n",
       "min     95982.000000   6037.000000  3.333953e+07 -1.194753e+08    128.000000   \n",
       "25%     96193.000000   6037.000000  3.381480e+07 -1.184150e+08   1182.000000   \n",
       "50%     96389.000000   6037.000000  3.402210e+07 -1.181809e+08   1541.000000   \n",
       "75%     96987.000000   6059.000000  3.417436e+07 -1.179290e+08   2110.000000   \n",
       "max    399675.000000   6111.000000  3.481877e+07 -1.175546e+08  35640.000000   \n",
       "\n",
       "           taxamount     tax_value  property_age      tax_rate  \n",
       "count   77253.000000  7.725300e+04  77253.000000  77253.000000  \n",
       "mean     5977.930106  4.886524e+05     52.401201      0.013167  \n",
       "std      7576.150343  6.499134e+05     23.786244      0.005758  \n",
       "min        19.920000  1.000000e+03      5.000000      0.000094  \n",
       "25%      2714.890000  2.070000e+05     34.000000      0.011662  \n",
       "50%      4447.620000  3.587690e+05     51.000000      0.012286  \n",
       "75%      6920.740000  5.685390e+05     68.000000      0.013455  \n",
       "max    586639.300000  4.906124e+07    197.000000      0.816490  "
      ]
     },
     "execution_count": 34,
     "metadata": {},
     "output_type": "execute_result"
    }
   ],
   "source": [
    "df.describe()"
   ]
  },
  {
   "cell_type": "code",
   "execution_count": 35,
   "metadata": {},
   "outputs": [
    {
     "name": "stdout",
     "output_type": "stream",
     "text": [
      "<class 'pandas.core.frame.DataFrame'>\n",
      "Int64Index: 77253 entries, 0 to 77613\n",
      "Data columns (total 14 columns):\n",
      " #   Column        Non-Null Count  Dtype  \n",
      "---  ------        --------------  -----  \n",
      " 0   parcelid      77253 non-null  int64  \n",
      " 1   bedrooms      77253 non-null  int64  \n",
      " 2   bathrooms     77253 non-null  float64\n",
      " 3   yearbuilt     77253 non-null  int64  \n",
      " 4   county        77253 non-null  int64  \n",
      " 5   zip_code      77253 non-null  int64  \n",
      " 6   fips          77253 non-null  int64  \n",
      " 7   latitude      77253 non-null  int64  \n",
      " 8   longitude     77253 non-null  int64  \n",
      " 9   square_feet   77253 non-null  float64\n",
      " 10  taxamount     77253 non-null  float64\n",
      " 11  tax_value     77253 non-null  float64\n",
      " 12  property_age  77253 non-null  int64  \n",
      " 13  tax_rate      77253 non-null  float64\n",
      "dtypes: float64(5), int64(9)\n",
      "memory usage: 8.8 MB\n"
     ]
    }
   ],
   "source": [
    "df.info()"
   ]
  },
  {
   "cell_type": "code",
   "execution_count": 36,
   "metadata": {},
   "outputs": [
    {
     "data": {
      "text/plain": [
       "(77253, 14)"
      ]
     },
     "execution_count": 36,
     "metadata": {},
     "output_type": "execute_result"
    }
   ],
   "source": [
    "df.shape"
   ]
  },
  {
   "cell_type": "markdown",
   "metadata": {},
   "source": [
    "## <span style=\"color:royalblue;\"> Additional Info (outside of the model) </span>"
   ]
  },
  {
   "cell_type": "markdown",
   "metadata": {},
   "source": [
    "- states and counties the properties are located in\n",
    "- distribution of tax rates for each county \n",
    "- distribution of tax rates for each county so that we can see how much they vary within the properties in the county and the rates the bulk of the properties sit around"
   ]
  },
  {
   "cell_type": "markdown",
   "metadata": {},
   "source": [
    "### States and Counties of Properties"
   ]
  },
  {
   "cell_type": "markdown",
   "metadata": {},
   "source": [
    "#### The Federal Information Processing Standard Publication 6-4 (FIPS 6-4) was a five-digit Federal Information Processing Standards code which uniquely identified counties and county equivalents in the United States, certain U.S. possessions, and certain freely associated states.  These are the location of the following States and Counties obtained from looking up FIPS code:\n",
    "* Los Angeles County, California (6037)\n",
    "* Orange County, California (6059)\n",
    "* Ventura County, California (6111)"
   ]
  },
  {
   "cell_type": "code",
   "execution_count": 37,
   "metadata": {},
   "outputs": [
    {
     "data": {
      "text/plain": [
       "6037    50555\n",
       "6059    20507\n",
       "6111     6191\n",
       "Name: fips, dtype: int64"
      ]
     },
     "execution_count": 37,
     "metadata": {},
     "output_type": "execute_result"
    }
   ],
   "source": [
    "df.fips.value_counts()"
   ]
  },
  {
   "cell_type": "code",
   "execution_count": 38,
   "metadata": {},
   "outputs": [
    {
     "data": {
      "text/plain": [
       "6037    0.654408\n",
       "6059    0.265452\n",
       "6111    0.080139\n",
       "Name: fips, dtype: float64"
      ]
     },
     "execution_count": 38,
     "metadata": {},
     "output_type": "execute_result"
    }
   ],
   "source": [
    "df.fips.value_counts(normalize=True)"
   ]
  },
  {
   "cell_type": "code",
   "execution_count": 39,
   "metadata": {},
   "outputs": [
    {
     "data": {
      "image/png": "[encoded data removed]",
      "text/plain": [
       "<Figure size 748.8x514.8 with 1 Axes>"
      ]
     },
     "metadata": {
      "needs_background": "light"
     },
     "output_type": "display_data"
    }
   ],
   "source": [
    "plt.title('Number of Properties Per County')\n",
    "sns.countplot(df.fips)\n",
    "plt.xlabel('California Counties')\n",
    "plt.ylabel('Number of Properties')\n",
    "plt.show()"
   ]
  },
  {
   "cell_type": "code",
   "execution_count": 40,
   "metadata": {},
   "outputs": [],
   "source": [
    "#Change fips to county names now that we know where they come from\n",
    "df.rename(columns={\"fips\": \"ca_county\"}, inplace=True)\n"
   ]
  },
  {
   "cell_type": "code",
   "execution_count": 41,
   "metadata": {},
   "outputs": [],
   "source": [
    "df['ca_county'] = df['ca_county'].map({6037: 'Los Angeles', 6059: 'Orange', 6111: 'Ventura'})\n"
   ]
  },
  {
   "cell_type": "code",
   "execution_count": 42,
   "metadata": {},
   "outputs": [
    {
     "data": {
      "text/html": [
       "<div>\n",
       "<style scoped>\n",
       "    .dataframe tbody tr th:only-of-type {\n",
       "        vertical-align: middle;\n",
       "    }\n",
       "\n",
       "    .dataframe tbody tr th {\n",
       "        vertical-align: top;\n",
       "    }\n",
       "\n",
       "    .dataframe thead th {\n",
       "        text-align: right;\n",
       "    }\n",
       "</style>\n",
       "<table border=\"1\" class=\"dataframe\">\n",
       "  <thead>\n",
       "    <tr style=\"text-align: right;\">\n",
       "      <th></th>\n",
       "      <th>parcelid</th>\n",
       "      <th>bedrooms</th>\n",
       "      <th>bathrooms</th>\n",
       "      <th>yearbuilt</th>\n",
       "      <th>county</th>\n",
       "      <th>zip_code</th>\n",
       "      <th>ca_county</th>\n",
       "      <th>latitude</th>\n",
       "      <th>longitude</th>\n",
       "      <th>square_feet</th>\n",
       "      <th>taxamount</th>\n",
       "      <th>tax_value</th>\n",
       "      <th>property_age</th>\n",
       "      <th>tax_rate</th>\n",
       "    </tr>\n",
       "  </thead>\n",
       "  <tbody>\n",
       "    <tr>\n",
       "      <th>0</th>\n",
       "      <td>14297519</td>\n",
       "      <td>4</td>\n",
       "      <td>3.5</td>\n",
       "      <td>1998</td>\n",
       "      <td>1286</td>\n",
       "      <td>96978</td>\n",
       "      <td>Orange</td>\n",
       "      <td>33634931</td>\n",
       "      <td>-117869207</td>\n",
       "      <td>3100.0</td>\n",
       "      <td>11013.72</td>\n",
       "      <td>1023282.0</td>\n",
       "      <td>23</td>\n",
       "      <td>0.010763</td>\n",
       "    </tr>\n",
       "    <tr>\n",
       "      <th>1</th>\n",
       "      <td>17052889</td>\n",
       "      <td>2</td>\n",
       "      <td>1.0</td>\n",
       "      <td>1967</td>\n",
       "      <td>2061</td>\n",
       "      <td>97099</td>\n",
       "      <td>Ventura</td>\n",
       "      <td>34449266</td>\n",
       "      <td>-119281531</td>\n",
       "      <td>1465.0</td>\n",
       "      <td>5672.48</td>\n",
       "      <td>464000.0</td>\n",
       "      <td>54</td>\n",
       "      <td>0.012225</td>\n",
       "    </tr>\n",
       "    <tr>\n",
       "      <th>2</th>\n",
       "      <td>14186244</td>\n",
       "      <td>3</td>\n",
       "      <td>2.0</td>\n",
       "      <td>1962</td>\n",
       "      <td>1286</td>\n",
       "      <td>97078</td>\n",
       "      <td>Orange</td>\n",
       "      <td>33886168</td>\n",
       "      <td>-117823170</td>\n",
       "      <td>1243.0</td>\n",
       "      <td>6488.30</td>\n",
       "      <td>564778.0</td>\n",
       "      <td>59</td>\n",
       "      <td>0.011488</td>\n",
       "    </tr>\n",
       "    <tr>\n",
       "      <th>3</th>\n",
       "      <td>12177905</td>\n",
       "      <td>4</td>\n",
       "      <td>3.0</td>\n",
       "      <td>1970</td>\n",
       "      <td>3101</td>\n",
       "      <td>96330</td>\n",
       "      <td>Los Angeles</td>\n",
       "      <td>34245180</td>\n",
       "      <td>-118240722</td>\n",
       "      <td>2376.0</td>\n",
       "      <td>1777.51</td>\n",
       "      <td>145143.0</td>\n",
       "      <td>51</td>\n",
       "      <td>0.012247</td>\n",
       "    </tr>\n",
       "    <tr>\n",
       "      <th>4</th>\n",
       "      <td>10887214</td>\n",
       "      <td>3</td>\n",
       "      <td>3.0</td>\n",
       "      <td>1964</td>\n",
       "      <td>3101</td>\n",
       "      <td>96451</td>\n",
       "      <td>Los Angeles</td>\n",
       "      <td>34185120</td>\n",
       "      <td>-118414640</td>\n",
       "      <td>1312.0</td>\n",
       "      <td>1533.89</td>\n",
       "      <td>119407.0</td>\n",
       "      <td>57</td>\n",
       "      <td>0.012846</td>\n",
       "    </tr>\n",
       "  </tbody>\n",
       "</table>\n",
       "</div>"
      ],
      "text/plain": [
       "   parcelid  bedrooms  bathrooms  yearbuilt  county  zip_code    ca_county  \\\n",
       "0  14297519         4        3.5       1998    1286     96978       Orange   \n",
       "1  17052889         2        1.0       1967    2061     97099      Ventura   \n",
       "2  14186244         3        2.0       1962    1286     97078       Orange   \n",
       "3  12177905         4        3.0       1970    3101     96330  Los Angeles   \n",
       "4  10887214         3        3.0       1964    3101     96451  Los Angeles   \n",
       "\n",
       "   latitude  longitude  square_feet  taxamount  tax_value  property_age  \\\n",
       "0  33634931 -117869207       3100.0   11013.72  1023282.0            23   \n",
       "1  34449266 -119281531       1465.0    5672.48   464000.0            54   \n",
       "2  33886168 -117823170       1243.0    6488.30   564778.0            59   \n",
       "3  34245180 -118240722       2376.0    1777.51   145143.0            51   \n",
       "4  34185120 -118414640       1312.0    1533.89   119407.0            57   \n",
       "\n",
       "   tax_rate  \n",
       "0  0.010763  \n",
       "1  0.012225  \n",
       "2  0.011488  \n",
       "3  0.012247  \n",
       "4  0.012846  "
      ]
     },
     "execution_count": 42,
     "metadata": {},
     "output_type": "execute_result"
    }
   ],
   "source": [
    "df.head()"
   ]
  },
  {
   "cell_type": "code",
   "execution_count": 43,
   "metadata": {},
   "outputs": [
    {
     "data": {
      "text/plain": [
       "Los Angeles    50555\n",
       "Orange         20507\n",
       "Ventura         6191\n",
       "Name: ca_county, dtype: int64"
      ]
     },
     "execution_count": 43,
     "metadata": {},
     "output_type": "execute_result"
    }
   ],
   "source": [
    "df.ca_county.value_counts()"
   ]
  },
  {
   "cell_type": "markdown",
   "metadata": {},
   "source": [
    "### Distribution of Tax Rate "
   ]
  },
  {
   "cell_type": "code",
   "execution_count": 47,
   "metadata": {},
   "outputs": [
    {
     "data": {
      "text/plain": [
       "ca_county\n",
       "Los Angeles    0.013768\n",
       "Orange         0.012064\n",
       "Ventura        0.011912\n",
       "Name: tax_rate, dtype: float64"
      ]
     },
     "execution_count": 47,
     "metadata": {},
     "output_type": "execute_result"
    }
   ],
   "source": [
    "tax_rates = df.groupby(\"ca_county\").tax_rate.mean()\n",
    "tax_rates"
   ]
  },
  {
   "cell_type": "code",
   "execution_count": null,
   "metadata": {},
   "outputs": [],
   "source": []
  },
  {
   "cell_type": "markdown",
   "metadata": {},
   "source": [
    "### Distribution of Tax Rate Variance"
   ]
  },
  {
   "cell_type": "code",
   "execution_count": null,
   "metadata": {},
   "outputs": [],
   "source": []
  },
  {
   "cell_type": "markdown",
   "metadata": {},
   "source": [
    "## <span style=\"color:royalblue;\"> Prepare </span>"
   ]
  },
  {
   "cell_type": "markdown",
   "metadata": {},
   "source": [
    "## <span style=\"color:royalblue;\"> Explore </span>"
   ]
  },
  {
   "cell_type": "markdown",
   "metadata": {},
   "source": [
    "## <span style=\"color:royalblue;\"> Model </span>"
   ]
  },
  {
   "cell_type": "markdown",
   "metadata": {},
   "source": [
    "### <span style=\"color:dodgerblue;\"> Evaluate </span>"
   ]
  },
  {
   "cell_type": "markdown",
   "metadata": {},
   "source": [
    "#### <span style=\"color:deepskyblue;\"> SSE, RMSE, MSE </span>"
   ]
  },
  {
   "cell_type": "code",
   "execution_count": null,
   "metadata": {},
   "outputs": [],
   "source": []
  }
 ],
 "metadata": {
  "kernelspec": {
   "display_name": "Python 3",
   "language": "python",
   "name": "python3"
  },
  "language_info": {
   "codemirror_mode": {
    "name": "ipython",
    "version": 3
   },
   "file_extension": ".py",
   "mimetype": "text/x-python",
   "name": "python",
   "nbconvert_exporter": "python",
   "pygments_lexer": "ipython3",
   "version": "3.8.5"
  }
 },
 "nbformat": 4,
 "nbformat_minor": 4
}
