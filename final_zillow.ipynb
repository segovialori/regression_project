{
 "cells": [
  {
   "cell_type": "markdown",
   "metadata": {},
   "source": [
    "#### March 25, 2021\n",
    "#### Lori Segovia\n"
   ]
  },
  {
   "cell_type": "markdown",
   "metadata": {},
   "source": [
    "![Image of Zillow Logo](https://theme.zdassets.com/theme_assets/512712/5675f10a90572d0f4140b0b39e72e4905bce34ee.jpg)"
   ]
  },
  {
   "cell_type": "markdown",
   "metadata": {},
   "source": [
    "# <span style=\"color:black;\"> Estimating Home Value </span>\n"
   ]
  },
  {
   "cell_type": "markdown",
   "metadata": {},
   "source": [
    "## <span style=\"color:royalblue;\"> Goals </span>\n",
    "* Predict values of single unit properties that the tax distict assess using the property data from those whose last transaction was during May 2017 - August 2017\n",
    "* Obtain States and Counties of properties\n",
    "* Obtain tax rates for each country\n",
    "* Provide distribution of tax rates for each county"
   ]
  },
  {
   "cell_type": "markdown",
   "metadata": {},
   "source": [
    "## <span style=\"color:royalblue;\"> Hypotheses </span>\n",
    "1.  There is not a linear correlation between square footage of home and tax value.\n",
    "2.  There is not a linear correlation between bedrooms and tax value.\n",
    "3.  There is not a linear correlation between bathrooms and tax value.\n",
    "4.  There is not a difference between tax value between Los Angeles and Orange County"
   ]
  },
  {
   "cell_type": "markdown",
   "metadata": {},
   "source": [
    "## <span style=\"color:royalblue;\"> Plan </span>\n",
    "* acquire the data with sql\n",
    "* clean/prep the data\n",
    "* explore features of data\n",
    "* model data\n",
    "* evaluate data"
   ]
  },
  {
   "cell_type": "markdown",
   "metadata": {},
   "source": [
    "## <span style=\"color:royalblue;\"> Acquire </span>"
   ]
  },
  {
   "cell_type": "markdown",
   "metadata": {},
   "source": [
    "- Zillow data was queried from Codeup mysql database\n",
    "- env.py file with user info needed to access Zillow dataset from Codeup Database"
   ]
  },
  {
   "cell_type": "markdown",
   "metadata": {},
   "source": [
    "### Imports needed for this notebook:"
   ]
  },
  {
   "cell_type": "code",
   "execution_count": 1,
   "metadata": {},
   "outputs": [],
   "source": [
    "## python files that contain the functions to aquire and prep the data\n",
    "import wrangle\n",
    "import explore\n",
    "import model\n",
    "import pandas as pd\n",
    "import numpy as np\n",
    "\n",
    "# import python libraries\n",
    "import pandas as pd\n",
    "import numpy as np\n",
    "import matplotlib.pyplot as plt\n",
    "import seaborn as sns\n",
    "from scipy import stats\n",
    "from math import sqrt\n",
    "import math\n",
    "\n",
    "# scikit learn\n",
    "from sklearn.metrics import mean_squared_error, r2_score, explained_variance_score\n",
    "from sklearn.linear_model import LinearRegression, LassoLars, TweedieRegressor\n",
    "from sklearn.preprocessing import PolynomialFeatures\n",
    "from sklearn.model_selection import train_test_split\n",
    "import sklearn.preprocessing\n",
    "from sklearn.feature_selection import SelectKBest, f_regression\n",
    "from sklearn.feature_selection import RFE\n",
    "\n",
    "#visulization settings\n",
    "import graphviz\n",
    "from sklearn.tree import export_graphviz\n",
    "import matplotlib.style as style \n",
    "style.available\n",
    "style.use('seaborn-talk') #sets the size of the charts\n",
    "style.use('seaborn-colorblind') #sets color of charts\n",
    "\n",
    "#warnings\n",
    "import warnings\n",
    "warnings.filterwarnings(\"ignore\")"
   ]
  },
  {
   "cell_type": "markdown",
   "metadata": {},
   "source": [
    "### Data Summary"
   ]
  },
  {
   "cell_type": "code",
   "execution_count": 2,
   "metadata": {},
   "outputs": [],
   "source": [
    "df = wrangle.clean_zillow(wrangle.get_zillow_data())"
   ]
  },
  {
   "cell_type": "code",
   "execution_count": 3,
   "metadata": {},
   "outputs": [
    {
     "data": {
      "text/html": [
       "<div>\n",
       "<style scoped>\n",
       "    .dataframe tbody tr th:only-of-type {\n",
       "        vertical-align: middle;\n",
       "    }\n",
       "\n",
       "    .dataframe tbody tr th {\n",
       "        vertical-align: top;\n",
       "    }\n",
       "\n",
       "    .dataframe thead th {\n",
       "        text-align: right;\n",
       "    }\n",
       "</style>\n",
       "<table border=\"1\" class=\"dataframe\">\n",
       "  <thead>\n",
       "    <tr style=\"text-align: right;\">\n",
       "      <th></th>\n",
       "      <th>bedrooms</th>\n",
       "      <th>bathrooms</th>\n",
       "      <th>yearbuilt</th>\n",
       "      <th>county</th>\n",
       "      <th>zip_code</th>\n",
       "      <th>fips</th>\n",
       "      <th>latitude</th>\n",
       "      <th>longitude</th>\n",
       "      <th>square_feet</th>\n",
       "      <th>taxamount</th>\n",
       "      <th>tax_value</th>\n",
       "      <th>property_age</th>\n",
       "      <th>tax_rate</th>\n",
       "    </tr>\n",
       "    <tr>\n",
       "      <th>parcelid</th>\n",
       "      <th></th>\n",
       "      <th></th>\n",
       "      <th></th>\n",
       "      <th></th>\n",
       "      <th></th>\n",
       "      <th></th>\n",
       "      <th></th>\n",
       "      <th></th>\n",
       "      <th></th>\n",
       "      <th></th>\n",
       "      <th></th>\n",
       "      <th></th>\n",
       "      <th></th>\n",
       "    </tr>\n",
       "  </thead>\n",
       "  <tbody>\n",
       "    <tr>\n",
       "      <th>14297519</th>\n",
       "      <td>4</td>\n",
       "      <td>3.5</td>\n",
       "      <td>1998</td>\n",
       "      <td>1286</td>\n",
       "      <td>96978</td>\n",
       "      <td>6059</td>\n",
       "      <td>33634931</td>\n",
       "      <td>-117869207</td>\n",
       "      <td>3100.0</td>\n",
       "      <td>11013.72</td>\n",
       "      <td>1023282.0</td>\n",
       "      <td>23</td>\n",
       "      <td>0.010763</td>\n",
       "    </tr>\n",
       "    <tr>\n",
       "      <th>17052889</th>\n",
       "      <td>2</td>\n",
       "      <td>1.0</td>\n",
       "      <td>1967</td>\n",
       "      <td>2061</td>\n",
       "      <td>97099</td>\n",
       "      <td>6111</td>\n",
       "      <td>34449266</td>\n",
       "      <td>-119281531</td>\n",
       "      <td>1465.0</td>\n",
       "      <td>5672.48</td>\n",
       "      <td>464000.0</td>\n",
       "      <td>54</td>\n",
       "      <td>0.012225</td>\n",
       "    </tr>\n",
       "    <tr>\n",
       "      <th>14186244</th>\n",
       "      <td>3</td>\n",
       "      <td>2.0</td>\n",
       "      <td>1962</td>\n",
       "      <td>1286</td>\n",
       "      <td>97078</td>\n",
       "      <td>6059</td>\n",
       "      <td>33886168</td>\n",
       "      <td>-117823170</td>\n",
       "      <td>1243.0</td>\n",
       "      <td>6488.30</td>\n",
       "      <td>564778.0</td>\n",
       "      <td>59</td>\n",
       "      <td>0.011488</td>\n",
       "    </tr>\n",
       "    <tr>\n",
       "      <th>12177905</th>\n",
       "      <td>4</td>\n",
       "      <td>3.0</td>\n",
       "      <td>1970</td>\n",
       "      <td>3101</td>\n",
       "      <td>96330</td>\n",
       "      <td>6037</td>\n",
       "      <td>34245180</td>\n",
       "      <td>-118240722</td>\n",
       "      <td>2376.0</td>\n",
       "      <td>1777.51</td>\n",
       "      <td>145143.0</td>\n",
       "      <td>51</td>\n",
       "      <td>0.012247</td>\n",
       "    </tr>\n",
       "    <tr>\n",
       "      <th>10887214</th>\n",
       "      <td>3</td>\n",
       "      <td>3.0</td>\n",
       "      <td>1964</td>\n",
       "      <td>3101</td>\n",
       "      <td>96451</td>\n",
       "      <td>6037</td>\n",
       "      <td>34185120</td>\n",
       "      <td>-118414640</td>\n",
       "      <td>1312.0</td>\n",
       "      <td>1533.89</td>\n",
       "      <td>119407.0</td>\n",
       "      <td>57</td>\n",
       "      <td>0.012846</td>\n",
       "    </tr>\n",
       "  </tbody>\n",
       "</table>\n",
       "</div>"
      ],
      "text/plain": [
       "          bedrooms  bathrooms  yearbuilt  county  zip_code  fips  latitude  \\\n",
       "parcelid                                                                     \n",
       "14297519         4        3.5       1998    1286     96978  6059  33634931   \n",
       "17052889         2        1.0       1967    2061     97099  6111  34449266   \n",
       "14186244         3        2.0       1962    1286     97078  6059  33886168   \n",
       "12177905         4        3.0       1970    3101     96330  6037  34245180   \n",
       "10887214         3        3.0       1964    3101     96451  6037  34185120   \n",
       "\n",
       "          longitude  square_feet  taxamount  tax_value  property_age  tax_rate  \n",
       "parcelid                                                                        \n",
       "14297519 -117869207       3100.0   11013.72  1023282.0            23  0.010763  \n",
       "17052889 -119281531       1465.0    5672.48   464000.0            54  0.012225  \n",
       "14186244 -117823170       1243.0    6488.30   564778.0            59  0.011488  \n",
       "12177905 -118240722       2376.0    1777.51   145143.0            51  0.012247  \n",
       "10887214 -118414640       1312.0    1533.89   119407.0            57  0.012846  "
      ]
     },
     "execution_count": 3,
     "metadata": {},
     "output_type": "execute_result"
    }
   ],
   "source": [
    "df.head()"
   ]
  },
  {
   "cell_type": "code",
   "execution_count": 4,
   "metadata": {},
   "outputs": [
    {
     "data": {
      "text/html": [
       "<div>\n",
       "<style scoped>\n",
       "    .dataframe tbody tr th:only-of-type {\n",
       "        vertical-align: middle;\n",
       "    }\n",
       "\n",
       "    .dataframe tbody tr th {\n",
       "        vertical-align: top;\n",
       "    }\n",
       "\n",
       "    .dataframe thead th {\n",
       "        text-align: right;\n",
       "    }\n",
       "</style>\n",
       "<table border=\"1\" class=\"dataframe\">\n",
       "  <thead>\n",
       "    <tr style=\"text-align: right;\">\n",
       "      <th></th>\n",
       "      <th>bedrooms</th>\n",
       "      <th>bathrooms</th>\n",
       "      <th>yearbuilt</th>\n",
       "      <th>county</th>\n",
       "      <th>zip_code</th>\n",
       "      <th>fips</th>\n",
       "      <th>latitude</th>\n",
       "      <th>longitude</th>\n",
       "      <th>square_feet</th>\n",
       "      <th>taxamount</th>\n",
       "      <th>tax_value</th>\n",
       "      <th>property_age</th>\n",
       "      <th>tax_rate</th>\n",
       "    </tr>\n",
       "  </thead>\n",
       "  <tbody>\n",
       "    <tr>\n",
       "      <th>count</th>\n",
       "      <td>77253.00000</td>\n",
       "      <td>77253.000000</td>\n",
       "      <td>77253.000000</td>\n",
       "      <td>77253.000000</td>\n",
       "      <td>77253.000000</td>\n",
       "      <td>77253.000000</td>\n",
       "      <td>7.725300e+04</td>\n",
       "      <td>7.725300e+04</td>\n",
       "      <td>77253.000000</td>\n",
       "      <td>77253.000000</td>\n",
       "      <td>7.725300e+04</td>\n",
       "      <td>77253.000000</td>\n",
       "      <td>77253.000000</td>\n",
       "    </tr>\n",
       "    <tr>\n",
       "      <th>mean</th>\n",
       "      <td>3.06115</td>\n",
       "      <td>2.304254</td>\n",
       "      <td>1968.598799</td>\n",
       "      <td>2535.858905</td>\n",
       "      <td>96586.484033</td>\n",
       "      <td>6048.770261</td>\n",
       "      <td>3.400856e+07</td>\n",
       "      <td>-1.182035e+08</td>\n",
       "      <td>1784.127568</td>\n",
       "      <td>5977.930106</td>\n",
       "      <td>4.886524e+05</td>\n",
       "      <td>52.401201</td>\n",
       "      <td>0.013167</td>\n",
       "    </tr>\n",
       "    <tr>\n",
       "      <th>std</th>\n",
       "      <td>1.12984</td>\n",
       "      <td>0.990168</td>\n",
       "      <td>23.786244</td>\n",
       "      <td>801.100915</td>\n",
       "      <td>3800.227667</td>\n",
       "      <td>20.707202</td>\n",
       "      <td>2.652595e+05</td>\n",
       "      <td>3.588717e+05</td>\n",
       "      <td>953.267975</td>\n",
       "      <td>7576.150343</td>\n",
       "      <td>6.499134e+05</td>\n",
       "      <td>23.786244</td>\n",
       "      <td>0.005758</td>\n",
       "    </tr>\n",
       "    <tr>\n",
       "      <th>min</th>\n",
       "      <td>0.00000</td>\n",
       "      <td>0.000000</td>\n",
       "      <td>1824.000000</td>\n",
       "      <td>1286.000000</td>\n",
       "      <td>95982.000000</td>\n",
       "      <td>6037.000000</td>\n",
       "      <td>3.333953e+07</td>\n",
       "      <td>-1.194753e+08</td>\n",
       "      <td>128.000000</td>\n",
       "      <td>19.920000</td>\n",
       "      <td>1.000000e+03</td>\n",
       "      <td>5.000000</td>\n",
       "      <td>0.000094</td>\n",
       "    </tr>\n",
       "    <tr>\n",
       "      <th>25%</th>\n",
       "      <td>2.00000</td>\n",
       "      <td>2.000000</td>\n",
       "      <td>1953.000000</td>\n",
       "      <td>1286.000000</td>\n",
       "      <td>96193.000000</td>\n",
       "      <td>6037.000000</td>\n",
       "      <td>3.381480e+07</td>\n",
       "      <td>-1.184150e+08</td>\n",
       "      <td>1182.000000</td>\n",
       "      <td>2714.890000</td>\n",
       "      <td>2.070000e+05</td>\n",
       "      <td>34.000000</td>\n",
       "      <td>0.011662</td>\n",
       "    </tr>\n",
       "    <tr>\n",
       "      <th>50%</th>\n",
       "      <td>3.00000</td>\n",
       "      <td>2.000000</td>\n",
       "      <td>1970.000000</td>\n",
       "      <td>3101.000000</td>\n",
       "      <td>96389.000000</td>\n",
       "      <td>6037.000000</td>\n",
       "      <td>3.402210e+07</td>\n",
       "      <td>-1.181809e+08</td>\n",
       "      <td>1541.000000</td>\n",
       "      <td>4447.620000</td>\n",
       "      <td>3.587690e+05</td>\n",
       "      <td>51.000000</td>\n",
       "      <td>0.012286</td>\n",
       "    </tr>\n",
       "    <tr>\n",
       "      <th>75%</th>\n",
       "      <td>4.00000</td>\n",
       "      <td>3.000000</td>\n",
       "      <td>1987.000000</td>\n",
       "      <td>3101.000000</td>\n",
       "      <td>96987.000000</td>\n",
       "      <td>6059.000000</td>\n",
       "      <td>3.417436e+07</td>\n",
       "      <td>-1.179290e+08</td>\n",
       "      <td>2110.000000</td>\n",
       "      <td>6920.740000</td>\n",
       "      <td>5.685390e+05</td>\n",
       "      <td>68.000000</td>\n",
       "      <td>0.013455</td>\n",
       "    </tr>\n",
       "    <tr>\n",
       "      <th>max</th>\n",
       "      <td>16.00000</td>\n",
       "      <td>18.000000</td>\n",
       "      <td>2016.000000</td>\n",
       "      <td>3101.000000</td>\n",
       "      <td>399675.000000</td>\n",
       "      <td>6111.000000</td>\n",
       "      <td>3.481877e+07</td>\n",
       "      <td>-1.175546e+08</td>\n",
       "      <td>35640.000000</td>\n",
       "      <td>586639.300000</td>\n",
       "      <td>4.906124e+07</td>\n",
       "      <td>197.000000</td>\n",
       "      <td>0.816490</td>\n",
       "    </tr>\n",
       "  </tbody>\n",
       "</table>\n",
       "</div>"
      ],
      "text/plain": [
       "          bedrooms     bathrooms     yearbuilt        county       zip_code  \\\n",
       "count  77253.00000  77253.000000  77253.000000  77253.000000   77253.000000   \n",
       "mean       3.06115      2.304254   1968.598799   2535.858905   96586.484033   \n",
       "std        1.12984      0.990168     23.786244    801.100915    3800.227667   \n",
       "min        0.00000      0.000000   1824.000000   1286.000000   95982.000000   \n",
       "25%        2.00000      2.000000   1953.000000   1286.000000   96193.000000   \n",
       "50%        3.00000      2.000000   1970.000000   3101.000000   96389.000000   \n",
       "75%        4.00000      3.000000   1987.000000   3101.000000   96987.000000   \n",
       "max       16.00000     18.000000   2016.000000   3101.000000  399675.000000   \n",
       "\n",
       "               fips      latitude     longitude   square_feet      taxamount  \\\n",
       "count  77253.000000  7.725300e+04  7.725300e+04  77253.000000   77253.000000   \n",
       "mean    6048.770261  3.400856e+07 -1.182035e+08   1784.127568    5977.930106   \n",
       "std       20.707202  2.652595e+05  3.588717e+05    953.267975    7576.150343   \n",
       "min     6037.000000  3.333953e+07 -1.194753e+08    128.000000      19.920000   \n",
       "25%     6037.000000  3.381480e+07 -1.184150e+08   1182.000000    2714.890000   \n",
       "50%     6037.000000  3.402210e+07 -1.181809e+08   1541.000000    4447.620000   \n",
       "75%     6059.000000  3.417436e+07 -1.179290e+08   2110.000000    6920.740000   \n",
       "max     6111.000000  3.481877e+07 -1.175546e+08  35640.000000  586639.300000   \n",
       "\n",
       "          tax_value  property_age      tax_rate  \n",
       "count  7.725300e+04  77253.000000  77253.000000  \n",
       "mean   4.886524e+05     52.401201      0.013167  \n",
       "std    6.499134e+05     23.786244      0.005758  \n",
       "min    1.000000e+03      5.000000      0.000094  \n",
       "25%    2.070000e+05     34.000000      0.011662  \n",
       "50%    3.587690e+05     51.000000      0.012286  \n",
       "75%    5.685390e+05     68.000000      0.013455  \n",
       "max    4.906124e+07    197.000000      0.816490  "
      ]
     },
     "execution_count": 4,
     "metadata": {},
     "output_type": "execute_result"
    }
   ],
   "source": [
    "df.describe()"
   ]
  },
  {
   "cell_type": "code",
   "execution_count": 5,
   "metadata": {},
   "outputs": [
    {
     "name": "stdout",
     "output_type": "stream",
     "text": [
      "<class 'pandas.core.frame.DataFrame'>\n",
      "Int64Index: 77253 entries, 14297519 to 13083743\n",
      "Data columns (total 13 columns):\n",
      " #   Column        Non-Null Count  Dtype  \n",
      "---  ------        --------------  -----  \n",
      " 0   bedrooms      77253 non-null  int64  \n",
      " 1   bathrooms     77253 non-null  float64\n",
      " 2   yearbuilt     77253 non-null  int64  \n",
      " 3   county        77253 non-null  int64  \n",
      " 4   zip_code      77253 non-null  int64  \n",
      " 5   fips          77253 non-null  int64  \n",
      " 6   latitude      77253 non-null  int64  \n",
      " 7   longitude     77253 non-null  int64  \n",
      " 8   square_feet   77253 non-null  float64\n",
      " 9   taxamount     77253 non-null  float64\n",
      " 10  tax_value     77253 non-null  float64\n",
      " 11  property_age  77253 non-null  int64  \n",
      " 12  tax_rate      77253 non-null  float64\n",
      "dtypes: float64(5), int64(8)\n",
      "memory usage: 8.3 MB\n"
     ]
    }
   ],
   "source": [
    "df.info()"
   ]
  },
  {
   "cell_type": "code",
   "execution_count": 6,
   "metadata": {},
   "outputs": [
    {
     "data": {
      "text/plain": [
       "(77253, 13)"
      ]
     },
     "execution_count": 6,
     "metadata": {},
     "output_type": "execute_result"
    }
   ],
   "source": [
    "df.shape"
   ]
  },
  {
   "cell_type": "markdown",
   "metadata": {},
   "source": [
    "##### *prep and clean summary after additional info*"
   ]
  },
  {
   "cell_type": "markdown",
   "metadata": {},
   "source": [
    "## <span style=\"color:royalblue;\"> Additional Info (outside of the model) </span>"
   ]
  },
  {
   "cell_type": "markdown",
   "metadata": {},
   "source": [
    "- states and counties the properties are located in\n",
    "- distribution of tax rates for each county \n",
    "- distribution of tax rates for each county so that we can see how much they vary within the properties in the county and the rates the bulk of the properties sit around"
   ]
  },
  {
   "cell_type": "markdown",
   "metadata": {},
   "source": [
    "### States and Counties of Properties"
   ]
  },
  {
   "cell_type": "markdown",
   "metadata": {},
   "source": [
    "#### The Federal Information Processing Standard Publication 6-4 (FIPS 6-4) was a five-digit Federal Information Processing Standards code which uniquely identified counties and county equivalents in the United States, certain U.S. possessions, and certain freely associated states.  These are the location of the following States and Counties obtained from looking up FIPS code:\n",
    "* Los Angeles County, California (6037)\n",
    "* Orange County, California (6059)\n",
    "* Ventura County, California (6111)"
   ]
  },
  {
   "cell_type": "code",
   "execution_count": 7,
   "metadata": {},
   "outputs": [
    {
     "data": {
      "text/plain": [
       "6037    50555\n",
       "6059    20507\n",
       "6111     6191\n",
       "Name: fips, dtype: int64"
      ]
     },
     "execution_count": 7,
     "metadata": {},
     "output_type": "execute_result"
    }
   ],
   "source": [
    "df.fips.value_counts()"
   ]
  },
  {
   "cell_type": "code",
   "execution_count": 8,
   "metadata": {},
   "outputs": [
    {
     "data": {
      "text/plain": [
       "6037    0.654408\n",
       "6059    0.265452\n",
       "6111    0.080139\n",
       "Name: fips, dtype: float64"
      ]
     },
     "execution_count": 8,
     "metadata": {},
     "output_type": "execute_result"
    }
   ],
   "source": [
    "df.fips.value_counts(normalize=True)"
   ]
  },
  {
   "cell_type": "code",
   "execution_count": 9,
   "metadata": {},
   "outputs": [
    {
     "data": {
      "image/png": "[encoded data removed]",
      "text/plain": [
       "<Figure size 748.8x514.8 with 1 Axes>"
      ]
     },
     "metadata": {
      "needs_background": "light"
     },
     "output_type": "display_data"
    }
   ],
   "source": [
    "plt.title('Number of Properties Per County')\n",
    "sns.countplot(df.fips)\n",
    "plt.xlabel('California Counties')\n",
    "plt.ylabel('Number of Properties')\n",
    "plt.show()"
   ]
  },
  {
   "cell_type": "code",
   "execution_count": 10,
   "metadata": {},
   "outputs": [],
   "source": [
    "#Change fips to county names now that we know where they come from\n",
    "df.rename(columns={\"fips\": \"ca_county\"}, inplace=True)\n"
   ]
  },
  {
   "cell_type": "code",
   "execution_count": 11,
   "metadata": {},
   "outputs": [],
   "source": [
    "df['ca_county'] = df['ca_county'].map({6037: 'Los Angeles', 6059: 'Orange', 6111: 'Ventura'})\n"
   ]
  },
  {
   "cell_type": "code",
   "execution_count": 12,
   "metadata": {},
   "outputs": [
    {
     "data": {
      "text/plain": [
       "Los Angeles    50555\n",
       "Orange         20507\n",
       "Ventura         6191\n",
       "Name: ca_county, dtype: int64"
      ]
     },
     "execution_count": 12,
     "metadata": {},
     "output_type": "execute_result"
    }
   ],
   "source": [
    "df.ca_county.value_counts()"
   ]
  },
  {
   "cell_type": "markdown",
   "metadata": {},
   "source": [
    "### Distribution of Tax Rate \n",
    "- The mean tax rate of Los Angeles County is 1.38 %\n",
    "- The mean tax rate of Orange County is 1.21 %\n",
    "- The mean tax rate of Ventura County is 1.20 %"
   ]
  },
  {
   "cell_type": "code",
   "execution_count": 13,
   "metadata": {},
   "outputs": [
    {
     "data": {
      "text/plain": [
       "ca_county\n",
       "Los Angeles    0.013768\n",
       "Orange         0.012064\n",
       "Ventura        0.011912\n",
       "Name: tax_rate, dtype: float64"
      ]
     },
     "execution_count": 13,
     "metadata": {},
     "output_type": "execute_result"
    }
   ],
   "source": [
    "tax_rates = df.groupby(\"ca_county\").tax_rate.mean()\n",
    "tax_rates \n"
   ]
  },
  {
   "cell_type": "markdown",
   "metadata": {},
   "source": [
    "##### Los Angeles County\n",
    "- tax rate distribution can be viewed below"
   ]
  },
  {
   "cell_type": "code",
   "execution_count": 14,
   "metadata": {},
   "outputs": [],
   "source": [
    "lac = df[df.ca_county == \"Los Angeles\"].tax_rate\n",
    "lac_mean = round(lac.mean(),3)"
   ]
  },
  {
   "cell_type": "code",
   "execution_count": 15,
   "metadata": {},
   "outputs": [
    {
     "data": {
      "text/plain": [
       "(0.0, 0.1)"
      ]
     },
     "execution_count": 15,
     "metadata": {},
     "output_type": "execute_result"
    },
    {
     "data": {
      "image/png": "[encoded data removed]",
      "text/plain": [
       "<Figure size 864x576 with 1 Axes>"
      ]
     },
     "metadata": {
      "needs_background": "light"
     },
     "output_type": "display_data"
    }
   ],
   "source": [
    "plt.figure(figsize=(12,8))\n",
    "plt.title(\"Los Angeles County Tax Rate Distribution\")\n",
    "plt.hist(lac, bins=800)\n",
    "plt.vlines(lac_mean, 0, 20000, ls='--', color='orange', label=\"LAC mean tax rate: 1.38%\")\n",
    "plt.xlabel('Tax Rate')\n",
    "plt.ylabel(\"Number of Properties\")\n",
    "plt.legend()\n",
    "plt.xlim(0.0, 0.1)"
   ]
  },
  {
   "cell_type": "markdown",
   "metadata": {},
   "source": [
    "##### Orange County\n",
    "- tax rate distribution can be viewed below"
   ]
  },
  {
   "cell_type": "code",
   "execution_count": 16,
   "metadata": {},
   "outputs": [],
   "source": [
    "oc = df[df.ca_county == \"Orange\"].tax_rate\n",
    "oc_mean = round(oc.mean(), 3)"
   ]
  },
  {
   "cell_type": "code",
   "execution_count": 17,
   "metadata": {},
   "outputs": [
    {
     "data": {
      "text/plain": [
       "<matplotlib.legend.Legend at 0x7ffb8c6e8f70>"
      ]
     },
     "execution_count": 17,
     "metadata": {},
     "output_type": "execute_result"
    },
    {
     "data": {
      "image/png": "[encoded data removed]",
      "text/plain": [
       "<Figure size 864x576 with 1 Axes>"
      ]
     },
     "metadata": {
      "needs_background": "light"
     },
     "output_type": "display_data"
    }
   ],
   "source": [
    "plt.figure(figsize=(12,8))\n",
    "plt.title(\"Orange County Tax Rate Distribution\")\n",
    "plt.hist(oc, bins=800)\n",
    "plt.vlines(oc_mean, 0, 1200, ls='--', color='orange', label=\"OC mean tax rate: 1.21%\")\n",
    "plt.xlabel('Tax Rate')\n",
    "plt.xlim(0.0, 0.1)\n",
    "plt.ylabel(\"Number of Properties\")\n",
    "plt.legend()"
   ]
  },
  {
   "cell_type": "markdown",
   "metadata": {},
   "source": [
    "##### Ventura County\n",
    "- tax rate distribution can be viewd below"
   ]
  },
  {
   "cell_type": "code",
   "execution_count": 18,
   "metadata": {},
   "outputs": [
    {
     "data": {
      "text/plain": [
       "0.012"
      ]
     },
     "execution_count": 18,
     "metadata": {},
     "output_type": "execute_result"
    }
   ],
   "source": [
    "vc = df[df.ca_county == \"Ventura\"].tax_rate\n",
    "vc_mean = round(vc.mean(), 3)\n",
    "vc_mean"
   ]
  },
  {
   "cell_type": "code",
   "execution_count": 19,
   "metadata": {},
   "outputs": [
    {
     "data": {
      "text/plain": [
       "<matplotlib.legend.Legend at 0x7ffb8c804100>"
      ]
     },
     "execution_count": 19,
     "metadata": {},
     "output_type": "execute_result"
    },
    {
     "data": {
      "image/png": "[encoded data removed]",
      "text/plain": [
       "<Figure size 864x576 with 1 Axes>"
      ]
     },
     "metadata": {
      "needs_background": "light"
     },
     "output_type": "display_data"
    }
   ],
   "source": [
    "plt.figure(figsize=(12,8))\n",
    "plt.title(\"Ventura County Tax Rate Distribution\")\n",
    "plt.hist(oc, bins=800)\n",
    "plt.vlines(vc_mean, 0, 1200, ls='--', color='orange', label=\"VC mean tax rate: 1.19%\")\n",
    "plt.xlabel('Tax Rate')\n",
    "plt.ylabel('Number of Properties')\n",
    "plt.xlim(0.0, 0.1)\n",
    "plt.legend()"
   ]
  },
  {
   "cell_type": "markdown",
   "metadata": {},
   "source": [
    "# Phase I:  MVP"
   ]
  },
  {
   "cell_type": "markdown",
   "metadata": {},
   "source": [
    "## <span style=\"color:royalblue;\"> Prepare </span>"
   ]
  },
  {
   "cell_type": "markdown",
   "metadata": {},
   "source": [
    "#### Dropping yearbuilt, county, zip_code, ca_county, latitude, longitude, taxamount, and property age.  Will reintroduce after first iteration (mvp)."
   ]
  },
  {
   "cell_type": "code",
   "execution_count": 20,
   "metadata": {},
   "outputs": [],
   "source": [
    "mvp = df.copy()"
   ]
  },
  {
   "cell_type": "code",
   "execution_count": 21,
   "metadata": {},
   "outputs": [],
   "source": [
    "mvp.drop(['yearbuilt', 'county', 'zip_code', 'ca_county', 'latitude','longitude', 'taxamount', 'property_age', 'tax_rate'], axis=1, inplace=True)\n"
   ]
  },
  {
   "cell_type": "code",
   "execution_count": 22,
   "metadata": {},
   "outputs": [
    {
     "data": {
      "text/html": [
       "<div>\n",
       "<style scoped>\n",
       "    .dataframe tbody tr th:only-of-type {\n",
       "        vertical-align: middle;\n",
       "    }\n",
       "\n",
       "    .dataframe tbody tr th {\n",
       "        vertical-align: top;\n",
       "    }\n",
       "\n",
       "    .dataframe thead th {\n",
       "        text-align: right;\n",
       "    }\n",
       "</style>\n",
       "<table border=\"1\" class=\"dataframe\">\n",
       "  <thead>\n",
       "    <tr style=\"text-align: right;\">\n",
       "      <th></th>\n",
       "      <th>bedrooms</th>\n",
       "      <th>bathrooms</th>\n",
       "      <th>square_feet</th>\n",
       "      <th>tax_value</th>\n",
       "    </tr>\n",
       "    <tr>\n",
       "      <th>parcelid</th>\n",
       "      <th></th>\n",
       "      <th></th>\n",
       "      <th></th>\n",
       "      <th></th>\n",
       "    </tr>\n",
       "  </thead>\n",
       "  <tbody>\n",
       "    <tr>\n",
       "      <th>14297519</th>\n",
       "      <td>4</td>\n",
       "      <td>3.5</td>\n",
       "      <td>3100.0</td>\n",
       "      <td>1023282.0</td>\n",
       "    </tr>\n",
       "    <tr>\n",
       "      <th>17052889</th>\n",
       "      <td>2</td>\n",
       "      <td>1.0</td>\n",
       "      <td>1465.0</td>\n",
       "      <td>464000.0</td>\n",
       "    </tr>\n",
       "    <tr>\n",
       "      <th>14186244</th>\n",
       "      <td>3</td>\n",
       "      <td>2.0</td>\n",
       "      <td>1243.0</td>\n",
       "      <td>564778.0</td>\n",
       "    </tr>\n",
       "    <tr>\n",
       "      <th>12177905</th>\n",
       "      <td>4</td>\n",
       "      <td>3.0</td>\n",
       "      <td>2376.0</td>\n",
       "      <td>145143.0</td>\n",
       "    </tr>\n",
       "    <tr>\n",
       "      <th>10887214</th>\n",
       "      <td>3</td>\n",
       "      <td>3.0</td>\n",
       "      <td>1312.0</td>\n",
       "      <td>119407.0</td>\n",
       "    </tr>\n",
       "  </tbody>\n",
       "</table>\n",
       "</div>"
      ],
      "text/plain": [
       "          bedrooms  bathrooms  square_feet  tax_value\n",
       "parcelid                                             \n",
       "14297519         4        3.5       3100.0  1023282.0\n",
       "17052889         2        1.0       1465.0   464000.0\n",
       "14186244         3        2.0       1243.0   564778.0\n",
       "12177905         4        3.0       2376.0   145143.0\n",
       "10887214         3        3.0       1312.0   119407.0"
      ]
     },
     "execution_count": 22,
     "metadata": {},
     "output_type": "execute_result"
    }
   ],
   "source": [
    "mvp.head()"
   ]
  },
  {
   "cell_type": "code",
   "execution_count": 23,
   "metadata": {},
   "outputs": [
    {
     "data": {
      "text/html": [
       "<div>\n",
       "<style scoped>\n",
       "    .dataframe tbody tr th:only-of-type {\n",
       "        vertical-align: middle;\n",
       "    }\n",
       "\n",
       "    .dataframe tbody tr th {\n",
       "        vertical-align: top;\n",
       "    }\n",
       "\n",
       "    .dataframe thead th {\n",
       "        text-align: right;\n",
       "    }\n",
       "</style>\n",
       "<table border=\"1\" class=\"dataframe\">\n",
       "  <thead>\n",
       "    <tr style=\"text-align: right;\">\n",
       "      <th></th>\n",
       "      <th>bedrooms</th>\n",
       "      <th>bathrooms</th>\n",
       "      <th>square_feet</th>\n",
       "      <th>tax_value</th>\n",
       "    </tr>\n",
       "  </thead>\n",
       "  <tbody>\n",
       "    <tr>\n",
       "      <th>count</th>\n",
       "      <td>77253.00000</td>\n",
       "      <td>77253.000000</td>\n",
       "      <td>77253.000000</td>\n",
       "      <td>7.725300e+04</td>\n",
       "    </tr>\n",
       "    <tr>\n",
       "      <th>mean</th>\n",
       "      <td>3.06115</td>\n",
       "      <td>2.304254</td>\n",
       "      <td>1784.127568</td>\n",
       "      <td>4.886524e+05</td>\n",
       "    </tr>\n",
       "    <tr>\n",
       "      <th>std</th>\n",
       "      <td>1.12984</td>\n",
       "      <td>0.990168</td>\n",
       "      <td>953.267975</td>\n",
       "      <td>6.499134e+05</td>\n",
       "    </tr>\n",
       "    <tr>\n",
       "      <th>min</th>\n",
       "      <td>0.00000</td>\n",
       "      <td>0.000000</td>\n",
       "      <td>128.000000</td>\n",
       "      <td>1.000000e+03</td>\n",
       "    </tr>\n",
       "    <tr>\n",
       "      <th>25%</th>\n",
       "      <td>2.00000</td>\n",
       "      <td>2.000000</td>\n",
       "      <td>1182.000000</td>\n",
       "      <td>2.070000e+05</td>\n",
       "    </tr>\n",
       "    <tr>\n",
       "      <th>50%</th>\n",
       "      <td>3.00000</td>\n",
       "      <td>2.000000</td>\n",
       "      <td>1541.000000</td>\n",
       "      <td>3.587690e+05</td>\n",
       "    </tr>\n",
       "    <tr>\n",
       "      <th>75%</th>\n",
       "      <td>4.00000</td>\n",
       "      <td>3.000000</td>\n",
       "      <td>2110.000000</td>\n",
       "      <td>5.685390e+05</td>\n",
       "    </tr>\n",
       "    <tr>\n",
       "      <th>max</th>\n",
       "      <td>16.00000</td>\n",
       "      <td>18.000000</td>\n",
       "      <td>35640.000000</td>\n",
       "      <td>4.906124e+07</td>\n",
       "    </tr>\n",
       "  </tbody>\n",
       "</table>\n",
       "</div>"
      ],
      "text/plain": [
       "          bedrooms     bathrooms   square_feet     tax_value\n",
       "count  77253.00000  77253.000000  77253.000000  7.725300e+04\n",
       "mean       3.06115      2.304254   1784.127568  4.886524e+05\n",
       "std        1.12984      0.990168    953.267975  6.499134e+05\n",
       "min        0.00000      0.000000    128.000000  1.000000e+03\n",
       "25%        2.00000      2.000000   1182.000000  2.070000e+05\n",
       "50%        3.00000      2.000000   1541.000000  3.587690e+05\n",
       "75%        4.00000      3.000000   2110.000000  5.685390e+05\n",
       "max       16.00000     18.000000  35640.000000  4.906124e+07"
      ]
     },
     "execution_count": 23,
     "metadata": {},
     "output_type": "execute_result"
    }
   ],
   "source": [
    "mvp.describe()"
   ]
  },
  {
   "cell_type": "code",
   "execution_count": 24,
   "metadata": {},
   "outputs": [
    {
     "name": "stdout",
     "output_type": "stream",
     "text": [
      "<class 'pandas.core.frame.DataFrame'>\n",
      "Int64Index: 77253 entries, 14297519 to 13083743\n",
      "Data columns (total 4 columns):\n",
      " #   Column       Non-Null Count  Dtype  \n",
      "---  ------       --------------  -----  \n",
      " 0   bedrooms     77253 non-null  int64  \n",
      " 1   bathrooms    77253 non-null  float64\n",
      " 2   square_feet  77253 non-null  float64\n",
      " 3   tax_value    77253 non-null  float64\n",
      "dtypes: float64(3), int64(1)\n",
      "memory usage: 5.4 MB\n"
     ]
    }
   ],
   "source": [
    "mvp.info()"
   ]
  },
  {
   "cell_type": "code",
   "execution_count": 25,
   "metadata": {},
   "outputs": [
    {
     "data": {
      "text/plain": [
       "(77253, 4)"
      ]
     },
     "execution_count": 25,
     "metadata": {},
     "output_type": "execute_result"
    }
   ],
   "source": [
    "mvp.shape"
   ]
  },
  {
   "cell_type": "code",
   "execution_count": 26,
   "metadata": {},
   "outputs": [
    {
     "data": {
      "text/plain": [
       "3     30406\n",
       "2     19196\n",
       "4     17524\n",
       "5      4540\n",
       "1      3381\n",
       "6       996\n",
       "0       625\n",
       "8       250\n",
       "7       206\n",
       "9        69\n",
       "10       31\n",
       "12       16\n",
       "11        9\n",
       "13        2\n",
       "16        1\n",
       "14        1\n",
       "Name: bedrooms, dtype: int64"
      ]
     },
     "execution_count": 26,
     "metadata": {},
     "output_type": "execute_result"
    }
   ],
   "source": [
    "#bedroom value counts\n",
    "mvp.bedrooms.value_counts()"
   ]
  },
  {
   "cell_type": "code",
   "execution_count": 27,
   "metadata": {},
   "outputs": [
    {
     "data": {
      "text/plain": [
       "2.0     31546\n",
       "3.0     17329\n",
       "1.0     12924\n",
       "2.5      6601\n",
       "4.0      3344\n",
       "1.5      1416\n",
       "3.5      1030\n",
       "5.0      1021\n",
       "4.5       691\n",
       "6.0       418\n",
       "0.0       387\n",
       "5.5       224\n",
       "7.0       114\n",
       "8.0       108\n",
       "6.5        47\n",
       "9.0        23\n",
       "7.5        16\n",
       "10.0        7\n",
       "11.0        3\n",
       "8.5         2\n",
       "13.0        1\n",
       "18.0        1\n",
       "Name: bathrooms, dtype: int64"
      ]
     },
     "execution_count": 27,
     "metadata": {},
     "output_type": "execute_result"
    }
   ],
   "source": [
    "#bathroom value counts\n",
    "mvp.bathrooms.value_counts()"
   ]
  },
  {
   "cell_type": "code",
   "execution_count": 28,
   "metadata": {},
   "outputs": [
    {
     "data": {
      "text/plain": [
       "1200.0    182\n",
       "1120.0    169\n",
       "1440.0    148\n",
       "1080.0    133\n",
       "1260.0    121\n",
       "         ... \n",
       "6549.0      1\n",
       "5774.0      1\n",
       "7324.0      1\n",
       "8932.0      1\n",
       "6758.0      1\n",
       "Name: square_feet, Length: 4967, dtype: int64"
      ]
     },
     "execution_count": 28,
     "metadata": {},
     "output_type": "execute_result"
    }
   ],
   "source": [
    "#square feet value counts\n",
    "mvp.square_feet.value_counts()\n"
   ]
  },
  {
   "cell_type": "code",
   "execution_count": 29,
   "metadata": {},
   "outputs": [
    {
     "data": {
      "text/plain": [
       "400000.0    55\n",
       "600000.0    50\n",
       "350000.0    49\n",
       "450000.0    45\n",
       "455000.0    44\n",
       "            ..\n",
       "302900.0     1\n",
       "80182.0      1\n",
       "302897.0     1\n",
       "144306.0     1\n",
       "98304.0      1\n",
       "Name: tax_value, Length: 50732, dtype: int64"
      ]
     },
     "execution_count": 29,
     "metadata": {},
     "output_type": "execute_result"
    }
   ],
   "source": [
    "#tax value value counts\n",
    "mvp.tax_value.value_counts()"
   ]
  },
  {
   "cell_type": "markdown",
   "metadata": {},
   "source": [
    "#### Data Summary Takeaways:\n",
    "- tax_value, square_feet, bathrooms, and bedrooms all have outliers\n",
    "- mean of all columns is skewed by the max outliers (really big/expensive properties)"
   ]
  },
  {
   "cell_type": "markdown",
   "metadata": {},
   "source": [
    "#### Clean and Prep Summary:\n",
    "- renamed bedroomcnt: bedrooms, bathroomcnt: bathrooms, calculatedfinishedsquarefeet: square_feet, taxvaluedollarcnt: tax_value, regionidzip: zip_code, and regionidcounty: county\n",
    "- changed all data types to int except parcelid, bathrooms, tax_value, square_feet, and fips\n",
    "- two new columns made: property_age and tax_rate\n",
    "- nulls dropped "
   ]
  },
  {
   "cell_type": "markdown",
   "metadata": {},
   "source": [
    "### Visualize Univariates"
   ]
  },
  {
   "cell_type": "code",
   "execution_count": 30,
   "metadata": {},
   "outputs": [
    {
     "data": {
      "image/png": "[encoded data removed]",
      "text/plain": [
       "<Figure size 720x576 with 4 Axes>"
      ]
     },
     "metadata": {
      "needs_background": "light"
     },
     "output_type": "display_data"
    }
   ],
   "source": [
    "plt.figure(figsize=(10, 8))\n",
    "for i, col in enumerate(['bedrooms', 'bathrooms', 'square_feet', 'tax_value']):  \n",
    "    plot_number = i + 1 # i starts at 0, but plot nos should start at 1\n",
    "    series = df[col]  \n",
    "    plt.subplot(2,2, plot_number)\n",
    "    plt.title(col)\n",
    "    series.hist(bins=20)"
   ]
  },
  {
   "cell_type": "markdown",
   "metadata": {},
   "source": [
    "#### Univariate Plot Takeaways:\n",
    "- Bedrooms distribution is the closest to being normally distributed\n",
    "- Bathrooms distribution is skewed to the right\n",
    "- The outliers in square_feet and tax_value make these distributions very skewed.  \n"
   ]
  },
  {
   "cell_type": "code",
   "execution_count": 31,
   "metadata": {},
   "outputs": [
    {
     "data": {
      "text/plain": [
       "<seaborn.axisgrid.PairGrid at 0x7ffb8df391f0>"
      ]
     },
     "execution_count": 31,
     "metadata": {},
     "output_type": "execute_result"
    },
    {
     "data": {
      "image/png": "[encoded data removed]",
      "text/plain": [
       "<Figure size 720x720 with 20 Axes>"
      ]
     },
     "metadata": {
      "needs_background": "light"
     },
     "output_type": "display_data"
    }
   ],
   "source": [
    "sns.pairplot(mvp,\n",
    "            x_vars=[\"bedrooms\", \"bathrooms\", \"square_feet\", 'tax_value'],\n",
    "            y_vars=[\"bedrooms\", \"bathrooms\", \"square_feet\", 'tax_value'],\n",
    "            kind= \"reg\")"
   ]
  },
  {
   "cell_type": "markdown",
   "metadata": {},
   "source": [
    "#### Pairplot Takeaways:\n",
    "- Clusters in the lower ranges for all variables and many outliers\n",
    "- Will address outliers in next iteration"
   ]
  },
  {
   "cell_type": "markdown",
   "metadata": {},
   "source": [
    "## <span style=\"color:royalblue;\"> Explore </span>"
   ]
  },
  {
   "cell_type": "markdown",
   "metadata": {},
   "source": [
    "#### Split:\n",
    "- Data is split into train, validate, and test dataframes"
   ]
  },
  {
   "cell_type": "code",
   "execution_count": 32,
   "metadata": {},
   "outputs": [],
   "source": [
    "train, validate, test, X_train, y_train, X_validate, y_validate, X_test, y_test = wrangle.train_validate_test_split(mvp,'tax_value', 123)"
   ]
  },
  {
   "cell_type": "code",
   "execution_count": 33,
   "metadata": {},
   "outputs": [
    {
     "name": "stdout",
     "output_type": "stream",
     "text": [
      "train -> (43261, 4)\n",
      "validate -> (18541, 4)\n",
      "test -> (15451, 4)\n"
     ]
    }
   ],
   "source": [
    "print(f'train -> {train.shape}')\n",
    "print(f'validate -> {validate.shape}')\n",
    "print(f'test -> {test.shape}')"
   ]
  },
  {
   "cell_type": "code",
   "execution_count": 34,
   "metadata": {},
   "outputs": [
    {
     "data": {
      "text/html": [
       "<div>\n",
       "<style scoped>\n",
       "    .dataframe tbody tr th:only-of-type {\n",
       "        vertical-align: middle;\n",
       "    }\n",
       "\n",
       "    .dataframe tbody tr th {\n",
       "        vertical-align: top;\n",
       "    }\n",
       "\n",
       "    .dataframe thead th {\n",
       "        text-align: right;\n",
       "    }\n",
       "</style>\n",
       "<table border=\"1\" class=\"dataframe\">\n",
       "  <thead>\n",
       "    <tr style=\"text-align: right;\">\n",
       "      <th></th>\n",
       "      <th>bedrooms</th>\n",
       "      <th>bathrooms</th>\n",
       "      <th>square_feet</th>\n",
       "      <th>tax_value</th>\n",
       "    </tr>\n",
       "    <tr>\n",
       "      <th>parcelid</th>\n",
       "      <th></th>\n",
       "      <th></th>\n",
       "      <th></th>\n",
       "      <th></th>\n",
       "    </tr>\n",
       "  </thead>\n",
       "  <tbody>\n",
       "    <tr>\n",
       "      <th>17228134</th>\n",
       "      <td>3</td>\n",
       "      <td>2.0</td>\n",
       "      <td>1888.0</td>\n",
       "      <td>246735.0</td>\n",
       "    </tr>\n",
       "    <tr>\n",
       "      <th>11357458</th>\n",
       "      <td>3</td>\n",
       "      <td>2.0</td>\n",
       "      <td>1484.0</td>\n",
       "      <td>149689.0</td>\n",
       "    </tr>\n",
       "    <tr>\n",
       "      <th>17153382</th>\n",
       "      <td>2</td>\n",
       "      <td>2.0</td>\n",
       "      <td>1937.0</td>\n",
       "      <td>540544.0</td>\n",
       "    </tr>\n",
       "    <tr>\n",
       "      <th>14682419</th>\n",
       "      <td>3</td>\n",
       "      <td>3.0</td>\n",
       "      <td>1526.0</td>\n",
       "      <td>630000.0</td>\n",
       "    </tr>\n",
       "    <tr>\n",
       "      <th>10914366</th>\n",
       "      <td>2</td>\n",
       "      <td>2.0</td>\n",
       "      <td>1114.0</td>\n",
       "      <td>460475.0</td>\n",
       "    </tr>\n",
       "  </tbody>\n",
       "</table>\n",
       "</div>"
      ],
      "text/plain": [
       "          bedrooms  bathrooms  square_feet  tax_value\n",
       "parcelid                                             \n",
       "17228134         3        2.0       1888.0   246735.0\n",
       "11357458         3        2.0       1484.0   149689.0\n",
       "17153382         2        2.0       1937.0   540544.0\n",
       "14682419         3        3.0       1526.0   630000.0\n",
       "10914366         2        2.0       1114.0   460475.0"
      ]
     },
     "execution_count": 34,
     "metadata": {},
     "output_type": "execute_result"
    }
   ],
   "source": [
    "train.head()"
   ]
  },
  {
   "cell_type": "markdown",
   "metadata": {},
   "source": [
    "#### Scale:\n",
    "- will scale all numeric features to normalize the numeric range"
   ]
  },
  {
   "cell_type": "code",
   "execution_count": 35,
   "metadata": {},
   "outputs": [],
   "source": [
    "scaler, X_train_scaled, X_validate_scaled, X_test_scaled = wrangle.Standard_Scaler(X_train, X_validate, X_test)"
   ]
  },
  {
   "cell_type": "code",
   "execution_count": 36,
   "metadata": {},
   "outputs": [
    {
     "data": {
      "text/plain": [
       "(StandardScaler(),\n",
       "           bedrooms  bathrooms  square_feet\n",
       " parcelid                                  \n",
       " 17228134 -0.057485  -0.308101     0.108099\n",
       " 11357458 -0.057485  -0.308101    -0.317575\n",
       " 17153382 -0.942493  -0.308101     0.159728\n",
       " 14682419 -0.057485   0.701348    -0.273322\n",
       " 10914366 -0.942493  -0.308101    -0.707425\n",
       " ...            ...        ...          ...\n",
       " 11644337 -0.057485   1.710797     2.778042\n",
       " 13926156 -0.057485  -0.308101     0.561167\n",
       " 14306263 -0.057485  -0.308101    -0.260678\n",
       " 14654702 -0.942493  -0.308101    -0.417671\n",
       " 11119353  0.827522   0.701348     0.300916\n",
       " \n",
       " [43261 rows x 3 columns],\n",
       "           bedrooms  bathrooms  square_feet\n",
       " parcelid                                  \n",
       " 12698037 -0.057485  -0.308101    -0.258571\n",
       " 14115188 -0.057485  -0.308101    -0.460871\n",
       " 10783555  0.827522  -0.308101    -0.433476\n",
       " 10846545  0.827522  -0.308101     0.306185\n",
       " 14737034 -0.057485   0.701348    -0.233283\n",
       " ...            ...        ...          ...\n",
       " 14691528 -0.942493  -0.308101    -0.670547\n",
       " 12238833  0.827522   1.710797     0.546416\n",
       " 12095854  1.712530  -0.308101     0.776112\n",
       " 11932600 -0.942493  -1.317550    -1.042485\n",
       " 13903966  0.827522  -0.308101    -0.453495\n",
       " \n",
       " [18541 rows x 3 columns],\n",
       "           bedrooms  bathrooms  square_feet\n",
       " parcelid                                  \n",
       " 14362862  0.827522   0.701348     0.334633\n",
       " 11878635 -0.942493  -0.308101    -0.290180\n",
       " 12852173 -0.057485  -0.308101    -0.639991\n",
       " 13074400  0.827522   0.701348     1.493646\n",
       " 10735414  0.827522   0.701348     1.285023\n",
       " ...            ...        ...          ...\n",
       " 11893683 -0.942493  -1.317550     0.036451\n",
       " 13896812 -0.057485  -0.308101     0.182908\n",
       " 14184281 -0.057485   0.196623    -0.021500\n",
       " 14432768  0.827522   0.196623     0.700249\n",
       " 14081641 -0.942493   0.701348    -0.216425\n",
       " \n",
       " [15451 rows x 3 columns])"
      ]
     },
     "execution_count": 36,
     "metadata": {},
     "output_type": "execute_result"
    }
   ],
   "source": [
    "scaler, X_train_scaled, X_validate_scaled, X_test_scaled"
   ]
  },
  {
   "cell_type": "code",
   "execution_count": 37,
   "metadata": {},
   "outputs": [
    {
     "data": {
      "text/html": [
       "<div>\n",
       "<style scoped>\n",
       "    .dataframe tbody tr th:only-of-type {\n",
       "        vertical-align: middle;\n",
       "    }\n",
       "\n",
       "    .dataframe tbody tr th {\n",
       "        vertical-align: top;\n",
       "    }\n",
       "\n",
       "    .dataframe thead th {\n",
       "        text-align: right;\n",
       "    }\n",
       "</style>\n",
       "<table border=\"1\" class=\"dataframe\">\n",
       "  <thead>\n",
       "    <tr style=\"text-align: right;\">\n",
       "      <th></th>\n",
       "      <th>bedrooms</th>\n",
       "      <th>bathrooms</th>\n",
       "      <th>square_feet</th>\n",
       "    </tr>\n",
       "    <tr>\n",
       "      <th>parcelid</th>\n",
       "      <th></th>\n",
       "      <th></th>\n",
       "      <th></th>\n",
       "    </tr>\n",
       "  </thead>\n",
       "  <tbody>\n",
       "    <tr>\n",
       "      <th>17228134</th>\n",
       "      <td>-0.057485</td>\n",
       "      <td>-0.308101</td>\n",
       "      <td>0.108099</td>\n",
       "    </tr>\n",
       "    <tr>\n",
       "      <th>11357458</th>\n",
       "      <td>-0.057485</td>\n",
       "      <td>-0.308101</td>\n",
       "      <td>-0.317575</td>\n",
       "    </tr>\n",
       "    <tr>\n",
       "      <th>17153382</th>\n",
       "      <td>-0.942493</td>\n",
       "      <td>-0.308101</td>\n",
       "      <td>0.159728</td>\n",
       "    </tr>\n",
       "    <tr>\n",
       "      <th>14682419</th>\n",
       "      <td>-0.057485</td>\n",
       "      <td>0.701348</td>\n",
       "      <td>-0.273322</td>\n",
       "    </tr>\n",
       "    <tr>\n",
       "      <th>10914366</th>\n",
       "      <td>-0.942493</td>\n",
       "      <td>-0.308101</td>\n",
       "      <td>-0.707425</td>\n",
       "    </tr>\n",
       "  </tbody>\n",
       "</table>\n",
       "</div>"
      ],
      "text/plain": [
       "          bedrooms  bathrooms  square_feet\n",
       "parcelid                                  \n",
       "17228134 -0.057485  -0.308101     0.108099\n",
       "11357458 -0.057485  -0.308101    -0.317575\n",
       "17153382 -0.942493  -0.308101     0.159728\n",
       "14682419 -0.057485   0.701348    -0.273322\n",
       "10914366 -0.942493  -0.308101    -0.707425"
      ]
     },
     "execution_count": 37,
     "metadata": {},
     "output_type": "execute_result"
    }
   ],
   "source": [
    "X_train_scaled.head()"
   ]
  },
  {
   "cell_type": "code",
   "execution_count": 38,
   "metadata": {},
   "outputs": [],
   "source": [
    "# categorical and quantitative variables\n",
    "cat_vars = []\n",
    "quant_vars = ['bedrooms', 'bathrooms', 'square_feet', 'tax_value']"
   ]
  },
  {
   "cell_type": "code",
   "execution_count": 39,
   "metadata": {},
   "outputs": [
    {
     "data": {
      "image/png": "[encoded data removed]",
      "text/plain": [
       "<Figure size 576x144 with 2 Axes>"
      ]
     },
     "metadata": {
      "needs_background": "light"
     },
     "output_type": "display_data"
    },
    {
     "name": "stdout",
     "output_type": "stream",
     "text": [
      "count    43261.000000\n",
      "mean         3.064955\n",
      "std          1.129947\n",
      "min          0.000000\n",
      "25%          2.000000\n",
      "50%          3.000000\n",
      "75%          4.000000\n",
      "max         12.000000\n",
      "Name: bedrooms, dtype: float64\n"
     ]
    },
    {
     "data": {
      "image/png": "[encoded data removed]",
      "text/plain": [
       "<Figure size 576x144 with 2 Axes>"
      ]
     },
     "metadata": {
      "needs_background": "light"
     },
     "output_type": "display_data"
    },
    {
     "name": "stdout",
     "output_type": "stream",
     "text": [
      "count    43261.000000\n",
      "mean         2.305217\n",
      "std          0.990651\n",
      "min          0.000000\n",
      "25%          2.000000\n",
      "50%          2.000000\n",
      "75%          3.000000\n",
      "max         11.000000\n",
      "Name: bathrooms, dtype: float64\n"
     ]
    },
    {
     "data": {
      "image/png": "[encoded data removed]",
      "text/plain": [
       "<Figure size 576x144 with 2 Axes>"
      ]
     },
     "metadata": {
      "needs_background": "light"
     },
     "output_type": "display_data"
    },
    {
     "name": "stdout",
     "output_type": "stream",
     "text": [
      "count    43261.000000\n",
      "mean      1785.405146\n",
      "std        949.094700\n",
      "min        128.000000\n",
      "25%       1186.000000\n",
      "50%       1544.000000\n",
      "75%       2111.000000\n",
      "max      21929.000000\n",
      "Name: square_feet, dtype: float64\n"
     ]
    },
    {
     "data": {
      "image/png": "[encoded data removed]",
      "text/plain": [
       "<Figure size 576x144 with 2 Axes>"
      ]
     },
     "metadata": {
      "needs_background": "light"
     },
     "output_type": "display_data"
    },
    {
     "name": "stdout",
     "output_type": "stream",
     "text": [
      "count    4.326100e+04\n",
      "mean     4.897473e+05\n",
      "std      6.424522e+05\n",
      "min      1.000000e+03\n",
      "25%      2.066680e+05\n",
      "50%      3.573430e+05\n",
      "75%      5.676540e+05\n",
      "max      2.538125e+07\n",
      "Name: tax_value, dtype: float64\n"
     ]
    }
   ],
   "source": [
    "explore.explore_univariate(train, cat_vars, quant_vars)\n"
   ]
  },
  {
   "cell_type": "code",
   "execution_count": 43,
   "metadata": {},
   "outputs": [
    {
     "data": {
      "image/png": "[encoded data removed]",
      "text/plain": [
       "<Figure size 748.8x514.8 with 2 Axes>"
      ]
     },
     "metadata": {
      "needs_background": "light"
     },
     "output_type": "display_data"
    }
   ],
   "source": [
    "sns.heatmap(train.corr(), cmap='YlGnBu', annot=True)\n",
    "plt.title('Correlation heatmap', fontsize = 18)\n",
    "plt.show()"
   ]
  },
  {
   "cell_type": "markdown",
   "metadata": {},
   "source": [
    "#### Correlation Heatmap Takeaways:\n",
    "- the larger correlations seem to be between bathrooms and square feet and between bathrooms and bedrooms"
   ]
  },
  {
   "cell_type": "markdown",
   "metadata": {},
   "source": [
    "### Statistical Tests\n",
    "- Correlation tests"
   ]
  },
  {
   "cell_type": "code",
   "execution_count": 44,
   "metadata": {},
   "outputs": [],
   "source": [
    "#set confidence interval and alpha before the test\n",
    "conf_interval = .95 # desired confidence interval\n",
    "alpha = 1 - conf_interval"
   ]
  },
  {
   "cell_type": "markdown",
   "metadata": {},
   "source": [
    "#### Test 1 (corr):  \n",
    "- **Null Hypothesis (HO)** = there is no linear correlation between the square footage of a home and tax value\n",
    "- **Alternative Hypothesis (HA)** = there is a linear correlation between the square footage of a home and tax value\n"
   ]
  },
  {
   "cell_type": "code",
   "execution_count": 45,
   "metadata": {},
   "outputs": [
    {
     "data": {
      "text/plain": [
       "(0.596530827805485, 0.0)"
      ]
     },
     "execution_count": 45,
     "metadata": {},
     "output_type": "execute_result"
    }
   ],
   "source": [
    "#calculate pearsons correlation coefficient\n",
    "corr, p = stats.pearsonr(train.square_feet, train.tax_value)\n",
    "corr, p"
   ]
  },
  {
   "cell_type": "code",
   "execution_count": 46,
   "metadata": {},
   "outputs": [
    {
     "name": "stdout",
     "output_type": "stream",
     "text": [
      "Pvalue is: 0.0 is less than alpha: 0.050000000000000044\n",
      "Reject the null hypothesis because there is a correlation present\n"
     ]
    }
   ],
   "source": [
    "#correlation test summary\n",
    "if p < alpha:\n",
    "    print(f'Pvalue is: {p} is less than alpha: {alpha}')\n",
    "    print(\"Reject the null hypothesis because there is a correlation present\")\n",
    "else:\n",
    "    print(f'Pvalue is: {p} is greater than alpha: {alpha}')\n",
    "    print(\"We fail to reject the null hypothesis because there is no significant correlation present\")"
   ]
  },
  {
   "cell_type": "markdown",
   "metadata": {},
   "source": [
    "#### Test 2 (corr):  \n",
    "- **Null Hypothesis (HO)** = there is no linear correlation between the square footage of a home and bathroom count\n",
    "- **Alternative Hypothesis (HA)** = there is a linear correlation between the square footage of a home and bathroom count\n"
   ]
  },
  {
   "cell_type": "code",
   "execution_count": 47,
   "metadata": {},
   "outputs": [
    {
     "data": {
      "text/plain": [
       "(0.4763714031851606, 0.0)"
      ]
     },
     "execution_count": 47,
     "metadata": {},
     "output_type": "execute_result"
    }
   ],
   "source": [
    "#calculate pearsons correlation coefficient\n",
    "corr, p = stats.pearsonr(train.bathrooms, train.tax_value)\n",
    "corr, p"
   ]
  },
  {
   "cell_type": "code",
   "execution_count": 49,
   "metadata": {},
   "outputs": [
    {
     "name": "stdout",
     "output_type": "stream",
     "text": [
      "Pvalue is: 0.0 is less than alpha: 0.050000000000000044\n",
      "Reject the null hypothesis because there is a correlation present\n"
     ]
    }
   ],
   "source": [
    "#correlation test summary\n",
    "if p < alpha:\n",
    "    print(f'Pvalue is: {p} is less than alpha: {alpha}')\n",
    "    print(\"Reject the null hypothesis because there is a correlation present\")\n",
    "else:\n",
    "    print(f'Pvalue is: {p} is greater than alpha: {alpha}')\n",
    "    print(\"We fail to reject the null hypothesis because there is no significant correlation present\")"
   ]
  },
  {
   "cell_type": "markdown",
   "metadata": {},
   "source": [
    "#### Test 3 (corr):  \n",
    "- **Null Hypothesis (HO)** = there is no linear correlation between the square footage of a home and bedroom count\n",
    "- **Alternative Hypothesis (HA)** = there is a linear correlation between the square footage of a home and bedroom count"
   ]
  },
  {
   "cell_type": "code",
   "execution_count": 50,
   "metadata": {},
   "outputs": [
    {
     "data": {
      "text/plain": [
       "(0.2472029478632281, 0.0)"
      ]
     },
     "execution_count": 50,
     "metadata": {},
     "output_type": "execute_result"
    }
   ],
   "source": [
    "#calculate pearsons correlation coefficient\n",
    "corr, p = stats.pearsonr(train.bedrooms, train.tax_value)\n",
    "corr, p"
   ]
  },
  {
   "cell_type": "code",
   "execution_count": 51,
   "metadata": {},
   "outputs": [
    {
     "name": "stdout",
     "output_type": "stream",
     "text": [
      "Pvalue is: 0.0 is less than alpha: 0.050000000000000044\n",
      "Reject the null hypothesis because there is a correlation present\n"
     ]
    }
   ],
   "source": [
    "#correlation test summary\n",
    "if p < alpha:\n",
    "    print(f'Pvalue is: {p} is less than alpha: {alpha}')\n",
    "    print(\"Reject the null hypothesis because there is a correlation present\")\n",
    "else:\n",
    "    print(f'Pvalue is: {p} is greater than alpha: {alpha}')\n",
    "    print(\"We fail to reject the null hypothesis because there is no significant correlation present\")"
   ]
  },
  {
   "cell_type": "markdown",
   "metadata": {},
   "source": [
    "## <span style=\"color:royalblue;\"> Model </span>"
   ]
  },
  {
   "cell_type": "code",
   "execution_count": 52,
   "metadata": {},
   "outputs": [
    {
     "data": {
      "text/html": [
       "<div>\n",
       "<style scoped>\n",
       "    .dataframe tbody tr th:only-of-type {\n",
       "        vertical-align: middle;\n",
       "    }\n",
       "\n",
       "    .dataframe tbody tr th {\n",
       "        vertical-align: top;\n",
       "    }\n",
       "\n",
       "    .dataframe thead th {\n",
       "        text-align: right;\n",
       "    }\n",
       "</style>\n",
       "<table border=\"1\" class=\"dataframe\">\n",
       "  <thead>\n",
       "    <tr style=\"text-align: right;\">\n",
       "      <th></th>\n",
       "      <th>bedrooms</th>\n",
       "      <th>bathrooms</th>\n",
       "      <th>square_feet</th>\n",
       "    </tr>\n",
       "    <tr>\n",
       "      <th>parcelid</th>\n",
       "      <th></th>\n",
       "      <th></th>\n",
       "      <th></th>\n",
       "    </tr>\n",
       "  </thead>\n",
       "  <tbody>\n",
       "    <tr>\n",
       "      <th>17228134</th>\n",
       "      <td>-0.057485</td>\n",
       "      <td>-0.308101</td>\n",
       "      <td>0.108099</td>\n",
       "    </tr>\n",
       "    <tr>\n",
       "      <th>11357458</th>\n",
       "      <td>-0.057485</td>\n",
       "      <td>-0.308101</td>\n",
       "      <td>-0.317575</td>\n",
       "    </tr>\n",
       "    <tr>\n",
       "      <th>17153382</th>\n",
       "      <td>-0.942493</td>\n",
       "      <td>-0.308101</td>\n",
       "      <td>0.159728</td>\n",
       "    </tr>\n",
       "    <tr>\n",
       "      <th>14682419</th>\n",
       "      <td>-0.057485</td>\n",
       "      <td>0.701348</td>\n",
       "      <td>-0.273322</td>\n",
       "    </tr>\n",
       "    <tr>\n",
       "      <th>10914366</th>\n",
       "      <td>-0.942493</td>\n",
       "      <td>-0.308101</td>\n",
       "      <td>-0.707425</td>\n",
       "    </tr>\n",
       "  </tbody>\n",
       "</table>\n",
       "</div>"
      ],
      "text/plain": [
       "          bedrooms  bathrooms  square_feet\n",
       "parcelid                                  \n",
       "17228134 -0.057485  -0.308101     0.108099\n",
       "11357458 -0.057485  -0.308101    -0.317575\n",
       "17153382 -0.942493  -0.308101     0.159728\n",
       "14682419 -0.057485   0.701348    -0.273322\n",
       "10914366 -0.942493  -0.308101    -0.707425"
      ]
     },
     "execution_count": 52,
     "metadata": {},
     "output_type": "execute_result"
    }
   ],
   "source": [
    "X_train_scaled.head()"
   ]
  },
  {
   "cell_type": "code",
   "execution_count": 53,
   "metadata": {},
   "outputs": [
    {
     "data": {
      "image/png": "[encoded data removed]",
      "text/plain": [
       "<Figure size 748.8x514.8 with 1 Axes>"
      ]
     },
     "metadata": {
      "needs_background": "light"
     },
     "output_type": "display_data"
    }
   ],
   "source": [
    "# how do we determine distribution?\n",
    "plt.hist(y_train)\n",
    "plt.title('Distribution of Target(Tax Value)')\n",
    "plt.show()"
   ]
  },
  {
   "cell_type": "code",
   "execution_count": 54,
   "metadata": {},
   "outputs": [
    {
     "data": {
      "text/plain": [
       "parcelid\n",
       "17228134     246735.0\n",
       "11357458     149689.0\n",
       "17153382     540544.0\n",
       "14682419     630000.0\n",
       "10914366     460475.0\n",
       "              ...    \n",
       "11644337    2101164.0\n",
       "13926156     258508.0\n",
       "14306263     718578.0\n",
       "14654702     153369.0\n",
       "11119353     499747.0\n",
       "Name: tax_value, Length: 43261, dtype: float64"
      ]
     },
     "execution_count": 54,
     "metadata": {},
     "output_type": "execute_result"
    }
   ],
   "source": [
    "y_train "
   ]
  },
  {
   "cell_type": "code",
   "execution_count": 55,
   "metadata": {},
   "outputs": [
    {
     "data": {
      "text/plain": [
       "((43261, 3),\n",
       " (43261, 3),\n",
       " (43261,),\n",
       " (18541, 3),\n",
       " (18541, 3),\n",
       " (18541,),\n",
       " (15451, 3),\n",
       " (15451, 3),\n",
       " (15451,))"
      ]
     },
     "execution_count": 55,
     "metadata": {},
     "output_type": "execute_result"
    }
   ],
   "source": [
    "X_train.shape, X_train_scaled.shape, y_train.shape, X_validate.shape, X_validate_scaled.shape, y_validate.shape, X_test.shape, X_test_scaled.shape, y_test.shape"
   ]
  },
  {
   "cell_type": "code",
   "execution_count": 56,
   "metadata": {},
   "outputs": [],
   "source": [
    "#Create a Handy DataFrame for Evaluating Your Models or Model and Baseline Value.\n",
    "#turn series into df\n",
    "y_train = pd.DataFrame(y_train)\n",
    "y_validate = pd.DataFrame(y_validate)"
   ]
  },
  {
   "cell_type": "code",
   "execution_count": 57,
   "metadata": {},
   "outputs": [
    {
     "data": {
      "text/html": [
       "<div>\n",
       "<style scoped>\n",
       "    .dataframe tbody tr th:only-of-type {\n",
       "        vertical-align: middle;\n",
       "    }\n",
       "\n",
       "    .dataframe tbody tr th {\n",
       "        vertical-align: top;\n",
       "    }\n",
       "\n",
       "    .dataframe thead th {\n",
       "        text-align: right;\n",
       "    }\n",
       "</style>\n",
       "<table border=\"1\" class=\"dataframe\">\n",
       "  <thead>\n",
       "    <tr style=\"text-align: right;\">\n",
       "      <th></th>\n",
       "      <th>tax_value</th>\n",
       "    </tr>\n",
       "    <tr>\n",
       "      <th>parcelid</th>\n",
       "      <th></th>\n",
       "    </tr>\n",
       "  </thead>\n",
       "  <tbody>\n",
       "    <tr>\n",
       "      <th>17228134</th>\n",
       "      <td>246735.0</td>\n",
       "    </tr>\n",
       "    <tr>\n",
       "      <th>11357458</th>\n",
       "      <td>149689.0</td>\n",
       "    </tr>\n",
       "    <tr>\n",
       "      <th>17153382</th>\n",
       "      <td>540544.0</td>\n",
       "    </tr>\n",
       "    <tr>\n",
       "      <th>14682419</th>\n",
       "      <td>630000.0</td>\n",
       "    </tr>\n",
       "    <tr>\n",
       "      <th>10914366</th>\n",
       "      <td>460475.0</td>\n",
       "    </tr>\n",
       "  </tbody>\n",
       "</table>\n",
       "</div>"
      ],
      "text/plain": [
       "          tax_value\n",
       "parcelid           \n",
       "17228134   246735.0\n",
       "11357458   149689.0\n",
       "17153382   540544.0\n",
       "14682419   630000.0\n",
       "10914366   460475.0"
      ]
     },
     "execution_count": 57,
     "metadata": {},
     "output_type": "execute_result"
    }
   ],
   "source": [
    "y_train.head()"
   ]
  },
  {
   "cell_type": "markdown",
   "metadata": {},
   "source": [
    "#### Baseline"
   ]
  },
  {
   "cell_type": "code",
   "execution_count": 58,
   "metadata": {},
   "outputs": [],
   "source": [
    "# predict the median for ytrain and yvalidate\n",
    "baseline_median = y_train['tax_value'].median()\n",
    "y_train['baseline_median'] = baseline_median\n",
    "y_validate['baseline_median'] = baseline_median\n",
    "#predict the mean for ytrain and yvalidate\n",
    "baseline_mean = y_train['tax_value'].mean()\n",
    "y_train['baseline_mean'] = baseline_mean\n",
    "y_validate['baseline_mean'] = baseline_mean"
   ]
  },
  {
   "cell_type": "code",
   "execution_count": 59,
   "metadata": {},
   "outputs": [
    {
     "data": {
      "text/html": [
       "<div>\n",
       "<style scoped>\n",
       "    .dataframe tbody tr th:only-of-type {\n",
       "        vertical-align: middle;\n",
       "    }\n",
       "\n",
       "    .dataframe tbody tr th {\n",
       "        vertical-align: top;\n",
       "    }\n",
       "\n",
       "    .dataframe thead th {\n",
       "        text-align: right;\n",
       "    }\n",
       "</style>\n",
       "<table border=\"1\" class=\"dataframe\">\n",
       "  <thead>\n",
       "    <tr style=\"text-align: right;\">\n",
       "      <th></th>\n",
       "      <th>tax_value</th>\n",
       "      <th>baseline_median</th>\n",
       "      <th>baseline_mean</th>\n",
       "    </tr>\n",
       "    <tr>\n",
       "      <th>parcelid</th>\n",
       "      <th></th>\n",
       "      <th></th>\n",
       "      <th></th>\n",
       "    </tr>\n",
       "  </thead>\n",
       "  <tbody>\n",
       "    <tr>\n",
       "      <th>17228134</th>\n",
       "      <td>246735.0</td>\n",
       "      <td>357343.0</td>\n",
       "      <td>489747.322901</td>\n",
       "    </tr>\n",
       "    <tr>\n",
       "      <th>11357458</th>\n",
       "      <td>149689.0</td>\n",
       "      <td>357343.0</td>\n",
       "      <td>489747.322901</td>\n",
       "    </tr>\n",
       "    <tr>\n",
       "      <th>17153382</th>\n",
       "      <td>540544.0</td>\n",
       "      <td>357343.0</td>\n",
       "      <td>489747.322901</td>\n",
       "    </tr>\n",
       "    <tr>\n",
       "      <th>14682419</th>\n",
       "      <td>630000.0</td>\n",
       "      <td>357343.0</td>\n",
       "      <td>489747.322901</td>\n",
       "    </tr>\n",
       "    <tr>\n",
       "      <th>10914366</th>\n",
       "      <td>460475.0</td>\n",
       "      <td>357343.0</td>\n",
       "      <td>489747.322901</td>\n",
       "    </tr>\n",
       "  </tbody>\n",
       "</table>\n",
       "</div>"
      ],
      "text/plain": [
       "          tax_value  baseline_median  baseline_mean\n",
       "parcelid                                           \n",
       "17228134   246735.0         357343.0  489747.322901\n",
       "11357458   149689.0         357343.0  489747.322901\n",
       "17153382   540544.0         357343.0  489747.322901\n",
       "14682419   630000.0         357343.0  489747.322901\n",
       "10914366   460475.0         357343.0  489747.322901"
      ]
     },
     "execution_count": 59,
     "metadata": {},
     "output_type": "execute_result"
    }
   ],
   "source": [
    "y_train.head()"
   ]
  },
  {
   "cell_type": "code",
   "execution_count": 60,
   "metadata": {},
   "outputs": [
    {
     "data": {
      "image/png": "[encoded data removed]",
      "text/plain": [
       "<Figure size 748.8x514.8 with 1 Axes>"
      ]
     },
     "metadata": {
      "needs_background": "light"
     },
     "output_type": "display_data"
    }
   ],
   "source": [
    "model.plot_residuals(y_train.tax_value, y_train.baseline_mean)"
   ]
  },
  {
   "cell_type": "code",
   "execution_count": 61,
   "metadata": {},
   "outputs": [
    {
     "data": {
      "image/png": "[encoded data removed]",
      "text/plain": [
       "<Figure size 748.8x514.8 with 1 Axes>"
      ]
     },
     "metadata": {
      "needs_background": "light"
     },
     "output_type": "display_data"
    }
   ],
   "source": [
    "model.plot_residuals(y_train.tax_value, y_train.baseline_median)"
   ]
  },
  {
   "cell_type": "code",
   "execution_count": 62,
   "metadata": {},
   "outputs": [
    {
     "data": {
      "text/plain": [
       "{'sse': 1.78553405220765e+16,\n",
       " 'mse': 412735270152.7126,\n",
       " 'rmse': 642444.7603901152}"
      ]
     },
     "execution_count": 62,
     "metadata": {},
     "output_type": "execute_result"
    }
   ],
   "source": [
    "#Evaluate the baseline model using the mean\n",
    "model.baseline_mean_errors(y_train.tax_value)"
   ]
  },
  {
   "cell_type": "code",
   "execution_count": 63,
   "metadata": {},
   "outputs": [
    {
     "data": {
      "text/plain": [
       "{'sse': 1.8613744991287336e+16,\n",
       " 'mse': 430266174875.4614,\n",
       " 'rmse': 655946.7774716646}"
      ]
     },
     "execution_count": 63,
     "metadata": {},
     "output_type": "execute_result"
    }
   ],
   "source": [
    "#Evaluate the baseline model using the median\n",
    "model.baseline_median_errors(y_train.tax_value)"
   ]
  },
  {
   "cell_type": "code",
   "execution_count": 64,
   "metadata": {},
   "outputs": [
    {
     "name": "stdout",
     "output_type": "stream",
     "text": [
      "RMSE using Mean\n",
      "Train/In-Sample:  642444.76 \n",
      "Validate/Out-of-Sample:  724108.89\n",
      "RMSE using Median\n",
      "Train/In-Sample:  655946.78 \n",
      "Validate/Out-of-Sample:  736290.58\n"
     ]
    }
   ],
   "source": [
    "# RMSE of pred_mean\n",
    "rmse_train = mean_squared_error(y_train.tax_value, y_train.baseline_mean) ** .5\n",
    "rmse_validate = mean_squared_error(y_validate.tax_value, y_validate.baseline_mean) ** (1/2)\n",
    "\n",
    "print(\"RMSE using Mean\\nTrain/In-Sample: \", round(rmse_train, 2), \n",
    "      \"\\nValidate/Out-of-Sample: \", round(rmse_validate, 2))\n",
    "\n",
    "# RMSE of pred_median\n",
    "rmse_train = mean_squared_error(y_train.tax_value, y_train.baseline_median) ** .5\n",
    "rmse_validate = mean_squared_error(y_validate.tax_value, y_validate.baseline_median) ** .5\n",
    "print(\"RMSE using Median\\nTrain/In-Sample: \", round(rmse_train, 2), \n",
    "      \"\\nValidate/Out-of-Sample: \", round(rmse_validate, 2))"
   ]
  },
  {
   "cell_type": "code",
   "execution_count": 65,
   "metadata": {},
   "outputs": [],
   "source": [
    "#going to use median"
   ]
  },
  {
   "cell_type": "markdown",
   "metadata": {},
   "source": [
    "## Train and Validate"
   ]
  },
  {
   "cell_type": "markdown",
   "metadata": {},
   "source": [
    "### Linear Regression OLS"
   ]
  },
  {
   "cell_type": "code",
   "execution_count": 66,
   "metadata": {},
   "outputs": [],
   "source": [
    "#make the thing\n",
    "lm = LinearRegression(normalize=True)"
   ]
  },
  {
   "cell_type": "code",
   "execution_count": 67,
   "metadata": {},
   "outputs": [
    {
     "data": {
      "text/plain": [
       "LinearRegression(normalize=True)"
      ]
     },
     "execution_count": 67,
     "metadata": {},
     "output_type": "execute_result"
    }
   ],
   "source": [
    "#fit the thing\n",
    "#only fit on training\n",
    "lm.fit(X_train, y_train.tax_value)"
   ]
  },
  {
   "cell_type": "code",
   "execution_count": 68,
   "metadata": {},
   "outputs": [],
   "source": [
    "#use the thing\n",
    "y_train['pred_lm'] = lm.predict(X_train)"
   ]
  },
  {
   "cell_type": "code",
   "execution_count": 69,
   "metadata": {},
   "outputs": [
    {
     "data": {
      "text/html": [
       "<div>\n",
       "<style scoped>\n",
       "    .dataframe tbody tr th:only-of-type {\n",
       "        vertical-align: middle;\n",
       "    }\n",
       "\n",
       "    .dataframe tbody tr th {\n",
       "        vertical-align: top;\n",
       "    }\n",
       "\n",
       "    .dataframe thead th {\n",
       "        text-align: right;\n",
       "    }\n",
       "</style>\n",
       "<table border=\"1\" class=\"dataframe\">\n",
       "  <thead>\n",
       "    <tr style=\"text-align: right;\">\n",
       "      <th></th>\n",
       "      <th>tax_value</th>\n",
       "      <th>baseline_median</th>\n",
       "      <th>baseline_mean</th>\n",
       "      <th>pred_lm</th>\n",
       "    </tr>\n",
       "    <tr>\n",
       "      <th>parcelid</th>\n",
       "      <th></th>\n",
       "      <th></th>\n",
       "      <th></th>\n",
       "      <th></th>\n",
       "    </tr>\n",
       "  </thead>\n",
       "  <tbody>\n",
       "    <tr>\n",
       "      <th>17228134</th>\n",
       "      <td>246735.0</td>\n",
       "      <td>357343.0</td>\n",
       "      <td>489747.322901</td>\n",
       "      <td>523997.243686</td>\n",
       "    </tr>\n",
       "    <tr>\n",
       "      <th>11357458</th>\n",
       "      <td>149689.0</td>\n",
       "      <td>357343.0</td>\n",
       "      <td>489747.322901</td>\n",
       "      <td>340647.531879</td>\n",
       "    </tr>\n",
       "    <tr>\n",
       "      <th>17153382</th>\n",
       "      <td>540544.0</td>\n",
       "      <td>357343.0</td>\n",
       "      <td>489747.322901</td>\n",
       "      <td>687743.416925</td>\n",
       "    </tr>\n",
       "    <tr>\n",
       "      <th>14682419</th>\n",
       "      <td>630000.0</td>\n",
       "      <td>357343.0</td>\n",
       "      <td>489747.322901</td>\n",
       "      <td>430159.839850</td>\n",
       "    </tr>\n",
       "    <tr>\n",
       "      <th>10914366</th>\n",
       "      <td>460475.0</td>\n",
       "      <td>357343.0</td>\n",
       "      <td>489747.322901</td>\n",
       "      <td>314236.454508</td>\n",
       "    </tr>\n",
       "  </tbody>\n",
       "</table>\n",
       "</div>"
      ],
      "text/plain": [
       "          tax_value  baseline_median  baseline_mean        pred_lm\n",
       "parcelid                                                          \n",
       "17228134   246735.0         357343.0  489747.322901  523997.243686\n",
       "11357458   149689.0         357343.0  489747.322901  340647.531879\n",
       "17153382   540544.0         357343.0  489747.322901  687743.416925\n",
       "14682419   630000.0         357343.0  489747.322901  430159.839850\n",
       "10914366   460475.0         357343.0  489747.322901  314236.454508"
      ]
     },
     "execution_count": 69,
     "metadata": {},
     "output_type": "execute_result"
    }
   ],
   "source": [
    "y_train.head()"
   ]
  },
  {
   "cell_type": "code",
   "execution_count": 70,
   "metadata": {},
   "outputs": [],
   "source": [
    "rmse_train_lm = mean_squared_error(y_train.tax_value, y_train.pred_lm)**(0.5)"
   ]
  },
  {
   "cell_type": "code",
   "execution_count": 71,
   "metadata": {},
   "outputs": [],
   "source": [
    "# predict validate\n",
    "y_validate['pred_lm'] = lm.predict(X_validate)"
   ]
  },
  {
   "cell_type": "code",
   "execution_count": 72,
   "metadata": {},
   "outputs": [],
   "source": [
    "# evaluate: rmse\n",
    "rmse_validate_lm = mean_squared_error(y_validate.tax_value, y_validate.pred_lm)**(0.5)"
   ]
  },
  {
   "cell_type": "code",
   "execution_count": 73,
   "metadata": {},
   "outputs": [
    {
     "name": "stdout",
     "output_type": "stream",
     "text": [
      "\n",
      "BASELINE:\n",
      "              \n",
      "RMSE using Median\n",
      "Train/In-Sample: 655946.78\n",
      "Validate/Out-of-Sample: 736290.58\n",
      "------------------------------------\n",
      "RMSE for OLS using LinearRegression:\n",
      "    \n",
      "Training/In-Sample: 501695.26\n",
      "Validation/Out-of-Sample: 593433.03\n",
      "\n"
     ]
    }
   ],
   "source": [
    "print(f'''\n",
    "BASELINE:\n",
    "              \n",
    "RMSE using Median\n",
    "Train/In-Sample: {round(rmse_train, 2)}\n",
    "Validate/Out-of-Sample: {round(rmse_validate, 2)}\n",
    "------------------------------------\n",
    "RMSE for OLS using LinearRegression:\n",
    "    \n",
    "Training/In-Sample: {round(rmse_train_lm, 2)}\n",
    "Validation/Out-of-Sample: {round(rmse_validate_lm, 2)}\n",
    "''')"
   ]
  },
  {
   "cell_type": "markdown",
   "metadata": {},
   "source": [
    "## LassoLars"
   ]
  },
  {
   "cell_type": "code",
   "execution_count": 74,
   "metadata": {},
   "outputs": [],
   "source": [
    "#make the thing\n",
    "lars = LassoLars(alpha=1.0)"
   ]
  },
  {
   "cell_type": "code",
   "execution_count": 75,
   "metadata": {},
   "outputs": [
    {
     "data": {
      "text/plain": [
       "LassoLars()"
      ]
     },
     "execution_count": 75,
     "metadata": {},
     "output_type": "execute_result"
    }
   ],
   "source": [
    "#fit the thing\n",
    "lars.fit(X_train, y_train.tax_value)"
   ]
  },
  {
   "cell_type": "code",
   "execution_count": 76,
   "metadata": {},
   "outputs": [],
   "source": [
    "#predict the thing: train\n",
    "y_train['pred_lars'] = lars.predict(X_train)"
   ]
  },
  {
   "cell_type": "code",
   "execution_count": 77,
   "metadata": {},
   "outputs": [],
   "source": [
    "# evaluate: rmse\n",
    "rmse_train_lars = mean_squared_error(y_train.tax_value, y_train.pred_lars)**(0.5)"
   ]
  },
  {
   "cell_type": "code",
   "execution_count": 78,
   "metadata": {},
   "outputs": [],
   "source": [
    "# predict the thing: validate\n",
    "y_validate['pred_lars'] = lars.predict(X_validate)"
   ]
  },
  {
   "cell_type": "code",
   "execution_count": 79,
   "metadata": {},
   "outputs": [],
   "source": [
    "# evaluate: rmse\n",
    "rmse_validate_lars = mean_squared_error(y_validate.tax_value, y_validate.pred_lars)**(0.5)"
   ]
  },
  {
   "cell_type": "code",
   "execution_count": 80,
   "metadata": {},
   "outputs": [
    {
     "name": "stdout",
     "output_type": "stream",
     "text": [
      "\n",
      "BASELINE:\n",
      "              \n",
      "RMSE using Median\n",
      "Train/In-Sample: 655946.78\n",
      "Validate/Out-of-Sample: 736290.58\n",
      "------------------------------------\n",
      "RMSE for OLS using LinearRegression:\n",
      "    \n",
      "Training/In-Sample: 501695.26\n",
      "Validation/Out-of-Sample: 593433.03\n",
      "------------------------------------\n",
      "RMSE for LassoLars:\n",
      "\n",
      "Training/In-Sample: 501695.54\n",
      "Validation/Out-of-Sample: 593427.35\n",
      "\n"
     ]
    }
   ],
   "source": [
    "print(f'''\n",
    "BASELINE:\n",
    "              \n",
    "RMSE using Median\n",
    "Train/In-Sample: {round(rmse_train, 2)}\n",
    "Validate/Out-of-Sample: {round(rmse_validate, 2)}\n",
    "------------------------------------\n",
    "RMSE for OLS using LinearRegression:\n",
    "    \n",
    "Training/In-Sample: {round(rmse_train_lm, 2)}\n",
    "Validation/Out-of-Sample: {round(rmse_validate_lm, 2)}\n",
    "------------------------------------\n",
    "RMSE for LassoLars:\n",
    "\n",
    "Training/In-Sample: {round(rmse_train_lars, 2)}\n",
    "Validation/Out-of-Sample: {round(rmse_validate_lars, 2)}\n",
    "''')"
   ]
  },
  {
   "cell_type": "markdown",
   "metadata": {},
   "source": [
    "### TweedieRegressor"
   ]
  },
  {
   "cell_type": "code",
   "execution_count": 81,
   "metadata": {},
   "outputs": [],
   "source": [
    "#make the thing\n",
    "glm = TweedieRegressor(power=1, alpha=0)"
   ]
  },
  {
   "cell_type": "code",
   "execution_count": 82,
   "metadata": {},
   "outputs": [
    {
     "data": {
      "text/plain": [
       "TweedieRegressor(alpha=0, power=1)"
      ]
     },
     "execution_count": 82,
     "metadata": {},
     "output_type": "execute_result"
    }
   ],
   "source": [
    "#fit the thing \n",
    "glm.fit(X_train, y_train.tax_value)"
   ]
  },
  {
   "cell_type": "code",
   "execution_count": 83,
   "metadata": {},
   "outputs": [],
   "source": [
    "#predict the thing: train\n",
    "y_train['pred_glm'] = glm.predict(X_train)"
   ]
  },
  {
   "cell_type": "code",
   "execution_count": 84,
   "metadata": {},
   "outputs": [],
   "source": [
    "# evaluate: rmse\n",
    "rmse_train_glm = mean_squared_error(y_train.tax_value, y_train.pred_glm)**(0.5)"
   ]
  },
  {
   "cell_type": "code",
   "execution_count": 85,
   "metadata": {},
   "outputs": [],
   "source": [
    "#predict the thing: validate\n",
    "# predict validate\n",
    "y_validate['pred_glm'] = glm.predict(X_validate)"
   ]
  },
  {
   "cell_type": "code",
   "execution_count": 86,
   "metadata": {},
   "outputs": [],
   "source": [
    "# evaluate: rmse\n",
    "rmse_validate_glm = mean_squared_error(y_validate.tax_value, y_validate.pred_glm)**(0.5)"
   ]
  },
  {
   "cell_type": "code",
   "execution_count": 87,
   "metadata": {},
   "outputs": [
    {
     "name": "stdout",
     "output_type": "stream",
     "text": [
      "\n",
      "BASELINE:\n",
      "              \n",
      "RMSE using Median\n",
      "Train/In-Sample: 655946.78\n",
      "Validate/Out-of-Sample: 736290.58\n",
      "------------------------------------\n",
      "RMSE for OLS using LinearRegression:\n",
      "    \n",
      "Training/In-Sample: 501695.26\n",
      "Validation/Out-of-Sample: 593433.03\n",
      "------------------------------------\n",
      "RMSE for LassoLars:\n",
      "\n",
      "Training/In-Sample: 501695.54\n",
      "Validation/Out-of-Sample: 593427.35\n",
      "------------------------------------\n",
      "RMSE for GLM using Tweedie, power=1 & alpha=0:\n",
      "\n",
      "Training/In-Sample: 642444.76\n",
      "Validation/Out-of-Sample: 724108.89\n",
      "\n"
     ]
    }
   ],
   "source": [
    "print(f'''\n",
    "BASELINE:\n",
    "              \n",
    "RMSE using Median\n",
    "Train/In-Sample: {round(rmse_train, 2)}\n",
    "Validate/Out-of-Sample: {round(rmse_validate, 2)}\n",
    "------------------------------------\n",
    "RMSE for OLS using LinearRegression:\n",
    "    \n",
    "Training/In-Sample: {round(rmse_train_lm, 2)}\n",
    "Validation/Out-of-Sample: {round(rmse_validate_lm, 2)}\n",
    "------------------------------------\n",
    "RMSE for LassoLars:\n",
    "\n",
    "Training/In-Sample: {round(rmse_train_lars, 2)}\n",
    "Validation/Out-of-Sample: {round(rmse_validate_lars, 2)}\n",
    "------------------------------------\n",
    "RMSE for GLM using Tweedie, power=1 & alpha=0:\n",
    "\n",
    "Training/In-Sample: {round(rmse_train_glm, 2)}\n",
    "Validation/Out-of-Sample: {round(rmse_validate_glm, 2)}\n",
    "''')"
   ]
  },
  {
   "cell_type": "markdown",
   "metadata": {},
   "source": [
    "### Polynomial Regression"
   ]
  },
  {
   "cell_type": "code",
   "execution_count": 88,
   "metadata": {},
   "outputs": [],
   "source": [
    "# make the polynomial features to get a new set of features\n",
    "pf = PolynomialFeatures(degree=2)\n",
    "\n",
    "# fit and transform X_train_scaled\n",
    "X_train_degree2 = pf.fit_transform(X_train)\n",
    "\n",
    "# transform X_validate_scaled & X_test_scaled\n",
    "X_validate_degree2 = pf.transform(X_validate)\n",
    "X_test_degree2 = pf.transform(X_test)"
   ]
  },
  {
   "cell_type": "code",
   "execution_count": 89,
   "metadata": {},
   "outputs": [],
   "source": [
    "# create the model object\n",
    "lm2 = LinearRegression(normalize=True)\n",
    "\n",
    "# fit the model to our training data. We must specify the column in y_train, \n",
    "# since we have converted it to a dataframe from a series! \n",
    "lm2.fit(X_train_degree2, y_train.tax_value)\n",
    "\n",
    "# predict train\n",
    "y_train['pred_lm2'] = lm2.predict(X_train_degree2)\n",
    "\n",
    "# evaluate: rmse\n",
    "rmse_train_lm2 = mean_squared_error(y_train.tax_value, y_train.pred_lm2)**(0.5)\n",
    "\n",
    "# predict validate\n",
    "y_validate['pred_lm2'] = lm2.predict(X_validate_degree2)\n",
    "\n",
    "# evaluate: rmse\n",
    "rmse_validate_lm2 = mean_squared_error(y_validate.tax_value, y_validate.pred_lm2)**(0.5)"
   ]
  },
  {
   "cell_type": "code",
   "execution_count": 90,
   "metadata": {},
   "outputs": [
    {
     "name": "stdout",
     "output_type": "stream",
     "text": [
      "\n",
      "BASELINE:\n",
      "              \n",
      "RMSE using Median\n",
      "Train/In-Sample: 655946.78\n",
      "Validate/Out-of-Sample: 736290.58\n",
      "------------------------------------\n",
      "RMSE for OLS using LinearRegression:\n",
      "    \n",
      "Training/In-Sample: 501695.26\n",
      "Validation/Out-of-Sample: 593433.03\n",
      "------------------------------------\n",
      "RMSE for LassoLars:\n",
      "\n",
      "Training/In-Sample: 501695.54\n",
      "Validation/Out-of-Sample: 593427.35\n",
      "------------------------------------\n",
      "RMSE for GLM using Tweedie, power=1 & alpha=0:\n",
      "\n",
      "Training/In-Sample: 642444.76\n",
      "Validation/Out-of-Sample: 724108.89\n",
      "------------------------------------\n",
      "RMSE for Polynomial Model, degrees=2:\n",
      "\n",
      "Training/In-Sample: 478871.47\n",
      "Validation/Out-of-Sample: 531701.34\n",
      "\n",
      "\n"
     ]
    }
   ],
   "source": [
    "print(f'''\n",
    "BASELINE:\n",
    "              \n",
    "RMSE using Median\n",
    "Train/In-Sample: {round(rmse_train, 2)}\n",
    "Validate/Out-of-Sample: {round(rmse_validate, 2)}\n",
    "------------------------------------\n",
    "RMSE for OLS using LinearRegression:\n",
    "    \n",
    "Training/In-Sample: {round(rmse_train_lm, 2)}\n",
    "Validation/Out-of-Sample: {round(rmse_validate_lm, 2)}\n",
    "------------------------------------\n",
    "RMSE for LassoLars:\n",
    "\n",
    "Training/In-Sample: {round(rmse_train_lars, 2)}\n",
    "Validation/Out-of-Sample: {round(rmse_validate_lars, 2)}\n",
    "------------------------------------\n",
    "RMSE for GLM using Tweedie, power=1 & alpha=0:\n",
    "\n",
    "Training/In-Sample: {round(rmse_train_glm, 2)}\n",
    "Validation/Out-of-Sample: {round(rmse_validate_glm, 2)}\n",
    "------------------------------------\n",
    "RMSE for Polynomial Model, degrees=2:\n",
    "\n",
    "Training/In-Sample: {round(rmse_train_lm2, 2)}\n",
    "Validation/Out-of-Sample: {round(rmse_validate_lm2, 2)}\n",
    "\n",
    "''')"
   ]
  },
  {
   "cell_type": "markdown",
   "metadata": {},
   "source": [
    "### <span style=\"color:dodgerblue;\"> Evaluate </span>"
   ]
  },
  {
   "cell_type": "markdown",
   "metadata": {},
   "source": [
    "### Plotting Actual vs. Predicted Values"
   ]
  },
  {
   "cell_type": "code",
   "execution_count": 91,
   "metadata": {},
   "outputs": [
    {
     "data": {
      "image/png": "[encoded data removed]",
      "text/plain": [
       "<Figure size 1152x576 with 1 Axes>"
      ]
     },
     "metadata": {
      "needs_background": "light"
     },
     "output_type": "display_data"
    }
   ],
   "source": [
    "# y_validate.head()\n",
    "plt.figure(figsize=(16,8))\n",
    "plt.plot(y_validate.tax_value, y_validate.baseline_mean, alpha=.5, color=\"gray\", label='_nolegend_')\n",
    "plt.annotate(\"Baseline: Predict Using Mean\", (16, 9.5))\n",
    "plt.plot(y_validate.tax_value, y_validate.tax_value, alpha=.5, color=\"blue\", label='_nolegend_')\n",
    "plt.annotate(\"The Ideal Line: Predicted = Actual\", (.5, 3.5), rotation=15.5)\n",
    "\n",
    "plt.scatter(y_validate.tax_value, y_validate.pred_lm, \n",
    "            alpha=.5, color=\"red\", s=100, label=\"Model: LinearRegression\")\n",
    "plt.scatter(y_validate.tax_value, y_validate.pred_glm, \n",
    "            alpha=.5, color=\"yellow\", s=100, label=\"Model: TweedieRegressor\")\n",
    "plt.scatter(y_validate.tax_value, y_validate.pred_lm2, \n",
    "            alpha=.5, color=\"green\", s=100, label=\"Model 2nd degree Polynomial\")\n",
    "plt.legend()\n",
    "plt.xlabel(\"Actual Tax Value\")\n",
    "plt.ylabel(\"Predicted Tax Value\")\n",
    "plt.title(\"Where are predictions more extreme? More modest?\")\n",
    "# plt.annotate(\"The polynomial model appears to overreact to noise\", (2.0, -10))\n",
    "# plt.annotate(\"The OLS model (LinearRegression)\\n appears to be most consistent\", (15.5, 3))\n",
    "plt.show()"
   ]
  },
  {
   "cell_type": "code",
   "execution_count": 92,
   "metadata": {},
   "outputs": [],
   "source": [
    "\n",
    "metric_df = pd.DataFrame(data=[{\n",
    "    'model': 'median_baseline', \n",
    "    'RMSE_validate': rmse_validate,\n",
    "    'r^2_validate': explained_variance_score(y_validate.tax_value, y_validate.baseline_median)}])\n"
   ]
  },
  {
   "cell_type": "code",
   "execution_count": 93,
   "metadata": {},
   "outputs": [],
   "source": [
    "metric_df = metric_df.append({\n",
    "    'model': 'OLS Regressor', \n",
    "    'RMSE_validate': rmse_validate_lm,\n",
    "    'r^2_validate': explained_variance_score(y_validate.tax_value, y_validate.pred_lm)}, ignore_index=True)"
   ]
  },
  {
   "cell_type": "code",
   "execution_count": 94,
   "metadata": {},
   "outputs": [],
   "source": [
    "\n",
    "metric_df = metric_df.append({\n",
    "    'model': 'Lasso alpha 1', \n",
    "    'RMSE_validate': rmse_validate_lars,\n",
    "    'r^2_validate': explained_variance_score(y_validate.tax_value, y_validate.pred_lars)}, ignore_index=True)"
   ]
  },
  {
   "cell_type": "code",
   "execution_count": 95,
   "metadata": {},
   "outputs": [],
   "source": [
    "\n",
    "metric_df = metric_df.append({\n",
    "    'model': 'GLS (Poisson)', \n",
    "    'RMSE_validate': rmse_validate_glm,\n",
    "    'r^2_validate': explained_variance_score(y_validate.tax_value, y_validate.pred_glm)}, ignore_index=True)"
   ]
  },
  {
   "cell_type": "code",
   "execution_count": 96,
   "metadata": {},
   "outputs": [],
   "source": [
    "metric_df = metric_df.append({\n",
    "    'model': 'Quadratic Model', \n",
    "    'RMSE_validate': rmse_validate_lm2,\n",
    "    'r^2_validate': explained_variance_score(y_validate.tax_value, y_validate.pred_lm2)}, ignore_index=True)"
   ]
  },
  {
   "cell_type": "code",
   "execution_count": 97,
   "metadata": {},
   "outputs": [
    {
     "data": {
      "text/html": [
       "<div>\n",
       "<style scoped>\n",
       "    .dataframe tbody tr th:only-of-type {\n",
       "        vertical-align: middle;\n",
       "    }\n",
       "\n",
       "    .dataframe tbody tr th {\n",
       "        vertical-align: top;\n",
       "    }\n",
       "\n",
       "    .dataframe thead th {\n",
       "        text-align: right;\n",
       "    }\n",
       "</style>\n",
       "<table border=\"1\" class=\"dataframe\">\n",
       "  <thead>\n",
       "    <tr style=\"text-align: right;\">\n",
       "      <th></th>\n",
       "      <th>model</th>\n",
       "      <th>RMSE_validate</th>\n",
       "      <th>r^2_validate</th>\n",
       "    </tr>\n",
       "  </thead>\n",
       "  <tbody>\n",
       "    <tr>\n",
       "      <th>0</th>\n",
       "      <td>median_baseline</td>\n",
       "      <td>736290.584878</td>\n",
       "      <td>0.000000</td>\n",
       "    </tr>\n",
       "    <tr>\n",
       "      <th>1</th>\n",
       "      <td>OLS Regressor</td>\n",
       "      <td>593433.025501</td>\n",
       "      <td>0.328366</td>\n",
       "    </tr>\n",
       "    <tr>\n",
       "      <th>2</th>\n",
       "      <td>Lasso alpha 1</td>\n",
       "      <td>593427.350637</td>\n",
       "      <td>0.328379</td>\n",
       "    </tr>\n",
       "    <tr>\n",
       "      <th>3</th>\n",
       "      <td>GLS (Poisson)</td>\n",
       "      <td>724108.894367</td>\n",
       "      <td>0.000000</td>\n",
       "    </tr>\n",
       "    <tr>\n",
       "      <th>4</th>\n",
       "      <td>Quadratic Model</td>\n",
       "      <td>531701.343262</td>\n",
       "      <td>0.460832</td>\n",
       "    </tr>\n",
       "  </tbody>\n",
       "</table>\n",
       "</div>"
      ],
      "text/plain": [
       "             model  RMSE_validate  r^2_validate\n",
       "0  median_baseline  736290.584878      0.000000\n",
       "1    OLS Regressor  593433.025501      0.328366\n",
       "2    Lasso alpha 1  593427.350637      0.328379\n",
       "3    GLS (Poisson)  724108.894367      0.000000\n",
       "4  Quadratic Model  531701.343262      0.460832"
      ]
     },
     "execution_count": 97,
     "metadata": {},
     "output_type": "execute_result"
    }
   ],
   "source": [
    "metric_df"
   ]
  },
  {
   "cell_type": "markdown",
   "metadata": {},
   "source": [
    "### Test"
   ]
  },
  {
   "cell_type": "code",
   "execution_count": 98,
   "metadata": {},
   "outputs": [
    {
     "name": "stdout",
     "output_type": "stream",
     "text": [
      "\n",
      "RMSE for Polynomial Regressor, degrees=2:\n",
      "    \n",
      "Test/Out-of-Sample Performance: 433741.44914605323\n",
      "\n"
     ]
    }
   ],
   "source": [
    "\n",
    "y_test = pd.DataFrame(y_test)\n",
    "\n",
    "#predict on test\n",
    "y_test['pred_lm2'] = lm2.predict(X_test_degree2)\n",
    "\n",
    "# evaluate: rmse\n",
    "rmse_test = mean_squared_error(y_test.tax_value, y_test.pred_lm2)**(0.5)\n",
    "\n",
    "print(f\"\"\"\n",
    "RMSE for Polynomial Regressor, degrees=2:\n",
    "    \n",
    "Test/Out-of-Sample Performance: {rmse_test}\n",
    "\"\"\")"
   ]
  },
  {
   "cell_type": "markdown",
   "metadata": {},
   "source": [
    "# Phase II: Acquire More Data for Model"
   ]
  },
  {
   "cell_type": "markdown",
   "metadata": {},
   "source": [
    "## Acquire\n",
    "- same dataset from the beginning, but this time I will keep more variables"
   ]
  },
  {
   "cell_type": "code",
   "execution_count": 111,
   "metadata": {},
   "outputs": [],
   "source": [
    "df = wrangle.clean_zillow(wrangle.get_zillow_data())"
   ]
  },
  {
   "cell_type": "code",
   "execution_count": 112,
   "metadata": {},
   "outputs": [
    {
     "data": {
      "text/html": [
       "<div>\n",
       "<style scoped>\n",
       "    .dataframe tbody tr th:only-of-type {\n",
       "        vertical-align: middle;\n",
       "    }\n",
       "\n",
       "    .dataframe tbody tr th {\n",
       "        vertical-align: top;\n",
       "    }\n",
       "\n",
       "    .dataframe thead th {\n",
       "        text-align: right;\n",
       "    }\n",
       "</style>\n",
       "<table border=\"1\" class=\"dataframe\">\n",
       "  <thead>\n",
       "    <tr style=\"text-align: right;\">\n",
       "      <th></th>\n",
       "      <th>bedrooms</th>\n",
       "      <th>bathrooms</th>\n",
       "      <th>yearbuilt</th>\n",
       "      <th>county</th>\n",
       "      <th>zip_code</th>\n",
       "      <th>fips</th>\n",
       "      <th>latitude</th>\n",
       "      <th>longitude</th>\n",
       "      <th>square_feet</th>\n",
       "      <th>taxamount</th>\n",
       "      <th>tax_value</th>\n",
       "      <th>property_age</th>\n",
       "      <th>tax_rate</th>\n",
       "    </tr>\n",
       "  </thead>\n",
       "  <tbody>\n",
       "    <tr>\n",
       "      <th>count</th>\n",
       "      <td>77253.00000</td>\n",
       "      <td>77253.000000</td>\n",
       "      <td>77253.000000</td>\n",
       "      <td>77253.000000</td>\n",
       "      <td>77253.000000</td>\n",
       "      <td>77253.000000</td>\n",
       "      <td>7.725300e+04</td>\n",
       "      <td>7.725300e+04</td>\n",
       "      <td>77253.000000</td>\n",
       "      <td>77253.000000</td>\n",
       "      <td>7.725300e+04</td>\n",
       "      <td>77253.000000</td>\n",
       "      <td>77253.000000</td>\n",
       "    </tr>\n",
       "    <tr>\n",
       "      <th>mean</th>\n",
       "      <td>3.06115</td>\n",
       "      <td>2.304254</td>\n",
       "      <td>1968.598799</td>\n",
       "      <td>2535.858905</td>\n",
       "      <td>96586.484033</td>\n",
       "      <td>6048.770261</td>\n",
       "      <td>3.400856e+07</td>\n",
       "      <td>-1.182035e+08</td>\n",
       "      <td>1784.127568</td>\n",
       "      <td>5977.930106</td>\n",
       "      <td>4.886524e+05</td>\n",
       "      <td>52.401201</td>\n",
       "      <td>0.013167</td>\n",
       "    </tr>\n",
       "    <tr>\n",
       "      <th>std</th>\n",
       "      <td>1.12984</td>\n",
       "      <td>0.990168</td>\n",
       "      <td>23.786244</td>\n",
       "      <td>801.100915</td>\n",
       "      <td>3800.227667</td>\n",
       "      <td>20.707202</td>\n",
       "      <td>2.652595e+05</td>\n",
       "      <td>3.588717e+05</td>\n",
       "      <td>953.267975</td>\n",
       "      <td>7576.150343</td>\n",
       "      <td>6.499134e+05</td>\n",
       "      <td>23.786244</td>\n",
       "      <td>0.005758</td>\n",
       "    </tr>\n",
       "    <tr>\n",
       "      <th>min</th>\n",
       "      <td>0.00000</td>\n",
       "      <td>0.000000</td>\n",
       "      <td>1824.000000</td>\n",
       "      <td>1286.000000</td>\n",
       "      <td>95982.000000</td>\n",
       "      <td>6037.000000</td>\n",
       "      <td>3.333953e+07</td>\n",
       "      <td>-1.194753e+08</td>\n",
       "      <td>128.000000</td>\n",
       "      <td>19.920000</td>\n",
       "      <td>1.000000e+03</td>\n",
       "      <td>5.000000</td>\n",
       "      <td>0.000094</td>\n",
       "    </tr>\n",
       "    <tr>\n",
       "      <th>25%</th>\n",
       "      <td>2.00000</td>\n",
       "      <td>2.000000</td>\n",
       "      <td>1953.000000</td>\n",
       "      <td>1286.000000</td>\n",
       "      <td>96193.000000</td>\n",
       "      <td>6037.000000</td>\n",
       "      <td>3.381480e+07</td>\n",
       "      <td>-1.184150e+08</td>\n",
       "      <td>1182.000000</td>\n",
       "      <td>2714.890000</td>\n",
       "      <td>2.070000e+05</td>\n",
       "      <td>34.000000</td>\n",
       "      <td>0.011662</td>\n",
       "    </tr>\n",
       "    <tr>\n",
       "      <th>50%</th>\n",
       "      <td>3.00000</td>\n",
       "      <td>2.000000</td>\n",
       "      <td>1970.000000</td>\n",
       "      <td>3101.000000</td>\n",
       "      <td>96389.000000</td>\n",
       "      <td>6037.000000</td>\n",
       "      <td>3.402210e+07</td>\n",
       "      <td>-1.181809e+08</td>\n",
       "      <td>1541.000000</td>\n",
       "      <td>4447.620000</td>\n",
       "      <td>3.587690e+05</td>\n",
       "      <td>51.000000</td>\n",
       "      <td>0.012286</td>\n",
       "    </tr>\n",
       "    <tr>\n",
       "      <th>75%</th>\n",
       "      <td>4.00000</td>\n",
       "      <td>3.000000</td>\n",
       "      <td>1987.000000</td>\n",
       "      <td>3101.000000</td>\n",
       "      <td>96987.000000</td>\n",
       "      <td>6059.000000</td>\n",
       "      <td>3.417436e+07</td>\n",
       "      <td>-1.179290e+08</td>\n",
       "      <td>2110.000000</td>\n",
       "      <td>6920.740000</td>\n",
       "      <td>5.685390e+05</td>\n",
       "      <td>68.000000</td>\n",
       "      <td>0.013455</td>\n",
       "    </tr>\n",
       "    <tr>\n",
       "      <th>max</th>\n",
       "      <td>16.00000</td>\n",
       "      <td>18.000000</td>\n",
       "      <td>2016.000000</td>\n",
       "      <td>3101.000000</td>\n",
       "      <td>399675.000000</td>\n",
       "      <td>6111.000000</td>\n",
       "      <td>3.481877e+07</td>\n",
       "      <td>-1.175546e+08</td>\n",
       "      <td>35640.000000</td>\n",
       "      <td>586639.300000</td>\n",
       "      <td>4.906124e+07</td>\n",
       "      <td>197.000000</td>\n",
       "      <td>0.816490</td>\n",
       "    </tr>\n",
       "  </tbody>\n",
       "</table>\n",
       "</div>"
      ],
      "text/plain": [
       "          bedrooms     bathrooms     yearbuilt        county       zip_code  \\\n",
       "count  77253.00000  77253.000000  77253.000000  77253.000000   77253.000000   \n",
       "mean       3.06115      2.304254   1968.598799   2535.858905   96586.484033   \n",
       "std        1.12984      0.990168     23.786244    801.100915    3800.227667   \n",
       "min        0.00000      0.000000   1824.000000   1286.000000   95982.000000   \n",
       "25%        2.00000      2.000000   1953.000000   1286.000000   96193.000000   \n",
       "50%        3.00000      2.000000   1970.000000   3101.000000   96389.000000   \n",
       "75%        4.00000      3.000000   1987.000000   3101.000000   96987.000000   \n",
       "max       16.00000     18.000000   2016.000000   3101.000000  399675.000000   \n",
       "\n",
       "               fips      latitude     longitude   square_feet      taxamount  \\\n",
       "count  77253.000000  7.725300e+04  7.725300e+04  77253.000000   77253.000000   \n",
       "mean    6048.770261  3.400856e+07 -1.182035e+08   1784.127568    5977.930106   \n",
       "std       20.707202  2.652595e+05  3.588717e+05    953.267975    7576.150343   \n",
       "min     6037.000000  3.333953e+07 -1.194753e+08    128.000000      19.920000   \n",
       "25%     6037.000000  3.381480e+07 -1.184150e+08   1182.000000    2714.890000   \n",
       "50%     6037.000000  3.402210e+07 -1.181809e+08   1541.000000    4447.620000   \n",
       "75%     6059.000000  3.417436e+07 -1.179290e+08   2110.000000    6920.740000   \n",
       "max     6111.000000  3.481877e+07 -1.175546e+08  35640.000000  586639.300000   \n",
       "\n",
       "          tax_value  property_age      tax_rate  \n",
       "count  7.725300e+04  77253.000000  77253.000000  \n",
       "mean   4.886524e+05     52.401201      0.013167  \n",
       "std    6.499134e+05     23.786244      0.005758  \n",
       "min    1.000000e+03      5.000000      0.000094  \n",
       "25%    2.070000e+05     34.000000      0.011662  \n",
       "50%    3.587690e+05     51.000000      0.012286  \n",
       "75%    5.685390e+05     68.000000      0.013455  \n",
       "max    4.906124e+07    197.000000      0.816490  "
      ]
     },
     "execution_count": 112,
     "metadata": {},
     "output_type": "execute_result"
    }
   ],
   "source": [
    "df.describe()"
   ]
  },
  {
   "cell_type": "code",
   "execution_count": 114,
   "metadata": {},
   "outputs": [
    {
     "data": {
      "text/html": [
       "<div>\n",
       "<style scoped>\n",
       "    .dataframe tbody tr th:only-of-type {\n",
       "        vertical-align: middle;\n",
       "    }\n",
       "\n",
       "    .dataframe tbody tr th {\n",
       "        vertical-align: top;\n",
       "    }\n",
       "\n",
       "    .dataframe thead th {\n",
       "        text-align: right;\n",
       "    }\n",
       "</style>\n",
       "<table border=\"1\" class=\"dataframe\">\n",
       "  <thead>\n",
       "    <tr style=\"text-align: right;\">\n",
       "      <th></th>\n",
       "      <th>bedrooms</th>\n",
       "      <th>bathrooms</th>\n",
       "      <th>yearbuilt</th>\n",
       "      <th>county</th>\n",
       "      <th>zip_code</th>\n",
       "      <th>fips</th>\n",
       "      <th>latitude</th>\n",
       "      <th>longitude</th>\n",
       "      <th>square_feet</th>\n",
       "      <th>taxamount</th>\n",
       "      <th>tax_value</th>\n",
       "      <th>property_age</th>\n",
       "      <th>tax_rate</th>\n",
       "    </tr>\n",
       "    <tr>\n",
       "      <th>parcelid</th>\n",
       "      <th></th>\n",
       "      <th></th>\n",
       "      <th></th>\n",
       "      <th></th>\n",
       "      <th></th>\n",
       "      <th></th>\n",
       "      <th></th>\n",
       "      <th></th>\n",
       "      <th></th>\n",
       "      <th></th>\n",
       "      <th></th>\n",
       "      <th></th>\n",
       "      <th></th>\n",
       "    </tr>\n",
       "  </thead>\n",
       "  <tbody>\n",
       "    <tr>\n",
       "      <th>14297519</th>\n",
       "      <td>4</td>\n",
       "      <td>3.5</td>\n",
       "      <td>1998</td>\n",
       "      <td>1286</td>\n",
       "      <td>96978</td>\n",
       "      <td>6059</td>\n",
       "      <td>33634931</td>\n",
       "      <td>-117869207</td>\n",
       "      <td>3100.0</td>\n",
       "      <td>11013.72</td>\n",
       "      <td>1023282.0</td>\n",
       "      <td>23</td>\n",
       "      <td>0.010763</td>\n",
       "    </tr>\n",
       "    <tr>\n",
       "      <th>17052889</th>\n",
       "      <td>2</td>\n",
       "      <td>1.0</td>\n",
       "      <td>1967</td>\n",
       "      <td>2061</td>\n",
       "      <td>97099</td>\n",
       "      <td>6111</td>\n",
       "      <td>34449266</td>\n",
       "      <td>-119281531</td>\n",
       "      <td>1465.0</td>\n",
       "      <td>5672.48</td>\n",
       "      <td>464000.0</td>\n",
       "      <td>54</td>\n",
       "      <td>0.012225</td>\n",
       "    </tr>\n",
       "    <tr>\n",
       "      <th>14186244</th>\n",
       "      <td>3</td>\n",
       "      <td>2.0</td>\n",
       "      <td>1962</td>\n",
       "      <td>1286</td>\n",
       "      <td>97078</td>\n",
       "      <td>6059</td>\n",
       "      <td>33886168</td>\n",
       "      <td>-117823170</td>\n",
       "      <td>1243.0</td>\n",
       "      <td>6488.30</td>\n",
       "      <td>564778.0</td>\n",
       "      <td>59</td>\n",
       "      <td>0.011488</td>\n",
       "    </tr>\n",
       "    <tr>\n",
       "      <th>12177905</th>\n",
       "      <td>4</td>\n",
       "      <td>3.0</td>\n",
       "      <td>1970</td>\n",
       "      <td>3101</td>\n",
       "      <td>96330</td>\n",
       "      <td>6037</td>\n",
       "      <td>34245180</td>\n",
       "      <td>-118240722</td>\n",
       "      <td>2376.0</td>\n",
       "      <td>1777.51</td>\n",
       "      <td>145143.0</td>\n",
       "      <td>51</td>\n",
       "      <td>0.012247</td>\n",
       "    </tr>\n",
       "    <tr>\n",
       "      <th>10887214</th>\n",
       "      <td>3</td>\n",
       "      <td>3.0</td>\n",
       "      <td>1964</td>\n",
       "      <td>3101</td>\n",
       "      <td>96451</td>\n",
       "      <td>6037</td>\n",
       "      <td>34185120</td>\n",
       "      <td>-118414640</td>\n",
       "      <td>1312.0</td>\n",
       "      <td>1533.89</td>\n",
       "      <td>119407.0</td>\n",
       "      <td>57</td>\n",
       "      <td>0.012846</td>\n",
       "    </tr>\n",
       "  </tbody>\n",
       "</table>\n",
       "</div>"
      ],
      "text/plain": [
       "          bedrooms  bathrooms  yearbuilt  county  zip_code  fips  latitude  \\\n",
       "parcelid                                                                     \n",
       "14297519         4        3.5       1998    1286     96978  6059  33634931   \n",
       "17052889         2        1.0       1967    2061     97099  6111  34449266   \n",
       "14186244         3        2.0       1962    1286     97078  6059  33886168   \n",
       "12177905         4        3.0       1970    3101     96330  6037  34245180   \n",
       "10887214         3        3.0       1964    3101     96451  6037  34185120   \n",
       "\n",
       "          longitude  square_feet  taxamount  tax_value  property_age  tax_rate  \n",
       "parcelid                                                                        \n",
       "14297519 -117869207       3100.0   11013.72  1023282.0            23  0.010763  \n",
       "17052889 -119281531       1465.0    5672.48   464000.0            54  0.012225  \n",
       "14186244 -117823170       1243.0    6488.30   564778.0            59  0.011488  \n",
       "12177905 -118240722       2376.0    1777.51   145143.0            51  0.012247  \n",
       "10887214 -118414640       1312.0    1533.89   119407.0            57  0.012846  "
      ]
     },
     "execution_count": 114,
     "metadata": {},
     "output_type": "execute_result"
    }
   ],
   "source": [
    "df.head()"
   ]
  },
  {
   "cell_type": "code",
   "execution_count": 115,
   "metadata": {},
   "outputs": [
    {
     "name": "stdout",
     "output_type": "stream",
     "text": [
      "<class 'pandas.core.frame.DataFrame'>\n",
      "Int64Index: 77253 entries, 14297519 to 13083743\n",
      "Data columns (total 13 columns):\n",
      " #   Column        Non-Null Count  Dtype  \n",
      "---  ------        --------------  -----  \n",
      " 0   bedrooms      77253 non-null  int64  \n",
      " 1   bathrooms     77253 non-null  float64\n",
      " 2   yearbuilt     77253 non-null  int64  \n",
      " 3   county        77253 non-null  int64  \n",
      " 4   zip_code      77253 non-null  int64  \n",
      " 5   fips          77253 non-null  int64  \n",
      " 6   latitude      77253 non-null  int64  \n",
      " 7   longitude     77253 non-null  int64  \n",
      " 8   square_feet   77253 non-null  float64\n",
      " 9   taxamount     77253 non-null  float64\n",
      " 10  tax_value     77253 non-null  float64\n",
      " 11  property_age  77253 non-null  int64  \n",
      " 12  tax_rate      77253 non-null  float64\n",
      "dtypes: float64(5), int64(8)\n",
      "memory usage: 8.3 MB\n"
     ]
    }
   ],
   "source": [
    "df.info()"
   ]
  },
  {
   "cell_type": "code",
   "execution_count": 116,
   "metadata": {},
   "outputs": [
    {
     "data": {
      "text/plain": [
       "bedrooms        0\n",
       "bathrooms       0\n",
       "yearbuilt       0\n",
       "county          0\n",
       "zip_code        0\n",
       "fips            0\n",
       "latitude        0\n",
       "longitude       0\n",
       "square_feet     0\n",
       "taxamount       0\n",
       "tax_value       0\n",
       "property_age    0\n",
       "tax_rate        0\n",
       "dtype: int64"
      ]
     },
     "execution_count": 116,
     "metadata": {},
     "output_type": "execute_result"
    }
   ],
   "source": [
    "df.isnull().sum()"
   ]
  },
  {
   "cell_type": "code",
   "execution_count": 117,
   "metadata": {},
   "outputs": [
    {
     "data": {
      "text/plain": [
       "(77253, 13)"
      ]
     },
     "execution_count": 117,
     "metadata": {},
     "output_type": "execute_result"
    }
   ],
   "source": [
    "df.shape"
   ]
  },
  {
   "cell_type": "markdown",
   "metadata": {},
   "source": [
    "## Prepare\n",
    "- this data has already gone through:\n",
    "    - handling null values (dropped all nulls, will try and impute some nulls later if time allows)\n",
    "    - converting float variables that do not require a decimal to ints\n",
    "    - changing columns names\n",
    "    - drop columns\n",
    "    - adding new columns\n",
    "- this data set needs:\n",
    "    - outliers to be handled\n",
    "    - dummy columns for categorical variables\n",
    "    - scaling\n",
    "    - splitting\n",
    "    - set parcelid to axis\n",
    "    - drop columns we will not be using this iteration"
   ]
  },
  {
   "cell_type": "code",
   "execution_count": 118,
   "metadata": {},
   "outputs": [
    {
     "name": "stdout",
     "output_type": "stream",
     "text": [
      "column: bedrooms \n",
      "IQR: 3.0 \n",
      "Upper bound: 8.5 \n",
      "Lower bound: -2.5 \n",
      "\n",
      "column: bathrooms \n",
      "IQR: 1.5 \n",
      "Upper bound: 5.25 \n",
      "Lower bound: -0.25 \n",
      "\n",
      "column: square_feet \n",
      "IQR: 1350.0 \n",
      "Upper bound: 4102.0 \n",
      "Lower bound: -848.0 \n",
      "\n",
      "column: tax_value \n",
      "IQR: 514925.25 \n",
      "Upper bound: 1318084.875 \n",
      "Lower bound: -569974.375 \n",
      "\n"
     ]
    }
   ],
   "source": [
    "#handle outliers\n",
    "columns = ['bedrooms', 'bathrooms','square_feet', 'tax_value']\n",
    "for x in columns:\n",
    "    \n",
    "    Q1 = df[x].quantile(0.25)\n",
    "    Q3 = df[x].quantile(0.75)\n",
    "    IQR = (Q3 - Q1) * 1.5\n",
    "    upper = Q3 + (1.5 * IQR)\n",
    "    lower = Q1 - (1.5 * IQR)\n",
    "    df = df[df[x] < (upper)]\n",
    "    \n",
    "    print('column:', x,'\\nIQR:', IQR, '\\nUpper bound:', upper, '\\nLower bound:', lower, '\\n')"
   ]
  },
  {
   "cell_type": "code",
   "execution_count": 119,
   "metadata": {},
   "outputs": [
    {
     "data": {
      "text/plain": [
       "(72633, 13)"
      ]
     },
     "execution_count": 119,
     "metadata": {},
     "output_type": "execute_result"
    }
   ],
   "source": [
    "df.shape"
   ]
  },
  {
   "cell_type": "markdown",
   "metadata": {},
   "source": [
    "##### Dataset dropped rows from 77253 to 72633 with removal of outliers"
   ]
  },
  {
   "cell_type": "code",
   "execution_count": 120,
   "metadata": {},
   "outputs": [],
   "source": [
    "#features that will be dropped for this iteration\n",
    "df.drop(['county', 'zip_code', 'latitude', 'longitude', 'taxamount'], axis=1, inplace=True)"
   ]
  },
  {
   "cell_type": "code",
   "execution_count": 121,
   "metadata": {},
   "outputs": [],
   "source": [
    "#change fips to object so it doesnt get scaled later\n",
    "df['fips'] = df['fips'].astype(object)"
   ]
  },
  {
   "cell_type": "code",
   "execution_count": 122,
   "metadata": {},
   "outputs": [
    {
     "name": "stdout",
     "output_type": "stream",
     "text": [
      "<class 'pandas.core.frame.DataFrame'>\n",
      "Int64Index: 72633 entries, 14297519 to 13083743\n",
      "Data columns (total 8 columns):\n",
      " #   Column        Non-Null Count  Dtype  \n",
      "---  ------        --------------  -----  \n",
      " 0   bedrooms      72633 non-null  int64  \n",
      " 1   bathrooms     72633 non-null  float64\n",
      " 2   yearbuilt     72633 non-null  int64  \n",
      " 3   fips          72633 non-null  object \n",
      " 4   square_feet   72633 non-null  float64\n",
      " 5   tax_value     72633 non-null  float64\n",
      " 6   property_age  72633 non-null  int64  \n",
      " 7   tax_rate      72633 non-null  float64\n",
      "dtypes: float64(4), int64(3), object(1)\n",
      "memory usage: 5.0+ MB\n"
     ]
    }
   ],
   "source": [
    "df.info()"
   ]
  },
  {
   "cell_type": "code",
   "execution_count": 123,
   "metadata": {},
   "outputs": [
    {
     "data": {
      "text/html": [
       "<div>\n",
       "<style scoped>\n",
       "    .dataframe tbody tr th:only-of-type {\n",
       "        vertical-align: middle;\n",
       "    }\n",
       "\n",
       "    .dataframe tbody tr th {\n",
       "        vertical-align: top;\n",
       "    }\n",
       "\n",
       "    .dataframe thead th {\n",
       "        text-align: right;\n",
       "    }\n",
       "</style>\n",
       "<table border=\"1\" class=\"dataframe\">\n",
       "  <thead>\n",
       "    <tr style=\"text-align: right;\">\n",
       "      <th></th>\n",
       "      <th>bedrooms</th>\n",
       "      <th>bathrooms</th>\n",
       "      <th>yearbuilt</th>\n",
       "      <th>fips</th>\n",
       "      <th>square_feet</th>\n",
       "      <th>tax_value</th>\n",
       "      <th>property_age</th>\n",
       "      <th>tax_rate</th>\n",
       "    </tr>\n",
       "    <tr>\n",
       "      <th>parcelid</th>\n",
       "      <th></th>\n",
       "      <th></th>\n",
       "      <th></th>\n",
       "      <th></th>\n",
       "      <th></th>\n",
       "      <th></th>\n",
       "      <th></th>\n",
       "      <th></th>\n",
       "    </tr>\n",
       "  </thead>\n",
       "  <tbody>\n",
       "    <tr>\n",
       "      <th>14297519</th>\n",
       "      <td>4</td>\n",
       "      <td>3.5</td>\n",
       "      <td>1998</td>\n",
       "      <td>6059</td>\n",
       "      <td>3100.0</td>\n",
       "      <td>1023282.0</td>\n",
       "      <td>23</td>\n",
       "      <td>0.010763</td>\n",
       "    </tr>\n",
       "    <tr>\n",
       "      <th>17052889</th>\n",
       "      <td>2</td>\n",
       "      <td>1.0</td>\n",
       "      <td>1967</td>\n",
       "      <td>6111</td>\n",
       "      <td>1465.0</td>\n",
       "      <td>464000.0</td>\n",
       "      <td>54</td>\n",
       "      <td>0.012225</td>\n",
       "    </tr>\n",
       "    <tr>\n",
       "      <th>14186244</th>\n",
       "      <td>3</td>\n",
       "      <td>2.0</td>\n",
       "      <td>1962</td>\n",
       "      <td>6059</td>\n",
       "      <td>1243.0</td>\n",
       "      <td>564778.0</td>\n",
       "      <td>59</td>\n",
       "      <td>0.011488</td>\n",
       "    </tr>\n",
       "    <tr>\n",
       "      <th>12177905</th>\n",
       "      <td>4</td>\n",
       "      <td>3.0</td>\n",
       "      <td>1970</td>\n",
       "      <td>6037</td>\n",
       "      <td>2376.0</td>\n",
       "      <td>145143.0</td>\n",
       "      <td>51</td>\n",
       "      <td>0.012247</td>\n",
       "    </tr>\n",
       "    <tr>\n",
       "      <th>10887214</th>\n",
       "      <td>3</td>\n",
       "      <td>3.0</td>\n",
       "      <td>1964</td>\n",
       "      <td>6037</td>\n",
       "      <td>1312.0</td>\n",
       "      <td>119407.0</td>\n",
       "      <td>57</td>\n",
       "      <td>0.012846</td>\n",
       "    </tr>\n",
       "  </tbody>\n",
       "</table>\n",
       "</div>"
      ],
      "text/plain": [
       "          bedrooms  bathrooms  yearbuilt  fips  square_feet  tax_value  \\\n",
       "parcelid                                                                 \n",
       "14297519         4        3.5       1998  6059       3100.0  1023282.0   \n",
       "17052889         2        1.0       1967  6111       1465.0   464000.0   \n",
       "14186244         3        2.0       1962  6059       1243.0   564778.0   \n",
       "12177905         4        3.0       1970  6037       2376.0   145143.0   \n",
       "10887214         3        3.0       1964  6037       1312.0   119407.0   \n",
       "\n",
       "          property_age  tax_rate  \n",
       "parcelid                          \n",
       "14297519            23  0.010763  \n",
       "17052889            54  0.012225  \n",
       "14186244            59  0.011488  \n",
       "12177905            51  0.012247  \n",
       "10887214            57  0.012846  "
      ]
     },
     "execution_count": 123,
     "metadata": {},
     "output_type": "execute_result"
    }
   ],
   "source": [
    "df.head()"
   ]
  },
  {
   "cell_type": "markdown",
   "metadata": {},
   "source": [
    "## Explore"
   ]
  },
  {
   "cell_type": "markdown",
   "metadata": {},
   "source": [
    "#### Split"
   ]
  },
  {
   "cell_type": "code",
   "execution_count": 126,
   "metadata": {},
   "outputs": [],
   "source": [
    "train, validate, test, X_train, y_train, X_validate, y_validate, X_test, y_test = wrangle.train_validate_test_split(df,'tax_value', 123)"
   ]
  },
  {
   "cell_type": "code",
   "execution_count": 127,
   "metadata": {},
   "outputs": [
    {
     "data": {
      "text/html": [
       "<div>\n",
       "<style scoped>\n",
       "    .dataframe tbody tr th:only-of-type {\n",
       "        vertical-align: middle;\n",
       "    }\n",
       "\n",
       "    .dataframe tbody tr th {\n",
       "        vertical-align: top;\n",
       "    }\n",
       "\n",
       "    .dataframe thead th {\n",
       "        text-align: right;\n",
       "    }\n",
       "</style>\n",
       "<table border=\"1\" class=\"dataframe\">\n",
       "  <thead>\n",
       "    <tr style=\"text-align: right;\">\n",
       "      <th></th>\n",
       "      <th>bedrooms</th>\n",
       "      <th>bathrooms</th>\n",
       "      <th>yearbuilt</th>\n",
       "      <th>fips</th>\n",
       "      <th>square_feet</th>\n",
       "      <th>tax_value</th>\n",
       "      <th>property_age</th>\n",
       "      <th>tax_rate</th>\n",
       "    </tr>\n",
       "    <tr>\n",
       "      <th>parcelid</th>\n",
       "      <th></th>\n",
       "      <th></th>\n",
       "      <th></th>\n",
       "      <th></th>\n",
       "      <th></th>\n",
       "      <th></th>\n",
       "      <th></th>\n",
       "      <th></th>\n",
       "    </tr>\n",
       "  </thead>\n",
       "  <tbody>\n",
       "    <tr>\n",
       "      <th>12815320</th>\n",
       "      <td>5</td>\n",
       "      <td>4.0</td>\n",
       "      <td>1983</td>\n",
       "      <td>6037</td>\n",
       "      <td>3490.0</td>\n",
       "      <td>581233.0</td>\n",
       "      <td>38</td>\n",
       "      <td>0.011875</td>\n",
       "    </tr>\n",
       "    <tr>\n",
       "      <th>11490249</th>\n",
       "      <td>2</td>\n",
       "      <td>3.0</td>\n",
       "      <td>1980</td>\n",
       "      <td>6037</td>\n",
       "      <td>1387.0</td>\n",
       "      <td>575755.0</td>\n",
       "      <td>41</td>\n",
       "      <td>0.011870</td>\n",
       "    </tr>\n",
       "    <tr>\n",
       "      <th>11695472</th>\n",
       "      <td>1</td>\n",
       "      <td>1.0</td>\n",
       "      <td>1921</td>\n",
       "      <td>6037</td>\n",
       "      <td>900.0</td>\n",
       "      <td>137258.0</td>\n",
       "      <td>100</td>\n",
       "      <td>0.012332</td>\n",
       "    </tr>\n",
       "    <tr>\n",
       "      <th>12960692</th>\n",
       "      <td>3</td>\n",
       "      <td>3.0</td>\n",
       "      <td>1983</td>\n",
       "      <td>6037</td>\n",
       "      <td>1469.0</td>\n",
       "      <td>437512.0</td>\n",
       "      <td>38</td>\n",
       "      <td>0.013344</td>\n",
       "    </tr>\n",
       "    <tr>\n",
       "      <th>13057060</th>\n",
       "      <td>4</td>\n",
       "      <td>3.0</td>\n",
       "      <td>2003</td>\n",
       "      <td>6037</td>\n",
       "      <td>2481.0</td>\n",
       "      <td>646000.0</td>\n",
       "      <td>18</td>\n",
       "      <td>0.014325</td>\n",
       "    </tr>\n",
       "  </tbody>\n",
       "</table>\n",
       "</div>"
      ],
      "text/plain": [
       "          bedrooms  bathrooms  yearbuilt  fips  square_feet  tax_value  \\\n",
       "parcelid                                                                 \n",
       "12815320         5        4.0       1983  6037       3490.0   581233.0   \n",
       "11490249         2        3.0       1980  6037       1387.0   575755.0   \n",
       "11695472         1        1.0       1921  6037        900.0   137258.0   \n",
       "12960692         3        3.0       1983  6037       1469.0   437512.0   \n",
       "13057060         4        3.0       2003  6037       2481.0   646000.0   \n",
       "\n",
       "          property_age  tax_rate  \n",
       "parcelid                          \n",
       "12815320            38  0.011875  \n",
       "11490249            41  0.011870  \n",
       "11695472           100  0.012332  \n",
       "12960692            38  0.013344  \n",
       "13057060            18  0.014325  "
      ]
     },
     "execution_count": 127,
     "metadata": {},
     "output_type": "execute_result"
    }
   ],
   "source": [
    "train.head()"
   ]
  },
  {
   "cell_type": "code",
   "execution_count": 128,
   "metadata": {},
   "outputs": [
    {
     "name": "stdout",
     "output_type": "stream",
     "text": [
      "train -> (40674, 8)\n",
      "validate -> (17432, 8)\n",
      "test -> (14527, 8)\n"
     ]
    }
   ],
   "source": [
    "print(f'train -> {train.shape}')\n",
    "print(f'validate -> {validate.shape}')\n",
    "print(f'test -> {test.shape}')"
   ]
  },
  {
   "cell_type": "markdown",
   "metadata": {},
   "source": [
    "#### Scale"
   ]
  },
  {
   "cell_type": "code",
   "execution_count": 129,
   "metadata": {},
   "outputs": [],
   "source": [
    "scaler, X_train_scaled, X_validate_scaled, X_test_scaled = wrangle.Standard_Scaler(X_train, X_validate, X_test)"
   ]
  },
  {
   "cell_type": "markdown",
   "metadata": {},
   "source": [
    "### Univariate Plots for New Features"
   ]
  },
  {
   "cell_type": "code",
   "execution_count": 130,
   "metadata": {},
   "outputs": [
    {
     "data": {
      "image/png": "[encoded data removed]",
      "text/plain": [
       "<Figure size 144x144 with 1 Axes>"
      ]
     },
     "metadata": {
      "needs_background": "light"
     },
     "output_type": "display_data"
    },
    {
     "name": "stdout",
     "output_type": "stream",
     "text": [
      "      fips  Count  Percent\n",
      "6037  6037  26574    65.33\n",
      "6059  6059  10700    26.31\n",
      "6111  6111   3400     8.36\n",
      "_________________________________________________________________\n"
     ]
    },
    {
     "data": {
      "image/png": "[encoded data removed]",
      "text/plain": [
       "<Figure size 576x144 with 2 Axes>"
      ]
     },
     "metadata": {
      "needs_background": "light"
     },
     "output_type": "display_data"
    },
    {
     "name": "stdout",
     "output_type": "stream",
     "text": [
      "count    40674.000000\n",
      "mean        52.788022\n",
      "std         23.358785\n",
      "min          6.000000\n",
      "25%         35.000000\n",
      "50%         52.000000\n",
      "75%         68.000000\n",
      "max        155.000000\n",
      "Name: property_age, dtype: float64\n"
     ]
    },
    {
     "data": {
      "image/png": "[encoded data removed]",
      "text/plain": [
       "<Figure size 576x144 with 2 Axes>"
      ]
     },
     "metadata": {
      "needs_background": "light"
     },
     "output_type": "display_data"
    },
    {
     "name": "stdout",
     "output_type": "stream",
     "text": [
      "count    40674.000000\n",
      "mean         0.013261\n",
      "std          0.006903\n",
      "min          0.000094\n",
      "25%          0.011721\n",
      "50%          0.012332\n",
      "75%          0.013549\n",
      "max          0.816490\n",
      "Name: tax_rate, dtype: float64\n"
     ]
    }
   ],
   "source": [
    "cat_vars = ['fips']\n",
    "quant_vars = ['property_age', 'tax_rate']\n",
    "explore.explore_univariate(train, cat_vars, quant_vars)"
   ]
  },
  {
   "cell_type": "markdown",
   "metadata": {},
   "source": [
    "#### Univariate takeways:\n",
    "- los angeles properties dominated the dataset with ~65% of the properties coming from this county\n",
    "- Mean property age is ~ 53 years"
   ]
  },
  {
   "cell_type": "markdown",
   "metadata": {},
   "source": [
    "### Multivariate Plots to Focus on"
   ]
  },
  {
   "cell_type": "code",
   "execution_count": 131,
   "metadata": {},
   "outputs": [
    {
     "data": {
      "text/plain": [
       "Text(0.5, 1.0, 'Distribution of Tax Rates')"
      ]
     },
     "execution_count": 131,
     "metadata": {},
     "output_type": "execute_result"
    },
    {
     "data": {
      "image/png": "[encoded data removed]",
      "text/plain": [
       "<Figure size 748.8x514.8 with 1 Axes>"
      ]
     },
     "metadata": {
      "needs_background": "light"
     },
     "output_type": "display_data"
    }
   ],
   "source": [
    "sns.histplot(data=train, x=\"tax_value\", hue = 'fips')\n",
    "plt.title('Distribution of Tax Rates')"
   ]
  },
  {
   "cell_type": "markdown",
   "metadata": {},
   "source": [
    "#### LA has the highest tax value followed by OC, then VC"
   ]
  },
  {
   "cell_type": "code",
   "execution_count": 132,
   "metadata": {},
   "outputs": [
    {
     "data": {
      "text/plain": [
       "Text(0.5, 1.0, 'Distribution of Tax Rates across Property Age')"
      ]
     },
     "execution_count": 132,
     "metadata": {},
     "output_type": "execute_result"
    },
    {
     "data": {
      "image/png": "[encoded data removed]",
      "text/plain": [
       "<Figure size 748.8x514.8 with 1 Axes>"
      ]
     },
     "metadata": {
      "needs_background": "light"
     },
     "output_type": "display_data"
    }
   ],
   "source": [
    "sns.histplot(data=train, x=\"property_age\", hue = 'fips')\n",
    "plt.title('Distribution of Tax Rates across Property Age')"
   ]
  },
  {
   "cell_type": "markdown",
   "metadata": {},
   "source": [
    "#### Majority of homes older than 60 years seem to be concentrated in LA."
   ]
  },
  {
   "cell_type": "markdown",
   "metadata": {},
   "source": [
    "### Correlation Heatmap"
   ]
  },
  {
   "cell_type": "code",
   "execution_count": 133,
   "metadata": {},
   "outputs": [
    {
     "data": {
      "image/png": "[encoded data removed]",
      "text/plain": [
       "<Figure size 748.8x514.8 with 2 Axes>"
      ]
     },
     "metadata": {
      "needs_background": "light"
     },
     "output_type": "display_data"
    }
   ],
   "source": [
    "sns.heatmap(train.corr(), cmap='YlGnBu', annot=True)\n",
    "plt.title('Correlation heatmap', fontsize = 18)\n",
    "plt.show()"
   ]
  },
  {
   "cell_type": "markdown",
   "metadata": {},
   "source": [
    "#### Heatmap Takeaways:\n",
    "- square feet has the biggest correlations with bedrooms and bathrooms\n",
    "- small correlation between tax_value and year built"
   ]
  },
  {
   "cell_type": "markdown",
   "metadata": {},
   "source": [
    "### Statistical Test (ttest)"
   ]
  },
  {
   "cell_type": "code",
   "execution_count": 134,
   "metadata": {},
   "outputs": [],
   "source": [
    "#set confidence interval and alpha before the test\n",
    "conf_interval = .95 # desired confidence interval\n",
    "alpha = 1 - conf_interval"
   ]
  },
  {
   "cell_type": "markdown",
   "metadata": {},
   "source": [
    "#### Test 1 (corr):¶\n",
    "- **Null Hypothesis (HO)** = there is no difference between the mean tax values of los angeles and orange county\n",
    "- **Alternative Hypothesis (HA)** = there is a difference between the mean tax values of los angeles and orange county\n"
   ]
  },
  {
   "cell_type": "code",
   "execution_count": 135,
   "metadata": {},
   "outputs": [],
   "source": [
    "la = train[train.fips == 6037]\n",
    "oc = train[train.fips == 6059]"
   ]
  },
  {
   "cell_type": "code",
   "execution_count": 136,
   "metadata": {},
   "outputs": [
    {
     "data": {
      "text/plain": [
       "(-26.367054921172247, 8.119013227131884e-152)"
      ]
     },
     "execution_count": 136,
     "metadata": {},
     "output_type": "execute_result"
    }
   ],
   "source": [
    "t, p = stats.ttest_ind(la.tax_value, oc.tax_value)\n",
    "t, p"
   ]
  },
  {
   "cell_type": "code",
   "execution_count": 137,
   "metadata": {},
   "outputs": [
    {
     "name": "stdout",
     "output_type": "stream",
     "text": [
      "Pvalue is: 8.119013227131884e-152 is less than alpha: 0.050000000000000044\n",
      "Reject the null hypothesis because there is a correlation present\n"
     ]
    }
   ],
   "source": [
    "#correlation test summary\n",
    "if p < alpha:\n",
    "    print(f'Pvalue is: {p} is less than alpha: {alpha}')\n",
    "    print(\"Reject the null hypothesis because there is a correlation present\")\n",
    "else:\n",
    "    print(f'Pvalue is: {p} is greater than alpha: {alpha}')\n",
    "    print(\"We fail to reject the null hypothesis because there is no significant correlation present\")"
   ]
  },
  {
   "cell_type": "markdown",
   "metadata": {},
   "source": [
    "#### There is a difference between the mean tax values of LA and OC"
   ]
  },
  {
   "cell_type": "markdown",
   "metadata": {},
   "source": [
    "### Feature Engineering"
   ]
  },
  {
   "cell_type": "code",
   "execution_count": 139,
   "metadata": {},
   "outputs": [],
   "source": [
    "def select_kbest(x, y, k):\n",
    "    \n",
    "    # parameters: f_regression stats test, give me  features\n",
    "    f_selector = SelectKBest(f_regression, k=k)\n",
    "    \n",
    "    # find the top  X's correlated with y\n",
    "    f_selector.fit(X_train_scaled, y_train)\n",
    "    \n",
    "    # boolean mask of whether the column was selected or not. \n",
    "    feature_mask = f_selector.get_support()\n",
    "    \n",
    "    f_feature = X_train_scaled.iloc[:,feature_mask].columns.tolist()\n",
    "    \n",
    "    return f_feature"
   ]
  },
  {
   "cell_type": "code",
   "execution_count": 141,
   "metadata": {},
   "outputs": [
    {
     "data": {
      "text/plain": [
       "['bedrooms', 'bathrooms', 'yearbuilt', 'square_feet', 'property_age']"
      ]
     },
     "execution_count": 141,
     "metadata": {},
     "output_type": "execute_result"
    }
   ],
   "source": [
    "select_kbest(X_train_scaled,'tax_value', 5 )"
   ]
  },
  {
   "cell_type": "code",
   "execution_count": 143,
   "metadata": {},
   "outputs": [
    {
     "data": {
      "text/plain": [
       "['bedrooms', 'bathrooms', 'square_feet', 'property_age']"
      ]
     },
     "execution_count": 143,
     "metadata": {},
     "output_type": "execute_result"
    }
   ],
   "source": [
    "select_kbest(X_train_scaled,'tax_value', 4 )"
   ]
  },
  {
   "cell_type": "code",
   "execution_count": 144,
   "metadata": {},
   "outputs": [
    {
     "data": {
      "text/plain": [
       "['bedrooms', 'bathrooms', 'square_feet']"
      ]
     },
     "execution_count": 144,
     "metadata": {},
     "output_type": "execute_result"
    }
   ],
   "source": [
    "select_kbest(X_train_scaled,'tax_value', 3 )"
   ]
  },
  {
   "cell_type": "markdown",
   "metadata": {},
   "source": [
    "#### Feature Engineering Takeaways:\n",
    "- top 3 features are bedrooms, bathrooms, and square feet which we explored earlier\n",
    "- next features to explore are yearbuilt and property age"
   ]
  },
  {
   "cell_type": "markdown",
   "metadata": {},
   "source": [
    "## Modeling"
   ]
  },
  {
   "cell_type": "code",
   "execution_count": 145,
   "metadata": {},
   "outputs": [
    {
     "data": {
      "text/html": [
       "<div>\n",
       "<style scoped>\n",
       "    .dataframe tbody tr th:only-of-type {\n",
       "        vertical-align: middle;\n",
       "    }\n",
       "\n",
       "    .dataframe tbody tr th {\n",
       "        vertical-align: top;\n",
       "    }\n",
       "\n",
       "    .dataframe thead th {\n",
       "        text-align: right;\n",
       "    }\n",
       "</style>\n",
       "<table border=\"1\" class=\"dataframe\">\n",
       "  <thead>\n",
       "    <tr style=\"text-align: right;\">\n",
       "      <th></th>\n",
       "      <th>bedrooms</th>\n",
       "      <th>bathrooms</th>\n",
       "      <th>yearbuilt</th>\n",
       "      <th>fips</th>\n",
       "      <th>square_feet</th>\n",
       "      <th>property_age</th>\n",
       "      <th>tax_rate</th>\n",
       "    </tr>\n",
       "    <tr>\n",
       "      <th>parcelid</th>\n",
       "      <th></th>\n",
       "      <th></th>\n",
       "      <th></th>\n",
       "      <th></th>\n",
       "      <th></th>\n",
       "      <th></th>\n",
       "      <th></th>\n",
       "    </tr>\n",
       "  </thead>\n",
       "  <tbody>\n",
       "    <tr>\n",
       "      <th>12815320</th>\n",
       "      <td>1.940945</td>\n",
       "      <td>2.247747</td>\n",
       "      <td>0.633090</td>\n",
       "      <td>-0.569695</td>\n",
       "      <td>2.709664</td>\n",
       "      <td>-0.633090</td>\n",
       "      <td>-0.200767</td>\n",
       "    </tr>\n",
       "    <tr>\n",
       "      <th>11490249</th>\n",
       "      <td>-0.944719</td>\n",
       "      <td>1.007104</td>\n",
       "      <td>0.504657</td>\n",
       "      <td>-0.569695</td>\n",
       "      <td>-0.387675</td>\n",
       "      <td>-0.504657</td>\n",
       "      <td>-0.201466</td>\n",
       "    </tr>\n",
       "    <tr>\n",
       "      <th>11695472</th>\n",
       "      <td>-1.906607</td>\n",
       "      <td>-1.474183</td>\n",
       "      <td>-2.021191</td>\n",
       "      <td>-0.569695</td>\n",
       "      <td>-1.104937</td>\n",
       "      <td>2.021191</td>\n",
       "      <td>-0.134502</td>\n",
       "    </tr>\n",
       "    <tr>\n",
       "      <th>12960692</th>\n",
       "      <td>0.017169</td>\n",
       "      <td>1.007104</td>\n",
       "      <td>0.633090</td>\n",
       "      <td>-0.569695</td>\n",
       "      <td>-0.266903</td>\n",
       "      <td>-0.633090</td>\n",
       "      <td>0.012039</td>\n",
       "    </tr>\n",
       "    <tr>\n",
       "      <th>13057060</th>\n",
       "      <td>0.979057</td>\n",
       "      <td>1.007104</td>\n",
       "      <td>1.489309</td>\n",
       "      <td>-0.569695</td>\n",
       "      <td>1.223589</td>\n",
       "      <td>-1.489309</td>\n",
       "      <td>0.154154</td>\n",
       "    </tr>\n",
       "  </tbody>\n",
       "</table>\n",
       "</div>"
      ],
      "text/plain": [
       "          bedrooms  bathrooms  yearbuilt      fips  square_feet  property_age  \\\n",
       "parcelid                                                                        \n",
       "12815320  1.940945   2.247747   0.633090 -0.569695     2.709664     -0.633090   \n",
       "11490249 -0.944719   1.007104   0.504657 -0.569695    -0.387675     -0.504657   \n",
       "11695472 -1.906607  -1.474183  -2.021191 -0.569695    -1.104937      2.021191   \n",
       "12960692  0.017169   1.007104   0.633090 -0.569695    -0.266903     -0.633090   \n",
       "13057060  0.979057   1.007104   1.489309 -0.569695     1.223589     -1.489309   \n",
       "\n",
       "          tax_rate  \n",
       "parcelid            \n",
       "12815320 -0.200767  \n",
       "11490249 -0.201466  \n",
       "11695472 -0.134502  \n",
       "12960692  0.012039  \n",
       "13057060  0.154154  "
      ]
     },
     "execution_count": 145,
     "metadata": {},
     "output_type": "execute_result"
    }
   ],
   "source": [
    "X_train_scaled.head()"
   ]
  },
  {
   "cell_type": "code",
   "execution_count": 146,
   "metadata": {},
   "outputs": [
    {
     "data": {
      "text/html": [
       "<div>\n",
       "<style scoped>\n",
       "    .dataframe tbody tr th:only-of-type {\n",
       "        vertical-align: middle;\n",
       "    }\n",
       "\n",
       "    .dataframe tbody tr th {\n",
       "        vertical-align: top;\n",
       "    }\n",
       "\n",
       "    .dataframe thead th {\n",
       "        text-align: right;\n",
       "    }\n",
       "</style>\n",
       "<table border=\"1\" class=\"dataframe\">\n",
       "  <thead>\n",
       "    <tr style=\"text-align: right;\">\n",
       "      <th></th>\n",
       "      <th>tax_value</th>\n",
       "    </tr>\n",
       "    <tr>\n",
       "      <th>parcelid</th>\n",
       "      <th></th>\n",
       "    </tr>\n",
       "  </thead>\n",
       "  <tbody>\n",
       "    <tr>\n",
       "      <th>12815320</th>\n",
       "      <td>581233.0</td>\n",
       "    </tr>\n",
       "    <tr>\n",
       "      <th>11490249</th>\n",
       "      <td>575755.0</td>\n",
       "    </tr>\n",
       "    <tr>\n",
       "      <th>11695472</th>\n",
       "      <td>137258.0</td>\n",
       "    </tr>\n",
       "    <tr>\n",
       "      <th>12960692</th>\n",
       "      <td>437512.0</td>\n",
       "    </tr>\n",
       "    <tr>\n",
       "      <th>13057060</th>\n",
       "      <td>646000.0</td>\n",
       "    </tr>\n",
       "  </tbody>\n",
       "</table>\n",
       "</div>"
      ],
      "text/plain": [
       "          tax_value\n",
       "parcelid           \n",
       "12815320   581233.0\n",
       "11490249   575755.0\n",
       "11695472   137258.0\n",
       "12960692   437512.0\n",
       "13057060   646000.0"
      ]
     },
     "execution_count": 146,
     "metadata": {},
     "output_type": "execute_result"
    }
   ],
   "source": [
    "#Create a Handy DataFrame for Evaluating Your Models or Model and Baseline Value.\n",
    "#turn series into df\n",
    "y_train = pd.DataFrame(y_train)\n",
    "y_validate = pd.DataFrame(y_validate)\n",
    "y_train.head()"
   ]
  },
  {
   "cell_type": "markdown",
   "metadata": {},
   "source": [
    "### Baseline\n"
   ]
  },
  {
   "cell_type": "code",
   "execution_count": 147,
   "metadata": {},
   "outputs": [],
   "source": [
    "# predict the median for ytrain and yvalidate\n",
    "baseline_median = y_train['tax_value'].median()\n",
    "y_train['baseline_median'] = baseline_median\n",
    "y_validate['baseline_median'] = baseline_median\n",
    "#predict the mean for ytrain and yvalidate\n",
    "baseline_mean = y_train['tax_value'].mean()\n",
    "y_train['baseline_mean'] = baseline_mean\n",
    "y_validate['baseline_mean'] = baseline_mean"
   ]
  },
  {
   "cell_type": "code",
   "execution_count": 150,
   "metadata": {},
   "outputs": [
    {
     "data": {
      "image/png": "[encoded data removed]",
      "text/plain": [
       "<Figure size 748.8x514.8 with 1 Axes>"
      ]
     },
     "metadata": {
      "needs_background": "light"
     },
     "output_type": "display_data"
    }
   ],
   "source": [
    "\n",
    "model.plot_residuals(y_train.tax_value, y_train.baseline_mean)"
   ]
  },
  {
   "cell_type": "code",
   "execution_count": 151,
   "metadata": {},
   "outputs": [
    {
     "data": {
      "image/png": "[encoded data removed]",
      "text/plain": [
       "<Figure size 748.8x514.8 with 1 Axes>"
      ]
     },
     "metadata": {
      "needs_background": "light"
     },
     "output_type": "display_data"
    }
   ],
   "source": [
    "model.plot_residuals(y_train.tax_value, y_train.baseline_median)"
   ]
  },
  {
   "cell_type": "code",
   "execution_count": 152,
   "metadata": {},
   "outputs": [
    {
     "data": {
      "text/plain": [
       "{'sse': 2669874206269131.0,\n",
       " 'mse': 65640807549.51888,\n",
       " 'rmse': 256204.62046871614}"
      ]
     },
     "execution_count": 152,
     "metadata": {},
     "output_type": "execute_result"
    }
   ],
   "source": [
    "#Evaluate the baseline model using the mean\n",
    "model.baseline_mean_errors(y_train.tax_value)\n",
    "\n"
   ]
  },
  {
   "cell_type": "code",
   "execution_count": 154,
   "metadata": {},
   "outputs": [
    {
     "data": {
      "text/plain": [
       "{'sse': 2762248820911300.5,\n",
       " 'mse': 67911904924.79964,\n",
       " 'rmse': 260599.1268688359}"
      ]
     },
     "execution_count": 154,
     "metadata": {},
     "output_type": "execute_result"
    }
   ],
   "source": [
    "#Evaluate the baseline model using the median\n",
    "model.baseline_median_errors(y_train.tax_value)"
   ]
  },
  {
   "cell_type": "code",
   "execution_count": 155,
   "metadata": {},
   "outputs": [
    {
     "name": "stdout",
     "output_type": "stream",
     "text": [
      "RMSE using Mean\n",
      "Train/In-Sample:  256204.62 \n",
      "Validate/Out-of-Sample:  256297.67\n"
     ]
    }
   ],
   "source": [
    "# RMSE of pred_mean\n",
    "rmse_train = mean_squared_error(y_train.tax_value, y_train.baseline_mean) ** .5\n",
    "rmse_validate = mean_squared_error(y_validate.tax_value, y_validate.baseline_mean) ** (1/2)\n",
    "\n",
    "print(\"RMSE using Mean\\nTrain/In-Sample: \", round(rmse_train, 2), \n",
    "      \"\\nValidate/Out-of-Sample: \", round(rmse_validate, 2))"
   ]
  },
  {
   "cell_type": "code",
   "execution_count": 156,
   "metadata": {},
   "outputs": [
    {
     "name": "stdout",
     "output_type": "stream",
     "text": [
      "RMSE using Median\n",
      "Train/In-Sample:  260599.13 \n",
      "Validate/Out-of-Sample:  260371.98\n"
     ]
    }
   ],
   "source": [
    "#RMSE of pred_median\n",
    "rmse_train = mean_squared_error(y_train.tax_value, y_train.baseline_median) ** .5\n",
    "rmse_validate = mean_squared_error(y_validate.tax_value, y_validate.baseline_median) ** .5\n",
    "print(\"RMSE using Median\\nTrain/In-Sample: \", round(rmse_train, 2), \n",
    "      \"\\nValidate/Out-of-Sample: \", round(rmse_validate, 2))"
   ]
  },
  {
   "cell_type": "code",
   "execution_count": 157,
   "metadata": {},
   "outputs": [],
   "source": [
    "#going to use mean\n"
   ]
  },
  {
   "cell_type": "markdown",
   "metadata": {},
   "source": [
    "## Train and Validate"
   ]
  },
  {
   "cell_type": "markdown",
   "metadata": {},
   "source": [
    "### Linear Regression OLS"
   ]
  },
  {
   "cell_type": "code",
   "execution_count": 158,
   "metadata": {},
   "outputs": [],
   "source": [
    "#make the thing\n",
    "lm = LinearRegression(normalize=True)\n",
    "#fit the thing\n",
    "#only fit on training\n",
    "lm.fit(X_train, y_train.tax_value)\n",
    "#use the thing\n",
    "y_train['pred_lm'] = lm.predict(X_train)\n",
    "y_train.head()\n",
    "\n",
    "rmse_train_lm = mean_squared_error(y_train.tax_value, y_train.pred_lm)**(0.5)\n",
    "# predict validate\n",
    "y_validate['pred_lm'] = lm.predict(X_validate)\n",
    "# evaluate: rmse\n",
    "rmse_validate_lm = mean_squared_error(y_validate.tax_value, y_validate.pred_lm)**(0.5)"
   ]
  },
  {
   "cell_type": "markdown",
   "metadata": {},
   "source": [
    "### Lasso Lars"
   ]
  },
  {
   "cell_type": "code",
   "execution_count": 159,
   "metadata": {},
   "outputs": [],
   "source": [
    "#make the thing\n",
    "lars = LassoLars(alpha=1.0)\n",
    "#fit the thing\n",
    "lars.fit(X_train, y_train.tax_value)\n",
    "#predict the thing: train\n",
    "y_train['pred_lars'] = lars.predict(X_train)\n",
    "# evaluate: rmse\n",
    "rmse_train_lars = mean_squared_error(y_train.tax_value, y_train.pred_lars)**(0.5)\n",
    "# predict the thing: validate\n",
    "y_validate['pred_lars'] = lars.predict(X_validate)\n",
    "# evaluate: rmse\n",
    "rmse_validate_lars = mean_squared_error(y_validate.tax_value, y_validate.pred_lars)**(0.5)"
   ]
  },
  {
   "cell_type": "markdown",
   "metadata": {},
   "source": [
    "### Tweedie Regressor"
   ]
  },
  {
   "cell_type": "code",
   "execution_count": 160,
   "metadata": {},
   "outputs": [],
   "source": [
    "#make the thing\n",
    "glm = TweedieRegressor(power=1, alpha=0)\n",
    "#fit the thing \n",
    "glm.fit(X_train, y_train.tax_value)\n",
    "#predict the thing: train\n",
    "y_train['pred_glm'] = glm.predict(X_train)\n",
    "# evaluate: rmse\n",
    "rmse_train_glm = mean_squared_error(y_train.tax_value, y_train.pred_glm)**(0.5)\n",
    "#predict the thing: validate\n",
    "# predict validate\n",
    "y_validate['pred_glm'] = glm.predict(X_validate)\n",
    "# evaluate: rmse\n",
    "rmse_validate_glm = mean_squared_error(y_validate.tax_value, y_validate.pred_glm)**(0.5)"
   ]
  },
  {
   "cell_type": "markdown",
   "metadata": {},
   "source": [
    "### Polynomial Regression"
   ]
  },
  {
   "cell_type": "code",
   "execution_count": 161,
   "metadata": {},
   "outputs": [],
   "source": [
    "# make the polynomial features to get a new set of features\n",
    "pf = PolynomialFeatures(degree=2)\n",
    "\n",
    "# fit and transform X_train_scaled\n",
    "X_train_degree2 = pf.fit_transform(X_train)\n",
    "\n",
    "# transform X_validate_scaled & X_test_scaled\n",
    "X_validate_degree2 = pf.transform(X_validate)\n",
    "X_test_degree2 = pf.transform(X_test)\n",
    "\n",
    "# create the model object\n",
    "lm2 = LinearRegression(normalize=True)\n",
    "\n",
    "# fit the model to our training data. We must specify the column in y_train, \n",
    "# since we have converted it to a dataframe from a series! \n",
    "lm2.fit(X_train_degree2, y_train.tax_value)\n",
    "\n",
    "# predict train\n",
    "y_train['pred_lm2'] = lm2.predict(X_train_degree2)\n",
    "\n",
    "# evaluate: rmse\n",
    "rmse_train_lm2 = mean_squared_error(y_train.tax_value, y_train.pred_lm2)**(0.5)\n",
    "\n",
    "# predict validate\n",
    "y_validate['pred_lm2'] = lm2.predict(X_validate_degree2)\n",
    "\n",
    "# evaluate: rmse\n",
    "rmse_validate_lm2 = mean_squared_error(y_validate.tax_value, y_validate.pred_lm2)**(0.5)"
   ]
  },
  {
   "cell_type": "code",
   "execution_count": 162,
   "metadata": {},
   "outputs": [
    {
     "name": "stdout",
     "output_type": "stream",
     "text": [
      "\n",
      "BASELINE:\n",
      "              \n",
      "RMSE using Median\n",
      "Train/In-Sample: 260599.13\n",
      "Validate/Out-of-Sample: 260371.98\n",
      "------------------------------------\n",
      "RMSE for OLS using LinearRegression:\n",
      "    \n",
      "Training/In-Sample: 213571.14\n",
      "Validation/Out-of-Sample: 213572.26\n",
      "------------------------------------\n",
      "RMSE for LassoLars:\n",
      "\n",
      "Training/In-Sample: 213567.0\n",
      "Validation/Out-of-Sample: 213555.93\n",
      "------------------------------------\n",
      "RMSE for GLM using Tweedie, power=1 & alpha=0:\n",
      "\n",
      "Training/In-Sample: 256204.62\n",
      "Validation/Out-of-Sample: 256297.67\n",
      "------------------------------------\n",
      "RMSE for Polynomial Model, degrees=2:\n",
      "\n",
      "Training/In-Sample: 202052.21\n",
      "Validation/Out-of-Sample: 203443.78\n",
      "\n",
      "\n"
     ]
    }
   ],
   "source": [
    "print(f'''\n",
    "BASELINE:\n",
    "              \n",
    "RMSE using Median\n",
    "Train/In-Sample: {round(rmse_train, 2)}\n",
    "Validate/Out-of-Sample: {round(rmse_validate, 2)}\n",
    "------------------------------------\n",
    "RMSE for OLS using LinearRegression:\n",
    "    \n",
    "Training/In-Sample: {round(rmse_train_lm, 2)}\n",
    "Validation/Out-of-Sample: {round(rmse_validate_lm, 2)}\n",
    "------------------------------------\n",
    "RMSE for LassoLars:\n",
    "\n",
    "Training/In-Sample: {round(rmse_train_lars, 2)}\n",
    "Validation/Out-of-Sample: {round(rmse_validate_lars, 2)}\n",
    "------------------------------------\n",
    "RMSE for GLM using Tweedie, power=1 & alpha=0:\n",
    "\n",
    "Training/In-Sample: {round(rmse_train_glm, 2)}\n",
    "Validation/Out-of-Sample: {round(rmse_validate_glm, 2)}\n",
    "------------------------------------\n",
    "RMSE for Polynomial Model, degrees=2:\n",
    "\n",
    "Training/In-Sample: {round(rmse_train_lm2, 2)}\n",
    "Validation/Out-of-Sample: {round(rmse_validate_lm2, 2)}\n",
    "\n",
    "''')"
   ]
  },
  {
   "cell_type": "markdown",
   "metadata": {},
   "source": [
    "## Evaluate"
   ]
  },
  {
   "cell_type": "code",
   "execution_count": 173,
   "metadata": {},
   "outputs": [
    {
     "data": {
      "image/png": "[encoded data removed]",
      "text/plain": [
       "<Figure size 1152x576 with 1 Axes>"
      ]
     },
     "metadata": {
      "needs_background": "light"
     },
     "output_type": "display_data"
    }
   ],
   "source": [
    "# y_validate.head()\n",
    "plt.figure(figsize=(16,8))\n",
    "plt.plot(y_validate.tax_value, y_validate.baseline_mean, alpha=.5, color=\"gray\", label='_nolegend_')\n",
    "plt.annotate(\"Baseline: Predict Using Mean\", (16, 9.5))\n",
    "plt.plot(y_validate.tax_value, y_validate.tax_value, alpha=.5, color=\"blue\", label='_nolegend_')\n",
    "plt.annotate(\"The Ideal Line: Predicted = Actual\", (.5, 3.5), rotation=15.5)\n",
    "\n",
    "plt.scatter(y_validate.tax_value, y_validate.pred_lm, \n",
    "            alpha=.5, color=\"orange\", s=100, label=\"Model: LinearRegression\")\n",
    "plt.scatter(y_validate.tax_value, y_validate.pred_glm, \n",
    "            alpha=.5, color=\"blue\", s=100, label=\"Model: TweedieRegressor\")\n",
    "plt.scatter(y_validate.tax_value, y_validate.pred_lm2, \n",
    "            alpha=.5, color=\"yellow\", s=100, label=\"Model 2nd degree Polynomial\")\n",
    "plt.legend()\n",
    "plt.xlabel(\"Actual Tax Value\")\n",
    "plt.ylabel(\"Predicted Tax Value\")\n",
    "plt.title(\"Where are predictions more extreme? More modest?\")\n",
    "# plt.annotate(\"The polynomial model appears to overreact to noise\", (2.0, -10))\n",
    "# plt.annotate(\"The OLS model (LinearRegression)\\n appears to be most consistent\", (15.5, 3))\n",
    "plt.show()"
   ]
  },
  {
   "cell_type": "code",
   "execution_count": 164,
   "metadata": {},
   "outputs": [],
   "source": [
    "metric_df = pd.DataFrame(data=[{\n",
    "    'model': 'mean_baseline', \n",
    "    'RMSE_validate': rmse_validate,\n",
    "    'r^2_validate': explained_variance_score(y_validate.tax_value, y_validate.baseline_mean)}])\n"
   ]
  },
  {
   "cell_type": "code",
   "execution_count": 165,
   "metadata": {},
   "outputs": [],
   "source": [
    "metric_df = metric_df.append({\n",
    "    'model': 'OLS Regressor', \n",
    "    'RMSE_validate': rmse_validate_lm,\n",
    "    'r^2_validate': explained_variance_score(y_validate.tax_value, y_validate.pred_lm)}, ignore_index=True)\n"
   ]
  },
  {
   "cell_type": "code",
   "execution_count": 166,
   "metadata": {},
   "outputs": [],
   "source": [
    "metric_df = metric_df.append({\n",
    "    'model': 'Lasso alpha 1', \n",
    "    'RMSE_validate': rmse_validate_lars,\n",
    "    'r^2_validate': explained_variance_score(y_validate.tax_value, y_validate.pred_lars)}, ignore_index=True)"
   ]
  },
  {
   "cell_type": "code",
   "execution_count": 167,
   "metadata": {},
   "outputs": [],
   "source": [
    "metric_df = metric_df.append({\n",
    "    'model': 'GLS (Poisson)', \n",
    "    'RMSE_validate': rmse_validate_glm,\n",
    "    'r^2_validate': explained_variance_score(y_validate.tax_value, y_validate.pred_glm)}, ignore_index=True)"
   ]
  },
  {
   "cell_type": "code",
   "execution_count": 168,
   "metadata": {},
   "outputs": [],
   "source": [
    "metric_df = metric_df.append({\n",
    "    'model': 'Quadratic Model', \n",
    "    'RMSE_validate': rmse_validate_lm2,\n",
    "    'r^2_validate': explained_variance_score(y_validate.tax_value, y_validate.pred_lm2)}, ignore_index=True)\n"
   ]
  },
  {
   "cell_type": "code",
   "execution_count": 169,
   "metadata": {},
   "outputs": [
    {
     "data": {
      "text/html": [
       "<div>\n",
       "<style scoped>\n",
       "    .dataframe tbody tr th:only-of-type {\n",
       "        vertical-align: middle;\n",
       "    }\n",
       "\n",
       "    .dataframe tbody tr th {\n",
       "        vertical-align: top;\n",
       "    }\n",
       "\n",
       "    .dataframe thead th {\n",
       "        text-align: right;\n",
       "    }\n",
       "</style>\n",
       "<table border=\"1\" class=\"dataframe\">\n",
       "  <thead>\n",
       "    <tr style=\"text-align: right;\">\n",
       "      <th></th>\n",
       "      <th>model</th>\n",
       "      <th>RMSE_validate</th>\n",
       "      <th>r^2_validate</th>\n",
       "    </tr>\n",
       "  </thead>\n",
       "  <tbody>\n",
       "    <tr>\n",
       "      <th>0</th>\n",
       "      <td>mean_baseline</td>\n",
       "      <td>260371.981338</td>\n",
       "      <td>0.000000</td>\n",
       "    </tr>\n",
       "    <tr>\n",
       "      <th>1</th>\n",
       "      <td>OLS Regressor</td>\n",
       "      <td>213572.259255</td>\n",
       "      <td>0.305824</td>\n",
       "    </tr>\n",
       "    <tr>\n",
       "      <th>2</th>\n",
       "      <td>Lasso alpha 1</td>\n",
       "      <td>213555.925117</td>\n",
       "      <td>0.305692</td>\n",
       "    </tr>\n",
       "    <tr>\n",
       "      <th>3</th>\n",
       "      <td>GLS (Poisson)</td>\n",
       "      <td>256297.668893</td>\n",
       "      <td>0.000000</td>\n",
       "    </tr>\n",
       "    <tr>\n",
       "      <th>4</th>\n",
       "      <td>Quadratic Model</td>\n",
       "      <td>203443.784923</td>\n",
       "      <td>0.369886</td>\n",
       "    </tr>\n",
       "  </tbody>\n",
       "</table>\n",
       "</div>"
      ],
      "text/plain": [
       "             model  RMSE_validate  r^2_validate\n",
       "0    mean_baseline  260371.981338      0.000000\n",
       "1    OLS Regressor  213572.259255      0.305824\n",
       "2    Lasso alpha 1  213555.925117      0.305692\n",
       "3    GLS (Poisson)  256297.668893      0.000000\n",
       "4  Quadratic Model  203443.784923      0.369886"
      ]
     },
     "execution_count": 169,
     "metadata": {},
     "output_type": "execute_result"
    }
   ],
   "source": [
    "metric_df   "
   ]
  },
  {
   "cell_type": "markdown",
   "metadata": {},
   "source": [
    "## TEST OUR BEST\n",
    "- the best model was the polynomial model again with r^2 of 0.37, so we will test on this model"
   ]
  },
  {
   "cell_type": "code",
   "execution_count": 170,
   "metadata": {},
   "outputs": [
    {
     "name": "stdout",
     "output_type": "stream",
     "text": [
      "\n",
      "RMSE for Polynomial Regressor, degrees=2:\n",
      "    \n",
      "Test/Out-of-Sample Performance: 200755.24385146907\n",
      "\n"
     ]
    }
   ],
   "source": [
    "y_test = pd.DataFrame(y_test)\n",
    "\n",
    "#predict on test\n",
    "y_test['pred_lm2'] = lm2.predict(X_test_degree2)\n",
    "\n",
    "# evaluate: rmse\n",
    "rmse_test = mean_squared_error(y_test.tax_value, y_test.pred_lm2)**(0.5)\n",
    "\n",
    "print(f\"\"\"\n",
    "RMSE for Polynomial Regressor, degrees=2:\n",
    "    \n",
    "Test/Out-of-Sample Performance: {rmse_test}\n",
    "\"\"\")"
   ]
  },
  {
   "cell_type": "code",
   "execution_count": null,
   "metadata": {},
   "outputs": [],
   "source": []
  }
 ],
 "metadata": {
  "kernelspec": {
   "display_name": "Python 3",
   "language": "python",
   "name": "python3"
  },
  "language_info": {
   "codemirror_mode": {
    "name": "ipython",
    "version": 3
   },
   "file_extension": ".py",
   "mimetype": "text/x-python",
   "name": "python",
   "nbconvert_exporter": "python",
   "pygments_lexer": "ipython3",
   "version": "3.8.5"
  }
 },
 "nbformat": 4,
 "nbformat_minor": 4
}
